{
 "cells": [
  {
   "cell_type": "markdown",
   "metadata": {
    "slideshow": {
     "slide_type": "slide"
    }
   },
   "source": [
    "# Stringhe"
   ]
  },
  {
   "cell_type": "markdown",
   "metadata": {
    "slideshow": {
     "slide_type": "slide"
    }
   },
   "source": [
    "# Stringhe\n",
    "\n",
    "Una stringa è una sequenza di caratteri immutabile.\n",
    "\n",
    "Si dichiara includendo il contenuto tra apici singoli o doppi:"
   ]
  },
  {
   "cell_type": "code",
   "execution_count": 59,
   "metadata": {
    "slideshow": {
     "slide_type": "-"
    }
   },
   "outputs": [],
   "source": [
    "name = 'Victor'\n",
    "surname = \"Frankenstein\""
   ]
  },
  {
   "cell_type": "markdown",
   "metadata": {
    "slideshow": {
     "slide_type": "slide"
    }
   },
   "source": [
    "### Escaping"
   ]
  },
  {
   "cell_type": "markdown",
   "metadata": {
    "slideshow": {
     "slide_type": "-"
    }
   },
   "source": [
    "Il carattere di escape è __\\__"
   ]
  },
  {
   "cell_type": "code",
   "execution_count": 9,
   "metadata": {
    "slideshow": {
     "slide_type": "-"
    }
   },
   "outputs": [
    {
     "name": "stdout",
     "output_type": "stream",
     "text": [
      "stringa con due \"\" apici\n"
     ]
    }
   ],
   "source": [
    "print(\"stringa con due \\\"\\\" apici\")"
   ]
  },
  {
   "cell_type": "code",
   "execution_count": 8,
   "metadata": {
    "slideshow": {
     "slide_type": "-"
    }
   },
   "outputs": [
    {
     "name": "stdout",
     "output_type": "stream",
     "text": [
      "stringa\n",
      "con\ttab\n"
     ]
    }
   ],
   "source": [
    "print(\"stringa\\ncon\\ttab\")"
   ]
  },
  {
   "cell_type": "code",
   "execution_count": 10,
   "metadata": {
    "slideshow": {
     "slide_type": "-"
    }
   },
   "outputs": [
    {
     "name": "stdout",
     "output_type": "stream",
     "text": [
      "stringa\\ncon\\ttab\n"
     ]
    }
   ],
   "source": [
    "print(\"stringa\\\\ncon\\\\ttab\")"
   ]
  },
  {
   "cell_type": "markdown",
   "metadata": {
    "slideshow": {
     "slide_type": "slide"
    }
   },
   "source": [
    "### Stringhe multilinea\n",
    "\n",
    "E' possibile dichiarare stringhe multilinea utilizzando i tripli apici:"
   ]
  },
  {
   "cell_type": "code",
   "execution_count": 12,
   "metadata": {
    "slideshow": {
     "slide_type": "-"
    }
   },
   "outputs": [],
   "source": [
    "query = \"\"\"\\\n",
    "SELECT\n",
    "    u.name,\n",
    "    u.surname,\n",
    "    u.address,\n",
    "    c.name AS company_name\n",
    "FROM users u\n",
    "JOIN company c ON c.id = u.company_id\n",
    "WHERE u.name = 'bob'\"\"\""
   ]
  },
  {
   "cell_type": "markdown",
   "metadata": {
    "slideshow": {
     "slide_type": "slide"
    }
   },
   "source": [
    "### Concatenazione\n",
    "\n",
    "Tramite l'operatore di addizione si possono concatenare due o più stringhe:"
   ]
  },
  {
   "cell_type": "code",
   "execution_count": 1,
   "metadata": {
    "slideshow": {
     "slide_type": "-"
    }
   },
   "outputs": [
    {
     "data": {
      "text/plain": [
       "'Hello, World!'"
      ]
     },
     "execution_count": 1,
     "metadata": {},
     "output_type": "execute_result"
    }
   ],
   "source": [
    "\"Hello\" + \", \" + \"World!\""
   ]
  },
  {
   "cell_type": "markdown",
   "metadata": {
    "slideshow": {
     "slide_type": "-"
    }
   },
   "source": [
    "Concatenare tipi non compatibili solleverà un'eccezione di tipo **TypeError**:"
   ]
  },
  {
   "cell_type": "code",
   "execution_count": 6,
   "metadata": {
    "slideshow": {
     "slide_type": "-"
    }
   },
   "outputs": [
    {
     "ename": "TypeError",
     "evalue": "must be str, not int",
     "output_type": "error",
     "traceback": [
      "\u001b[1;31m---------------------------------------------------------------------------\u001b[0m",
      "\u001b[1;31mTypeError\u001b[0m                                 Traceback (most recent call last)",
      "\u001b[1;32m<ipython-input-6-a12484a6a6ce>\u001b[0m in \u001b[0;36m<module>\u001b[1;34m()\u001b[0m\n\u001b[1;32m----> 1\u001b[1;33m \u001b[1;34m\"Hello \"\u001b[0m \u001b[1;33m+\u001b[0m \u001b[1;36m2\u001b[0m \u001b[1;33m+\u001b[0m \u001b[1;34m\" you!\"\u001b[0m\u001b[1;33m\u001b[0m\u001b[0m\n\u001b[0m",
      "\u001b[1;31mTypeError\u001b[0m: must be str, not int"
     ]
    }
   ],
   "source": [
    "\"Hello \" + 2 + \" you!\""
   ]
  },
  {
   "cell_type": "markdown",
   "metadata": {
    "slideshow": {
     "slide_type": "slide"
    }
   },
   "source": [
    "### Divisione e unione di stringhe\n",
    "\n",
    "**split()** restituisce una lista di elementi dividendo la stringa ad ogni occorrenza di un separatore.\n",
    "\n",
    "Se non viene specificato alcun separatore si assumono uno o più spazi:"
   ]
  },
  {
   "cell_type": "code",
   "execution_count": 30,
   "metadata": {
    "slideshow": {
     "slide_type": "-"
    }
   },
   "outputs": [],
   "source": [
    "stringa = \"Sempre caro mi fu quest'ermo colle\""
   ]
  },
  {
   "cell_type": "code",
   "execution_count": 29,
   "metadata": {
    "slideshow": {
     "slide_type": "-"
    }
   },
   "outputs": [
    {
     "data": {
      "text/plain": [
       "['Sempre', 'caro', 'mi', 'fu', \"quest'ermo\", 'colle']"
      ]
     },
     "execution_count": 29,
     "metadata": {},
     "output_type": "execute_result"
    }
   ],
   "source": [
    "stringa.split()"
   ]
  },
  {
   "cell_type": "code",
   "execution_count": 26,
   "metadata": {
    "slideshow": {
     "slide_type": "-"
    }
   },
   "outputs": [
    {
     "data": {
      "text/plain": [
       "['Sempre caro mi fu quest', 'ermo colle']"
      ]
     },
     "execution_count": 26,
     "metadata": {},
     "output_type": "execute_result"
    }
   ],
   "source": [
    "stringa.split(\"'\")"
   ]
  },
  {
   "cell_type": "markdown",
   "metadata": {
    "slideshow": {
     "slide_type": "slide"
    }
   },
   "source": [
    "### Divisione ed unione di stringhe\n",
    "\n",
    "Per dividere una stringa ad ogni riga è consigliabile invece **splitlines()**:"
   ]
  },
  {
   "cell_type": "code",
   "execution_count": 13,
   "metadata": {
    "slideshow": {
     "slide_type": "-"
    }
   },
   "outputs": [],
   "source": [
    "stringa = \"\"\"\\\n",
    "lo: Disabled Privacy Extensions\n",
    "e1000: eth0 NIC Link is Up 1000 Mbps Full Duplex, Flow Control: None\n",
    "Slow work thread pool: Starting up\n",
    "Slow work thread pool: Ready\"\"\""
   ]
  },
  {
   "cell_type": "code",
   "execution_count": 20,
   "metadata": {
    "slideshow": {
     "slide_type": "-"
    }
   },
   "outputs": [
    {
     "data": {
      "text/plain": [
       "['lo: Disabled Privacy Extensions',\n",
       " 'e1000: eth0 NIC Link is Up 1000 Mbps Full Duplex, Flow Control: None',\n",
       " 'Slow work thread pool: Starting up',\n",
       " 'Slow work thread pool: Ready']"
      ]
     },
     "execution_count": 20,
     "metadata": {},
     "output_type": "execute_result"
    }
   ],
   "source": [
    "stringa.splitlines()"
   ]
  },
  {
   "cell_type": "markdown",
   "metadata": {
    "slideshow": {
     "slide_type": "slide"
    }
   },
   "source": [
    "### Divisione ed unione di stringhe\n",
    "\n",
    "**join()** crea una stringa a partire da una lista.\n",
    "\n",
    "Attenzione: è un metodo dell'oggetto stringa, non della lista!"
   ]
  },
  {
   "cell_type": "code",
   "execution_count": 31,
   "metadata": {
    "slideshow": {
     "slide_type": "-"
    }
   },
   "outputs": [],
   "source": [
    "lista = ['Sempre', 'caro', 'mi', 'fu', \"quest'ermo\", 'colle']"
   ]
  },
  {
   "cell_type": "code",
   "execution_count": 33,
   "metadata": {
    "slideshow": {
     "slide_type": "-"
    }
   },
   "outputs": [
    {
     "data": {
      "text/plain": [
       "\"Sempre caro mi fu quest'ermo colle\""
      ]
     },
     "execution_count": 33,
     "metadata": {},
     "output_type": "execute_result"
    }
   ],
   "source": [
    "\" \".join(lista)"
   ]
  },
  {
   "cell_type": "markdown",
   "metadata": {
    "slideshow": {
     "slide_type": "slide"
    }
   },
   "source": [
    "### Stringhe come sequenze di caratteri\n",
    "\n",
    "Le stringhe oltre ad avere le loro proprietà peculiari sono a tutti effetti delle sequenze, così come le liste e le tuple.\n",
    "\n",
    "Questo significa che è possibile:\n",
    "- _Iterare_ sul loro contenuto\n",
    "- Utilizzare la sintassi di _slicing_\n",
    "- len(), reversed(), sorted(), ..\n",
    "- etc.."
   ]
  },
  {
   "cell_type": "markdown",
   "metadata": {
    "slideshow": {
     "slide_type": "slide"
    }
   },
   "source": [
    "### Stringhe come sequenze di caratteri\n",
    "\n",
    "![I Know Polymorphism](../images/i-know-polymorphism.jpg)"
   ]
  },
  {
   "cell_type": "markdown",
   "metadata": {
    "slideshow": {
     "slide_type": "slide"
    }
   },
   "source": [
    "### Stringhe come sequenze di caratteri\n",
    "\n",
    "E' possibile accedere ai singoli caratteri indicando tra parentesi quadre l'_indice_:"
   ]
  },
  {
   "cell_type": "code",
   "execution_count": 71,
   "metadata": {
    "slideshow": {
     "slide_type": "-"
    }
   },
   "outputs": [],
   "source": [
    "city = \"Torino\""
   ]
  },
  {
   "cell_type": "code",
   "execution_count": 73,
   "metadata": {},
   "outputs": [
    {
     "data": {
      "text/plain": [
       "'i'"
      ]
     },
     "execution_count": 73,
     "metadata": {},
     "output_type": "execute_result"
    }
   ],
   "source": [
    "city[3]"
   ]
  },
  {
   "cell_type": "code",
   "execution_count": 75,
   "metadata": {
    "slideshow": {
     "slide_type": "-"
    }
   },
   "outputs": [
    {
     "data": {
      "text/plain": [
       "'o'"
      ]
     },
     "execution_count": 75,
     "metadata": {},
     "output_type": "execute_result"
    }
   ],
   "source": [
    "city[-1]"
   ]
  },
  {
   "cell_type": "markdown",
   "metadata": {
    "slideshow": {
     "slide_type": "slide"
    }
   },
   "source": [
    "### Stringhe come sequenze di caratteri\n",
    "\n",
    "E' anche possibile iterare sui singoli caratteri che compongono una stringa:"
   ]
  },
  {
   "cell_type": "code",
   "execution_count": 77,
   "metadata": {
    "slideshow": {
     "slide_type": "-"
    }
   },
   "outputs": [
    {
     "name": "stdout",
     "output_type": "stream",
     "text": [
      "T\n",
      "o\n",
      "r\n",
      "i\n",
      "n\n",
      "o\n"
     ]
    }
   ],
   "source": [
    "for char in \"Torino\":\n",
    "    print(char)"
   ]
  },
  {
   "cell_type": "markdown",
   "metadata": {
    "slideshow": {
     "slide_type": "slide"
    }
   },
   "source": [
    "### Stringhe come sequenze di caratteri\n",
    "\n",
    "Tramite l'operatore **in** è possibile verificare la presenza di un carattere all'interno di una stringa:"
   ]
  },
  {
   "cell_type": "code",
   "execution_count": 78,
   "metadata": {
    "slideshow": {
     "slide_type": "-"
    }
   },
   "outputs": [
    {
     "data": {
      "text/plain": [
       "True"
      ]
     },
     "execution_count": 78,
     "metadata": {},
     "output_type": "execute_result"
    }
   ],
   "source": [
    "'o' in \"Torino\""
   ]
  },
  {
   "cell_type": "code",
   "execution_count": 80,
   "metadata": {
    "slideshow": {
     "slide_type": "-"
    }
   },
   "outputs": [
    {
     "data": {
      "text/plain": [
       "True"
      ]
     },
     "execution_count": 80,
     "metadata": {},
     "output_type": "execute_result"
    }
   ],
   "source": [
    "'rin' in \"Torino\""
   ]
  },
  {
   "cell_type": "markdown",
   "metadata": {
    "slideshow": {
     "slide_type": "slide"
    }
   },
   "source": [
    "### Slicing\n",
    "\n",
    "E' possibile accedere a porzioni di una stringa definendo un intervallo nella forma **[start:end{:stride}]**:"
   ]
  },
  {
   "cell_type": "code",
   "execution_count": 89,
   "metadata": {
    "slideshow": {
     "slide_type": "-"
    }
   },
   "outputs": [
    {
     "name": "stdout",
     "output_type": "stream",
     "text": [
      "is\n",
      "implicit\n",
      "than implicit\n"
     ]
    }
   ],
   "source": [
    "sentence = \"Explicit is better than implicit\"\n",
    "# caratteri compresi tra la posizione 9 e la 11 (esclusa)\n",
    "print(sentence[9:11])\n",
    "# caratteri compresi tra la posizione 24 e l'ultimo carattere\n",
    "print(sentence[24:])\n",
    "# caratteri compresi tra la posizione 8 partendo dal fondo e l'ultimo carattere\n",
    "print(sentence[-13:])"
   ]
  },
  {
   "cell_type": "markdown",
   "metadata": {
    "slideshow": {
     "slide_type": "slide"
    }
   },
   "source": [
    "### Slicing"
   ]
  },
  {
   "cell_type": "code",
   "execution_count": 90,
   "metadata": {
    "slideshow": {
     "slide_type": "-"
    }
   },
   "outputs": [
    {
     "data": {
      "text/plain": [
       "'ticilpmi naht retteb si ticilpxE'"
      ]
     },
     "execution_count": 90,
     "metadata": {},
     "output_type": "execute_result"
    }
   ],
   "source": [
    "sentence[::-1]"
   ]
  },
  {
   "cell_type": "code",
   "execution_count": 83,
   "metadata": {
    "slideshow": {
     "slide_type": "-"
    }
   },
   "outputs": [
    {
     "data": {
      "text/plain": [
       "'i sbte hnipii'"
      ]
     },
     "execution_count": 83,
     "metadata": {},
     "output_type": "execute_result"
    }
   ],
   "source": [
    "sentence[6::2]"
   ]
  },
  {
   "cell_type": "code",
   "execution_count": 85,
   "metadata": {
    "slideshow": {
     "slide_type": "-"
    }
   },
   "outputs": [
    {
     "data": {
      "text/plain": [
       "'tteb si ti'"
      ]
     },
     "execution_count": 85,
     "metadata": {},
     "output_type": "execute_result"
    }
   ],
   "source": [
    "sentence[15:5:-1]"
   ]
  },
  {
   "cell_type": "markdown",
   "metadata": {
    "slideshow": {
     "slide_type": "slide"
    }
   },
   "source": [
    "### Stringhe come sequenze di caratteri"
   ]
  },
  {
   "cell_type": "code",
   "execution_count": 1,
   "metadata": {
    "slideshow": {
     "slide_type": "-"
    }
   },
   "outputs": [
    {
     "data": {
      "text/plain": [
       "32"
      ]
     },
     "execution_count": 1,
     "metadata": {},
     "output_type": "execute_result"
    }
   ],
   "source": [
    "len(\"Explicit is better than implicit\")"
   ]
  },
  {
   "cell_type": "code",
   "execution_count": 10,
   "metadata": {
    "slideshow": {
     "slide_type": "-"
    }
   },
   "outputs": [
    {
     "data": {
      "text/plain": [
       "' '"
      ]
     },
     "execution_count": 10,
     "metadata": {},
     "output_type": "execute_result"
    }
   ],
   "source": [
    "min(\"Explicit is better than implicit\")"
   ]
  },
  {
   "cell_type": "code",
   "execution_count": 11,
   "metadata": {
    "slideshow": {
     "slide_type": "-"
    }
   },
   "outputs": [
    {
     "data": {
      "text/plain": [
       "'x'"
      ]
     },
     "execution_count": 11,
     "metadata": {},
     "output_type": "execute_result"
    }
   ],
   "source": [
    "max(\"Explicit is better than implicit\")"
   ]
  },
  {
   "cell_type": "markdown",
   "metadata": {
    "slideshow": {
     "slide_type": "slide"
    }
   },
   "source": [
    "### Ricerca di sottostringhe"
   ]
  },
  {
   "cell_type": "code",
   "execution_count": 40,
   "metadata": {
    "slideshow": {
     "slide_type": "-"
    }
   },
   "outputs": [
    {
     "data": {
      "text/plain": [
       "True"
      ]
     },
     "execution_count": 40,
     "metadata": {},
     "output_type": "execute_result"
    }
   ],
   "source": [
    "\"is\" in \"Explicit is better than implicit\""
   ]
  },
  {
   "cell_type": "code",
   "execution_count": 37,
   "metadata": {
    "slideshow": {
     "slide_type": "-"
    }
   },
   "outputs": [
    {
     "data": {
      "text/plain": [
       "12"
      ]
     },
     "execution_count": 37,
     "metadata": {},
     "output_type": "execute_result"
    }
   ],
   "source": [
    "\"Explicit is better than implicit\".find(\"better\")"
   ]
  },
  {
   "cell_type": "code",
   "execution_count": 38,
   "metadata": {
    "slideshow": {
     "slide_type": "-"
    }
   },
   "outputs": [
    {
     "data": {
      "text/plain": [
       "True"
      ]
     },
     "execution_count": 38,
     "metadata": {},
     "output_type": "execute_result"
    }
   ],
   "source": [
    "\"Explicit is better than implicit\".endswith(\"plicit\")"
   ]
  },
  {
   "cell_type": "code",
   "execution_count": 39,
   "metadata": {
    "slideshow": {
     "slide_type": "-"
    }
   },
   "outputs": [
    {
     "data": {
      "text/plain": [
       "False"
      ]
     },
     "execution_count": 39,
     "metadata": {},
     "output_type": "execute_result"
    }
   ],
   "source": [
    "\"Explicit is better than implicit\".startswith(\"better\")"
   ]
  },
  {
   "cell_type": "markdown",
   "metadata": {
    "slideshow": {
     "slide_type": "slide"
    }
   },
   "source": [
    "### Sostituzione di sottostringhe"
   ]
  },
  {
   "cell_type": "code",
   "execution_count": 60,
   "metadata": {
    "slideshow": {
     "slide_type": "-"
    }
   },
   "outputs": [],
   "source": [
    "text = \"Explicit is better than implicit\""
   ]
  },
  {
   "cell_type": "code",
   "execution_count": 61,
   "metadata": {
    "slideshow": {
     "slide_type": "-"
    }
   },
   "outputs": [
    {
     "data": {
      "text/plain": [
       "'Explicit is worse than implicit'"
      ]
     },
     "execution_count": 61,
     "metadata": {},
     "output_type": "execute_result"
    }
   ],
   "source": [
    "text.replace(\"better\", \"worse\")"
   ]
  },
  {
   "cell_type": "code",
   "execution_count": 68,
   "metadata": {
    "slideshow": {
     "slide_type": "-"
    }
   },
   "outputs": [
    {
     "data": {
      "text/plain": [
       "'Explocot os buttur than omplocot'"
      ]
     },
     "execution_count": 68,
     "metadata": {},
     "output_type": "execute_result"
    }
   ],
   "source": [
    "text.translate({ord('i'): 'o', ord('e'): 'u'})"
   ]
  },
  {
   "cell_type": "markdown",
   "metadata": {
    "slideshow": {
     "slide_type": "slide"
    }
   },
   "source": [
    "### Tipo di contenuto"
   ]
  },
  {
   "cell_type": "code",
   "execution_count": 45,
   "metadata": {
    "slideshow": {
     "slide_type": "-"
    }
   },
   "outputs": [
    {
     "data": {
      "text/plain": [
       "True"
      ]
     },
     "execution_count": 45,
     "metadata": {},
     "output_type": "execute_result"
    }
   ],
   "source": [
    "\"123\".isdigit()"
   ]
  },
  {
   "cell_type": "code",
   "execution_count": 46,
   "metadata": {},
   "outputs": [
    {
     "data": {
      "text/plain": [
       "True"
      ]
     },
     "execution_count": 46,
     "metadata": {},
     "output_type": "execute_result"
    }
   ],
   "source": [
    "\"sentencelowercase\".islower()"
   ]
  },
  {
   "cell_type": "code",
   "execution_count": 53,
   "metadata": {},
   "outputs": [
    {
     "data": {
      "text/plain": [
       "True"
      ]
     },
     "execution_count": 53,
     "metadata": {},
     "output_type": "execute_result"
    }
   ],
   "source": [
    "\"    \".isspace()"
   ]
  },
  {
   "cell_type": "markdown",
   "metadata": {
    "slideshow": {
     "slide_type": "slide"
    }
   },
   "source": [
    "## Formattazione delle stringhe\n",
    "\n",
    "L'operatore **%** consente di formattare le stringhe con degli argomenti posizionali.\n",
    "\n",
    "La sintassi ricalca quella della funzione C printf():"
   ]
  },
  {
   "cell_type": "code",
   "execution_count": 1,
   "metadata": {},
   "outputs": [
    {
     "name": "stdout",
     "output_type": "stream",
     "text": [
      "Hello world\n"
     ]
    }
   ],
   "source": [
    "print(\"Hello %s\" % \"world\")"
   ]
  },
  {
   "cell_type": "code",
   "execution_count": 2,
   "metadata": {
    "slideshow": {
     "slide_type": "-"
    }
   },
   "outputs": [
    {
     "name": "stdout",
     "output_type": "stream",
     "text": [
      "Ci sono 2 mele nel cesto\n"
     ]
    }
   ],
   "source": [
    "print(\"Ci sono %d %s nel cesto\" % (2, \"mele\"))"
   ]
  },
  {
   "cell_type": "code",
   "execution_count": 3,
   "metadata": {
    "slideshow": {
     "slide_type": "-"
    }
   },
   "outputs": [
    {
     "name": "stdout",
     "output_type": "stream",
     "text": [
      "1024.00 = 1024 = 1.024000e+03\n"
     ]
    }
   ],
   "source": [
    "print(\"%0.2f = %d = %e\" % (1024, 1024, 1024))"
   ]
  },
  {
   "cell_type": "markdown",
   "metadata": {
    "slideshow": {
     "slide_type": "slide"
    }
   },
   "source": [
    "### Conversione dei valori\n",
    "\n",
    "Simboli principali:\n",
    "\n",
    "| Simbolo | Conversione | Esempio |\n",
    "|:-------------:|-------------:|:--------:|\n",
    "| %c | carattere | 'a' |\n",
    "| %s | stringa | \"apple\" |\n",
    "| %d | decimale (con segno) | 1024 |\n",
    "| %u | decimale (senza segno) | -1024|\n",
    "| %f | decimale | 2.67 |"
   ]
  },
  {
   "cell_type": "markdown",
   "metadata": {
    "slideshow": {
     "slide_type": "slide"
    }
   },
   "source": [
    "### Padding e allineamento"
   ]
  },
  {
   "cell_type": "code",
   "execution_count": 13,
   "metadata": {
    "slideshow": {
     "slide_type": "-"
    }
   },
   "outputs": [
    {
     "name": "stdout",
     "output_type": "stream",
     "text": [
      "                test\n",
      "test                \n"
     ]
    }
   ],
   "source": [
    "print(\"%20s\" % \"test\")\n",
    "print(\"%-20s\" % \"test\")"
   ]
  },
  {
   "cell_type": "code",
   "execution_count": 23,
   "metadata": {
    "slideshow": {
     "slide_type": "-"
    }
   },
   "outputs": [
    {
     "name": "stdout",
     "output_type": "stream",
     "text": [
      "      1024\n",
      "1024      \n"
     ]
    }
   ],
   "source": [
    "print(\"%10d\" % 1024)\n",
    "print(\"%-10d\" % 1024)"
   ]
  },
  {
   "cell_type": "markdown",
   "metadata": {
    "slideshow": {
     "slide_type": "slide"
    }
   },
   "source": [
    "### Precisione"
   ]
  },
  {
   "cell_type": "code",
   "execution_count": 1,
   "metadata": {
    "slideshow": {
     "slide_type": "-"
    }
   },
   "outputs": [],
   "source": [
    "frase = \"Sempre caro mi fu quest'ermo colle\""
   ]
  },
  {
   "cell_type": "code",
   "execution_count": 3,
   "metadata": {
    "slideshow": {
     "slide_type": "-"
    }
   },
   "outputs": [
    {
     "name": "stdout",
     "output_type": "stream",
     "text": [
      "Sempre caro mi fu qu\n"
     ]
    }
   ],
   "source": [
    "print(\"%.20s\" % frase)"
   ]
  },
  {
   "cell_type": "code",
   "execution_count": 5,
   "metadata": {
    "slideshow": {
     "slide_type": "-"
    }
   },
   "outputs": [],
   "source": [
    "from math import pi"
   ]
  },
  {
   "cell_type": "code",
   "execution_count": 8,
   "metadata": {
    "slideshow": {
     "slide_type": "-"
    }
   },
   "outputs": [
    {
     "name": "stdout",
     "output_type": "stream",
     "text": [
      "3.1416\n"
     ]
    }
   ],
   "source": [
    "print(\"%.4f\" % pi)"
   ]
  },
  {
   "cell_type": "markdown",
   "metadata": {
    "slideshow": {
     "slide_type": "slide"
    }
   },
   "source": [
    "### Combinare più stili"
   ]
  },
  {
   "cell_type": "code",
   "execution_count": null,
   "metadata": {
    "slideshow": {
     "slide_type": "-"
    }
   },
   "outputs": [],
   "source": [
    "frase = \"Sempre caro mi fu quest'ermo colle\""
   ]
  },
  {
   "cell_type": "code",
   "execution_count": 16,
   "metadata": {
    "slideshow": {
     "slide_type": "-"
    }
   },
   "outputs": [
    {
     "name": "stdout",
     "output_type": "stream",
     "text": [
      "          Sempre car\n"
     ]
    }
   ],
   "source": [
    "print(\"%20.10s\" % frase)"
   ]
  },
  {
   "cell_type": "code",
   "execution_count": 21,
   "metadata": {
    "slideshow": {
     "slide_type": "-"
    }
   },
   "outputs": [
    {
     "name": "stdout",
     "output_type": "stream",
     "text": [
      "    +40.50\n"
     ]
    }
   ],
   "source": [
    "print(\"%+10.2f\" % 40.5)"
   ]
  },
  {
   "cell_type": "markdown",
   "metadata": {
    "slideshow": {
     "slide_type": "slide"
    }
   },
   "source": [
    "### Parametri nominali\n",
    "\n",
    "Oltre al passaggio dei parametri per via posizionale è possibile utilizzare la sintassi che prevede l'uso di parametri nominali:\n",
    "\n",
    "- Nome del parametro tra parentesi\n",
    "- Dati passati non come tupla ma come dizionario"
   ]
  },
  {
   "cell_type": "code",
   "execution_count": 2,
   "metadata": {
    "slideshow": {
     "slide_type": "-"
    }
   },
   "outputs": [],
   "source": [
    "formato = \"Ci sono %(numero)d %(tipo)s nel cesto\""
   ]
  },
  {
   "cell_type": "code",
   "execution_count": 3,
   "metadata": {},
   "outputs": [
    {
     "name": "stdout",
     "output_type": "stream",
     "text": [
      "Ci sono 2 mele nel cesto\n"
     ]
    }
   ],
   "source": [
    "print(formato % {\"numero\": 2, \"tipo\": \"mele\"})"
   ]
  },
  {
   "cell_type": "markdown",
   "metadata": {
    "slideshow": {
     "slide_type": "slide"
    }
   },
   "source": [
    "## Espressioni regolari"
   ]
  },
  {
   "cell_type": "code",
   "execution_count": 13,
   "metadata": {
    "slideshow": {
     "slide_type": "-"
    }
   },
   "outputs": [],
   "source": [
    "import re"
   ]
  },
  {
   "cell_type": "markdown",
   "metadata": {
    "slideshow": {
     "slide_type": "-"
    }
   },
   "source": [
    "Utilizzo base:"
   ]
  },
  {
   "cell_type": "code",
   "execution_count": 30,
   "metadata": {
    "slideshow": {
     "slide_type": "-"
    }
   },
   "outputs": [
    {
     "name": "stdout",
     "output_type": "stream",
     "text": [
      "Trovato\n"
     ]
    }
   ],
   "source": [
    "frase = \"Sempre caro mi fu quest'ermo colle\"\n",
    "pattern = r\"ermo\"\n",
    "\n",
    "match = re.search(pattern, frase)\n",
    "if match:\n",
    "    print(\"Trovato\")"
   ]
  },
  {
   "cell_type": "markdown",
   "metadata": {
    "slideshow": {
     "slide_type": "slide"
    }
   },
   "source": [
    "### Match() e Search()\n",
    "\n",
    "- re.match(): cerca il pattern solo all'inizio del testo\n",
    "- re.search(): cerca il pattern ovunque"
   ]
  },
  {
   "cell_type": "code",
   "execution_count": 31,
   "metadata": {
    "slideshow": {
     "slide_type": "-"
    }
   },
   "outputs": [
    {
     "data": {
      "text/plain": [
       "<_sre.SRE_Match object; span=(24, 28), match='ermo'>"
      ]
     },
     "execution_count": 31,
     "metadata": {},
     "output_type": "execute_result"
    }
   ],
   "source": [
    "re.search(pattern, frase)"
   ]
  },
  {
   "cell_type": "code",
   "execution_count": 33,
   "metadata": {
    "slideshow": {
     "slide_type": "-"
    }
   },
   "outputs": [],
   "source": [
    "re.match(pattern, frase)"
   ]
  },
  {
   "cell_type": "markdown",
   "metadata": {
    "slideshow": {
     "slide_type": "slide"
    }
   },
   "source": [
    "### L'oggetto Match\n",
    "\n",
    "Sia **match()** che **search()** si fermano all'incontro della prima occorrenza (_greedy search_).\n",
    "\n",
    "L'oggetto **Match** restituito contiene alcuni metodi utili:\n",
    "- group(index): restituisce il sottogruppo con indice _index_ all'interno del pattern\n",
    "- start(): restituisce l'indice del primo carattere facente parte del pattern\n",
    "- end(): restituisce l'indice dell'ultimo carattere"
   ]
  },
  {
   "cell_type": "markdown",
   "metadata": {
    "slideshow": {
     "slide_type": "slide"
    }
   },
   "source": [
    "### L'oggetto Match"
   ]
  },
  {
   "cell_type": "code",
   "execution_count": 29,
   "metadata": {
    "slideshow": {
     "slide_type": "-"
    }
   },
   "outputs": [
    {
     "name": "stdout",
     "output_type": "stream",
     "text": [
      " mi \n",
      "mi\n",
      "11\n",
      "15\n"
     ]
    }
   ],
   "source": [
    "frase = \"Sempre caro mi fu quest'ermo colle\"\n",
    "pattern = r\"\\s(\\w{2,2})\\s\"\n",
    "\n",
    "match = re.search(pattern, frase)\n",
    "print(match.group(0))\n",
    "print(match.group(1))\n",
    "print(match.start())\n",
    "print(match.end())"
   ]
  },
  {
   "cell_type": "markdown",
   "metadata": {
    "slideshow": {
     "slide_type": "slide"
    }
   },
   "source": [
    "### Compilare i pattern\n",
    "\n",
    "Le espressioni regolari sono per loro natura operazioni onerose.\n",
    "\n",
    "Se pensate di utilizzare più volte lo stesso pattern:\n",
    "\n",
    "- re.compile(pattern): restituisce un oggetto _RegexObject_\n",
    "- RegexObject.search()/match(): esegue la ricerca precompilata"
   ]
  },
  {
   "cell_type": "markdown",
   "metadata": {
    "slideshow": {
     "slide_type": "slide"
    }
   },
   "source": [
    "### Compilare i pattern"
   ]
  },
  {
   "cell_type": "code",
   "execution_count": 49,
   "metadata": {
    "slideshow": {
     "slide_type": "-"
    }
   },
   "outputs": [
    {
     "name": "stdout",
     "output_type": "stream",
     "text": [
      "Sat Jan 21\n",
      "Sat Apr 26\n"
     ]
    }
   ],
   "source": [
    "rows = [\"sys             Sat Jan 21 17:10:15 +0530 2014\",\n",
    "        \"sync            **Never logged in**\",\n",
    "        \"abc1    tty1    Sat Apr 26 22:10:36 +0530 2014\"]\n",
    "regex = re.compile(r\"\\w{3} \\w{3} \\d{1,2}\")\n",
    "\n",
    "for row in rows:\n",
    "    match = regex.search(row)\n",
    "    if match:\n",
    "        print(match.group(0))"
   ]
  },
  {
   "cell_type": "markdown",
   "metadata": {
    "slideshow": {
     "slide_type": "slide"
    }
   },
   "source": [
    "### Modificatori\n",
    "\n",
    "Oltre a fornire un pattern ed un testo su cui effettuare la ricerca è possibile specificare uno o più modificatori che alterano il comportamento di default.\n",
    "\n",
    "Ne vediamo un paio particolarmente utili:\n",
    "\n",
    "- re.IGNORECASE: ricerca case insensitive\n",
    "- re.VERBOSE: permette di inserire commenti nell'espressione"
   ]
  },
  {
   "cell_type": "markdown",
   "metadata": {
    "slideshow": {
     "slide_type": "slide"
    }
   },
   "source": [
    "### Modificatori: re.IGNORECASE"
   ]
  },
  {
   "cell_type": "code",
   "execution_count": 53,
   "metadata": {
    "slideshow": {
     "slide_type": "-"
    }
   },
   "outputs": [
    {
     "name": "stdout",
     "output_type": "stream",
     "text": [
      "Trovato\n"
     ]
    }
   ],
   "source": [
    "frase = \"SEMPRE CARO MI FU QUEST'ERMO COLLE\"\n",
    "pattern = r\"ermo\"\n",
    "\n",
    "match = re.search(pattern, frase, re.IGNORECASE)\n",
    "if match:\n",
    "    print(\"Trovato\")"
   ]
  },
  {
   "cell_type": "markdown",
   "metadata": {
    "slideshow": {
     "slide_type": "slide"
    }
   },
   "source": [
    "### Modificatori: re.VERBOSE"
   ]
  },
  {
   "cell_type": "code",
   "execution_count": 58,
   "metadata": {
    "slideshow": {
     "slide_type": "-"
    }
   },
   "outputs": [
    {
     "name": "stdout",
     "output_type": "stream",
     "text": [
      "Sat Jan 21\n",
      "Sat Apr 26\n"
     ]
    }
   ],
   "source": [
    "rows = [\"sys             Sat Jan 21 17:10:15 +0530 2014\",\n",
    "        \"sync            **Never logged in**\",\n",
    "        \"abc1    tty1    Sat Apr 26 22:10:36 +0530 2014\"]\n",
    "\n",
    "regex = re.compile(r\"\"\"\n",
    "                   \\w{3}\\s  # Giorno della settimana\n",
    "                   \\w{3}\\s  # Mese\n",
    "                   \\d{1,2}  # Giorno del mese\n",
    "                   \"\"\", re.VERBOSE)\n",
    "\n",
    "for row in rows:\n",
    "    match = regex.search(row)\n",
    "    if match:\n",
    "        print(match.group(0))"
   ]
  },
  {
   "cell_type": "markdown",
   "metadata": {
    "slideshow": {
     "slide_type": "slide"
    }
   },
   "source": [
    "### Cercare più di un'occorrenza\n",
    "\n",
    "**re.findall()**:\n",
    "\n",
    "- Cerca ogni occorrenza del pattern\n",
    "- Restituisce una lista di stringhe"
   ]
  },
  {
   "cell_type": "code",
   "execution_count": 37,
   "metadata": {},
   "outputs": [
    {
     "data": {
      "text/plain": [
       "['192.168.20.81', '192.168.50.4']"
      ]
     },
     "execution_count": 37,
     "metadata": {},
     "output_type": "execute_result"
    }
   ],
   "source": [
    "frase = \"src host 192.168.20.81 dst host 192.168.50.4 proto icmp\"\n",
    "pattern = r\"\\d{1,3}.\\d{1,3}.\\d{1,3}.\\d{1,3}\"\n",
    "\n",
    "re.findall(pattern, frase)"
   ]
  }
 ],
 "metadata": {
  "kernelspec": {
   "display_name": "Python 3",
   "language": "python",
   "name": "python3"
  },
  "language_info": {
   "codemirror_mode": {
    "name": "ipython",
    "version": 3
   },
   "file_extension": ".py",
   "mimetype": "text/x-python",
   "name": "python",
   "nbconvert_exporter": "python",
   "pygments_lexer": "ipython3",
   "version": "3.6.5"
  }
 },
 "nbformat": 4,
 "nbformat_minor": 2
}
