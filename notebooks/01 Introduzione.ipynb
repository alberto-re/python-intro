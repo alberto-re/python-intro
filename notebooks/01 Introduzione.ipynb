{
 "cells": [
  {
   "cell_type": "markdown",
   "metadata": {
    "slideshow": {
     "slide_type": "slide"
    }
   },
   "source": [
    "# Introduzione"
   ]
  },
  {
   "cell_type": "markdown",
   "metadata": {
    "slideshow": {
     "slide_type": "slide"
    }
   },
   "source": [
    "## Perché Python?\n",
    "\n",
    "- Open Source\n",
    "- Multipiattaforma\n",
    "- Facilmente integrabile con altri linguaggi\n",
    "- Ampia collezione di librerie\n",
    "- _General purpose_"
   ]
  },
  {
   "cell_type": "markdown",
   "metadata": {
    "slideshow": {
     "slide_type": "slide"
    }
   },
   "source": [
    "### Open Source\n",
    "\n",
    "Tutte le versioni di Python sono [Open Source][1] e compatibili con la GPL (dal 2001).\n",
    "\n",
    "- _\"Open source software is software with source code that anyone can inspect, modify, and enhance\"_\n",
    "\n",
    "Una fondazione, la [Python Software Foundation (PSF)][2], modellata sull'esempio della Apache Foundation è stata istituita nel 2001 con lo scopo di promuoverne lo sviluppo e garantirne la tutela.\n",
    "\n",
    "[1]: https://opensource.org/\n",
    "[2]: https://www.python.org/psf"
   ]
  },
  {
   "cell_type": "markdown",
   "metadata": {
    "slideshow": {
     "slide_type": "slide"
    }
   },
   "source": [
    "### Multipiattaforma\n",
    "\n",
    "- Preinstallato su OSx e Linux\n",
    "- Installer per Windows\n",
    "- Tramite vari port commerciali anche per iOS, OS/390, Solaris, HP-UX, VMS"
   ]
  },
  {
   "cell_type": "markdown",
   "metadata": {
    "slideshow": {
     "slide_type": "slide"
    }
   },
   "source": [
    "## Facilmente integrabile con altri linguaggi\n",
    "\n",
    "Principalmente con i vari _binding_ per C/C++, ma [non solo][1] (es. Fortran).\n",
    "\n",
    "- Calcolo numerico\n",
    "- Computer vision\n",
    "- Sistemi di controllo\n",
    "- ...\n",
    "\n",
    "[1]: https://wiki.python.org/moin/IntegratingPythonWithOtherLanguages"
   ]
  },
  {
   "cell_type": "markdown",
   "metadata": {
    "slideshow": {
     "slide_type": "slide"
    }
   },
   "source": [
    "### Ampia collezione di librerie\n",
    "\n",
    "![PiPy](../images/PiPy.png)\n",
    "\n",
    "Con più di 137.000 progetti ospitati [PiPy][1] è la principale raccolta di software per Python (analogamente a CPAN, RubyGems, NPM, etc..).\n",
    "\n",
    "[1]: https://pypi.org/"
   ]
  },
  {
   "cell_type": "markdown",
   "metadata": {
    "slideshow": {
     "slide_type": "slide"
    }
   },
   "source": [
    "### General purpose\n",
    "\n",
    "Il linguaggio, nato come _general-purpose_, è tutt'ora adottato in vari ambiti:\n",
    "\n",
    "- Web (Django, Flask, Bottle..)\n",
    "- Data science e machine learning (Pandas, Scypy, Sklearn, Tensorflow, Keras..)\n",
    "- Desktop (wxWidgets, PyQT..)\n",
    "- Scripting (ArcGIS, GIMP, Blender, ..)\n",
    "- Cloud e orchestration (OpenStack, Ansible)"
   ]
  },
  {
   "cell_type": "markdown",
   "metadata": {
    "slideshow": {
     "slide_type": "slide"
    }
   },
   "source": [
    "## Un po' di storia"
   ]
  },
  {
   "cell_type": "markdown",
   "metadata": {
    "slideshow": {
     "slide_type": "slide"
    }
   },
   "source": [
    "### Nascita del linguaggio\n",
    "\n",
    "![Guido Van Rossum](../images/van-rossum.jpg)\n",
    "\n",
    "> ...In December 1989, I was looking for a \"hobby\" ... I decided to write an interpreter for the new scripting language I had been thinking about lately: a descendant of ABC that would appeal to Unix/C hackers."
   ]
  },
  {
   "cell_type": "markdown",
   "metadata": {
    "slideshow": {
     "slide_type": "slide"
    }
   },
   "source": [
    "### Oggi\n",
    "\n",
    "![GitHub trending](../images/15-most-popular-github-2017.png)"
   ]
  },
  {
   "cell_type": "markdown",
   "metadata": {
    "slideshow": {
     "slide_type": "slide"
    }
   },
   "source": [
    "### Timeline\n",
    "\n",
    "- fine anni '80: prima implementazione da parte di Guido van Rossum al CWI in Olanda\n",
    "- 1994: versione 1.0\n",
    "- 2000: versione 2.0\n",
    "- 2008: nasce l'attuale ramo di sviluppo, la version 3.0\n",
    "- 2020: dal 1° Gennaio cesserà ufficialmente il supporto al ramo 2.x"
   ]
  },
  {
   "cell_type": "markdown",
   "metadata": {
    "slideshow": {
     "slide_type": "slide"
    }
   },
   "source": [
    "### Python 3\n",
    "\n",
    "_\"Python 2.x is legacy, Python 3.x is the present and future of the language\"_ [python.org][1]\n",
    "\n",
    "La versione 3 del linguaggio è la prima a rompere intenzionalmente la compatibilità con il passato.\n",
    "\n",
    "- Migliore supporto a Unicode\n",
    "- Rimozione di alcune eccezioni alla sintassi (es. _print_)\n",
    "- Un unico tipo di numero intero (nessuna più distinzione tra _long_ e _int_)\n",
    "- Divisione naturale come default\n",
    "- e [moltre altre][2]\n",
    "\n",
    "[1]: https://wiki.python.org/moin/Python2orPython3\n",
    "[2]: https://docs.python.org/3.0/whatsnew/3.0.html"
   ]
  },
  {
   "cell_type": "markdown",
   "metadata": {
    "slideshow": {
     "slide_type": "slide"
    }
   },
   "source": [
    "### Python 3\n",
    "\n",
    "A meno di non essere costretti ad operare su sistemi datati o dipendere da librerie di terze parti non ancora aggiornate la scelta dovrebbe sempre ricadere sul ramo più recente.\n",
    "\n",
    "- Codice contenuto nelle slide eseguito su Python 3.6.x\n",
    "- Eventuali differenze degne di nota verranno evidenziate"
   ]
  },
  {
   "cell_type": "code",
   "execution_count": 38,
   "metadata": {
    "slideshow": {
     "slide_type": "-"
    }
   },
   "outputs": [
    {
     "data": {
      "text/plain": [
       "'3.6.0 (v3.6.0:41df79263a11, Dec 23 2016, 08:06:12) [MSC v.1900 64 bit (AMD64)]'"
      ]
     },
     "execution_count": 38,
     "metadata": {},
     "output_type": "execute_result"
    }
   ],
   "source": [
    "import sys\n",
    "sys.version"
   ]
  },
  {
   "cell_type": "markdown",
   "metadata": {
    "slideshow": {
     "slide_type": "slide"
    }
   },
   "source": [
    "### Python 3\n",
    "\n",
    "![Then He Said](../images/then-he-said-when-we-port-to-python-3.jpg)"
   ]
  },
  {
   "cell_type": "markdown",
   "metadata": {
    "slideshow": {
     "slide_type": "slide"
    }
   },
   "source": [
    "## Caratteristiche tecniche del linguaggio\n",
    "\n",
    "- Alto livello\n",
    "- Interpretato\n",
    "- Dinamico\n",
    "- Multiparadigma\n",
    "- Sintassi pulita ed espressiva"
   ]
  },
  {
   "cell_type": "markdown",
   "metadata": {
    "slideshow": {
     "slide_type": "slide"
    }
   },
   "source": [
    "### Python come linguaggio di alto livello\n",
    "\n",
    "Pur essendo un concetto che si presta ad un certo margine di interpretazione possiamo definire un linguaggio di _alto livello_ se permette di concentrarsi più sulla logica applicativa che su aspetti di micro-gestione legati all'ambiente di esecuzione.\n",
    "\n",
    "Alcune caratteristiche rilevanti in questo senso:\n",
    "\n",
    "- Gestione della memoria\n",
    "- Portabilità\n",
    "- Espressività\n",
    "- Costrutti di alto livello"
   ]
  },
  {
   "cell_type": "markdown",
   "metadata": {
    "slideshow": {
     "slide_type": "slide"
    }
   },
   "source": [
    "### Python è un linguaggio interpretato o compilato?\n",
    "\n",
    "Citando [Ned Batchelder][1]:\n",
    "\n",
    "> Is Python interpreted or compiled? Yes.\n",
    "\n",
    "![CPython Execution Model](../images/cpython-execution-model.png)\n",
    "\n",
    "[1]: https://nedbatchelder.com/blog/201803/is_python_interpreted_or_compiled_yes.html"
   ]
  },
  {
   "cell_type": "markdown",
   "metadata": {
    "slideshow": {
     "slide_type": "slide"
    }
   },
   "source": [
    "### Il bytecode"
   ]
  },
  {
   "cell_type": "code",
   "execution_count": 37,
   "metadata": {
    "slideshow": {
     "slide_type": "-"
    }
   },
   "outputs": [
    {
     "name": "stdout",
     "output_type": "stream",
     "text": [
      "  4           0 LOAD_GLOBAL              0 (print)\n",
      "              2 LOAD_CONST               1 ('Hello, world!')\n",
      "              4 CALL_FUNCTION            1\n",
      "              6 POP_TOP\n",
      "              8 LOAD_CONST               0 (None)\n",
      "             10 RETURN_VALUE\n"
     ]
    }
   ],
   "source": [
    "from dis import dis\n",
    "\n",
    "def greet():\n",
    "    print(\"Hello, world!\")\n",
    "\n",
    "dis(greet)"
   ]
  },
  {
   "cell_type": "markdown",
   "metadata": {
    "slideshow": {
     "slide_type": "slide"
    }
   },
   "source": [
    "### Di cosa parliamo quando parliamo di Python?\n",
    "\n",
    "Quando parliamo di Python in realtà intendiamo (quasi sempre) l'implementazione di riferimento: [CPython][1].\n",
    "\n",
    "Non è l'unica:\n",
    "\n",
    "- PyPy\n",
    "- Jython\n",
    "- Iron Python\n",
    "- ...\n",
    "\n",
    "[1]: https://en.wikipedia.org/wiki/CPython"
   ]
  },
  {
   "cell_type": "markdown",
   "metadata": {
    "slideshow": {
     "slide_type": "slide"
    }
   },
   "source": [
    "### Python come linguaggio dinamico\n",
    "\n",
    "Un linguaggio dinamico è genericamente un linguaggio che ritarda al momento dell'esecuzione alcune operazioni che in un linguaggio puramente compilato, come ad esempio il C, sarebbero eseguite durante la fase di compilazione.\n",
    "\n",
    "La caratteristica più evidente all'utilizzatore è il cosiddetto **dynamic typing**:"
   ]
  },
  {
   "cell_type": "code",
   "execution_count": 1,
   "metadata": {},
   "outputs": [
    {
     "name": "stdout",
     "output_type": "stream",
     "text": [
      "<class 'int'>\n",
      "<class 'str'>\n",
      "<class 'list'>\n"
     ]
    }
   ],
   "source": [
    "year = 2017\n",
    "hello = 'Hello, World!'\n",
    "alphabet = ['a','b','c']\n",
    "print(type(year))\n",
    "print(type(hello))\n",
    "print(type(alphabet))"
   ]
  },
  {
   "cell_type": "markdown",
   "metadata": {
    "slideshow": {
     "slide_type": "slide"
    }
   },
   "source": [
    "### Type checking\n",
    "\n",
    "Non tutti sanno che recentemente è stato aggiunto il supporto opzionale al type checking tramite il progetto [MyPy][1].\n",
    "\n",
    "- Progetti complessi e/o a lungo termine\n",
    "- Più sviluppatori\n",
    "- Migliore analisi statica da parte degli IDE (es. PyCharm)\n",
    "\n",
    "[1]: http://mypy-lang.org/"
   ]
  },
  {
   "cell_type": "markdown",
   "metadata": {
    "slideshow": {
     "slide_type": "slide"
    }
   },
   "source": [
    "### Type checking\n",
    "\n",
    "Esempio:"
   ]
  },
  {
   "cell_type": "code",
   "execution_count": 36,
   "metadata": {
    "slideshow": {
     "slide_type": "-"
    }
   },
   "outputs": [],
   "source": [
    "def greeting(name: str) -> str:\n",
    "    return \"Hello, {}\".format(name)"
   ]
  },
  {
   "cell_type": "markdown",
   "metadata": {
    "slideshow": {
     "slide_type": "-"
    }
   },
   "source": [
    "Verifica del codice:\n",
    "\n",
    "```\n",
    "python3 -m mypy program.py\n",
    "```"
   ]
  },
  {
   "cell_type": "markdown",
   "metadata": {
    "slideshow": {
     "slide_type": "slide"
    }
   },
   "source": [
    "### Multiparadigma\n",
    "\n",
    "Si parla comunemente di Python come linguaggio orientato agli oggetti ma è bene ricordare che è un linguaggio multiparadigma.\n",
    "\n",
    "In particolare offre molte caratteristiche della programmazione funzionale:\n",
    "\n",
    "- Le funzioni sono elementi di prima classe\n",
    "- Funzioni anonime (lambda)\n",
    "- Map/filter/reduce\n",
    "- Comprehension"
   ]
  },
  {
   "cell_type": "markdown",
   "metadata": {
    "slideshow": {
     "slide_type": "slide"
    }
   },
   "source": [
    "### Sintassi pulita ed espressiva\n",
    "\n",
    "Java:\n",
    "\n",
    "```java\n",
    "public class HelloWorld {\n",
    "    \n",
    "    public static void main(String[] args) {\n",
    "        System.out.println(\"Hello, World\");\n",
    "    }\n",
    "\n",
    "}\n",
    "```\n",
    "\n",
    "Python:\n",
    "\n",
    "```python\n",
    "print(\"Hello, World\")\n",
    "```"
   ]
  },
  {
   "cell_type": "markdown",
   "metadata": {
    "slideshow": {
     "slide_type": "slide"
    }
   },
   "source": [
    "### Sintassi pulita ed espressiva\n",
    "\n",
    "PHP:\n",
    "\n",
    "```php\n",
    "$os = array(\"Mac\", \"NT\", \"Irix\", \"Linux\");\n",
    "\n",
    "if (in_array(\"Irix\", $os)) {\n",
    "    echo \"Got Irix\";\n",
    "}\n",
    "```\n",
    "\n",
    "Python:\n",
    "\n",
    "```python\n",
    "os = [\"Mac\", \"NT\", \"Irix\", \"Linux\"]\n",
    "\n",
    "if \"Irix\" in os:\n",
    "    print(\"Got Irix\")\n",
    "```"
   ]
  },
  {
   "cell_type": "markdown",
   "metadata": {
    "slideshow": {
     "slide_type": "slide"
    }
   },
   "source": [
    "## Come eseguire programmi Python\n",
    "\n",
    "Esistono due modalità di esecuzione delle istruzioni da parte dell'interprete, adatte a casi d'uso piuttosto differenti:\n",
    "\n",
    "- la modalità interattiva (_script mode_)\n",
    "- la modalità script (_interactive mode_)"
   ]
  },
  {
   "cell_type": "markdown",
   "metadata": {
    "slideshow": {
     "slide_type": "slide"
    }
   },
   "source": [
    "### La modalità interattiva\n",
    "\n",
    "- REPL (_Read/Evaluate/Print/Loop_)\n",
    "- Ottima per sperimentare\n",
    "\n",
    "```\n",
    "$ python\n",
    "Python 3.6.1 (v3.6.1:69c0db5, Mar 21 2017, 17:54:52) [MSC v.1900 32 bit (Intel)] on win32\n",
    "Type \"help\", \"copyright\", \"credits\" or \"license\" for more information.\n",
    ">>> 2 + 3\n",
    "5\n",
    ">>> for letter in ['a', 'b']:\n",
    "...     print(letter)\n",
    "...\n",
    "a\n",
    "b\n",
    ">>>\n",
    "```"
   ]
  },
  {
   "cell_type": "markdown",
   "metadata": {
    "slideshow": {
     "slide_type": "slide"
    }
   },
   "source": [
    "### La modalità script\n",
    "\n",
    "- Esecuzione del codice contenuto in uno o più file\n",
    "\n",
    "```\n",
    "$ cat prova.py\n",
    "print(\"Hello, world!\")\n",
    "\n",
    "$ python prova.py\n",
    "Hello, world!\n",
    "```"
   ]
  },
  {
   "cell_type": "markdown",
   "metadata": {
    "slideshow": {
     "slide_type": "slide"
    }
   },
   "source": [
    "## Le basi del linguaggio"
   ]
  },
  {
   "cell_type": "markdown",
   "metadata": {
    "slideshow": {
     "slide_type": "slide"
    }
   },
   "source": [
    "### Struttura\n",
    "\n",
    "In Python non è necessario segnalare esplicitamente la fine di un'istruzione tramite un carattere apposito, ed è l'indentazione a definire i blocchi di codice:"
   ]
  },
  {
   "cell_type": "code",
   "execution_count": 47,
   "metadata": {
    "slideshow": {
     "slide_type": "-"
    }
   },
   "outputs": [
    {
     "name": "stdout",
     "output_type": "stream",
     "text": [
      "Hello, world\n"
     ]
    }
   ],
   "source": [
    "# Blocco 1\n",
    "msg = \"Hello, world\"\n",
    "\n",
    "# I costrutti che richiedono l'indentazione terminano con ':'\n",
    "if \"Hello\" in msg:\n",
    "    # Blocco 2\n",
    "    print(msg)\n",
    "\n",
    "# Blocco 1, continuazione"
   ]
  },
  {
   "cell_type": "markdown",
   "metadata": {
    "slideshow": {
     "slide_type": "slide"
    }
   },
   "source": [
    "### Assegnazione di valori"
   ]
  },
  {
   "cell_type": "code",
   "execution_count": 45,
   "metadata": {
    "slideshow": {
     "slide_type": "-"
    }
   },
   "outputs": [
    {
     "name": "stdout",
     "output_type": "stream",
     "text": [
      "20 30\n",
      "30 20\n",
      "10 20 30\n"
     ]
    }
   ],
   "source": [
    "x = 20\n",
    "y = 30\n",
    "print(x, y)\n",
    "\n",
    "x, y = y, x\n",
    "print(x, y)\n",
    "\n",
    "x, y, z = 10, 20, 30\n",
    "print(x, y )"
   ]
  },
  {
   "cell_type": "markdown",
   "metadata": {
    "slideshow": {
     "slide_type": "slide"
    }
   },
   "source": [
    "### Operatori logici"
   ]
  },
  {
   "cell_type": "code",
   "execution_count": 20,
   "metadata": {
    "slideshow": {
     "slide_type": "-"
    }
   },
   "outputs": [
    {
     "data": {
      "text/plain": [
       "False"
      ]
     },
     "execution_count": 20,
     "metadata": {},
     "output_type": "execute_result"
    }
   ],
   "source": [
    "True and False"
   ]
  },
  {
   "cell_type": "code",
   "execution_count": 21,
   "metadata": {
    "slideshow": {
     "slide_type": "-"
    }
   },
   "outputs": [
    {
     "data": {
      "text/plain": [
       "True"
      ]
     },
     "execution_count": 21,
     "metadata": {},
     "output_type": "execute_result"
    }
   ],
   "source": [
    "True or False"
   ]
  },
  {
   "cell_type": "code",
   "execution_count": 22,
   "metadata": {
    "slideshow": {
     "slide_type": "-"
    }
   },
   "outputs": [
    {
     "data": {
      "text/plain": [
       "True"
      ]
     },
     "execution_count": 22,
     "metadata": {},
     "output_type": "execute_result"
    }
   ],
   "source": [
    "not False"
   ]
  },
  {
   "cell_type": "markdown",
   "metadata": {
    "slideshow": {
     "slide_type": "slide"
    }
   },
   "source": [
    "### Operatori di confronto\n",
    "\n",
    "Restituiscono _True_ o _False_:\n",
    "\n",
    "| Simbolo | Funzione | Esempio |\n",
    "|:-------------:|-------------:|:--------:|\n",
    "| > | maggiore di | x > y |\n",
    "| < | minore di | x < y |\n",
    "| >= | maggiore o uguale | x >= y |\n",
    "| <= | minore o uguale | x <= y |\n",
    "| == | uguale a | x == y |\n",
    "| != | diverso da | x != y |"
   ]
  },
  {
   "cell_type": "markdown",
   "metadata": {
    "slideshow": {
     "slide_type": "slide"
    }
   },
   "source": [
    "### Operatori di confronto"
   ]
  },
  {
   "cell_type": "code",
   "execution_count": 13,
   "metadata": {
    "slideshow": {
     "slide_type": "-"
    }
   },
   "outputs": [
    {
     "data": {
      "text/plain": [
       "True"
      ]
     },
     "execution_count": 13,
     "metadata": {},
     "output_type": "execute_result"
    }
   ],
   "source": [
    "10 < 20"
   ]
  },
  {
   "cell_type": "code",
   "execution_count": 16,
   "metadata": {
    "slideshow": {
     "slide_type": "-"
    }
   },
   "outputs": [
    {
     "data": {
      "text/plain": [
       "False"
      ]
     },
     "execution_count": 16,
     "metadata": {},
     "output_type": "execute_result"
    }
   ],
   "source": [
    "\"mela\" < \"male\""
   ]
  },
  {
   "cell_type": "code",
   "execution_count": 17,
   "metadata": {
    "slideshow": {
     "slide_type": "-"
    }
   },
   "outputs": [
    {
     "data": {
      "text/plain": [
       "True"
      ]
     },
     "execution_count": 17,
     "metadata": {},
     "output_type": "execute_result"
    }
   ],
   "source": [
    "2 == 2.0"
   ]
  },
  {
   "cell_type": "markdown",
   "metadata": {
    "slideshow": {
     "slide_type": "slide"
    }
   },
   "source": [
    "### Controllo del flusso: condizionali\n",
    "\n",
    "Esiste solamente il costrutto **if .. elif .. else** in Python (niente switch):"
   ]
  },
  {
   "cell_type": "code",
   "execution_count": 49,
   "metadata": {
    "slideshow": {
     "slide_type": "-"
    }
   },
   "outputs": [
    {
     "name": "stdout",
     "output_type": "stream",
     "text": [
      "uguale\n"
     ]
    }
   ],
   "source": [
    "x = 10\n",
    "\n",
    "if x > 10:\n",
    "    print(\"maggiore\")\n",
    "elif x < 9:\n",
    "    print(\"minore\")\n",
    "elif x == 9:\n",
    "    print(\"minore\")\n",
    "else:\n",
    "    print(\"uguale\")"
   ]
  },
  {
   "cell_type": "markdown",
   "metadata": {
    "slideshow": {
     "slide_type": "slide"
    }
   },
   "source": [
    "### Controllo del flusso: try .. catch .. finally"
   ]
  },
  {
   "cell_type": "code",
   "execution_count": 9,
   "metadata": {
    "slideshow": {
     "slide_type": "-"
    }
   },
   "outputs": [
    {
     "name": "stdout",
     "output_type": "stream",
     "text": [
      "ValueError: invalid literal for int() with base 10: '10a'\n",
      "In ogni caso\n"
     ]
    }
   ],
   "source": [
    "x = \"10a\"\n",
    "\n",
    "try:\n",
    "    x = int(x)\n",
    "except ValueError as ex:\n",
    "    print(\"ValueError: %s\" % ex)\n",
    "except Exception as ex:\n",
    "    print(\"Exception: %s\" % ex)\n",
    "finally:\n",
    "    print(\"In ogni caso\")"
   ]
  },
  {
   "cell_type": "markdown",
   "metadata": {
    "slideshow": {
     "slide_type": "slide"
    }
   },
   "source": [
    "### Controllo del flusso: ciclo for\n",
    "\n",
    "In Python non esiste il classico for loop caratterizzato da _inizio - fine - step_:\n",
    "\n",
    "```java\n",
    "for (int i=1; i<4; i++)  \n",
    "{\n",
    "    System.out.print(i);\n",
    "}\n",
    "```\n",
    "\n",
    "Bensì una versione basata sul concetto di **iteratore**:"
   ]
  },
  {
   "cell_type": "code",
   "execution_count": 3,
   "metadata": {
    "slideshow": {
     "slide_type": "-"
    }
   },
   "outputs": [
    {
     "name": "stdout",
     "output_type": "stream",
     "text": [
      "1\n",
      "2\n",
      "3\n"
     ]
    }
   ],
   "source": [
    "for numero in range(1, 4):\n",
    "    print(numero)"
   ]
  },
  {
   "cell_type": "markdown",
   "metadata": {
    "slideshow": {
     "slide_type": "slide"
    }
   },
   "source": [
    "### Controllo del flusso: ciclo while"
   ]
  },
  {
   "cell_type": "code",
   "execution_count": 6,
   "metadata": {
    "slideshow": {
     "slide_type": "-"
    }
   },
   "outputs": [
    {
     "name": "stdout",
     "output_type": "stream",
     "text": [
      "5\n",
      "4\n",
      "3\n",
      "2\n",
      "1\n",
      "Minore o uguale a zero\n"
     ]
    }
   ],
   "source": [
    "x = 5\n",
    "\n",
    "while x > 0:\n",
    "    print(x)\n",
    "    x -= 1\n",
    "else:\n",
    "    print(\"Minore o uguale a zero\")"
   ]
  }
 ],
 "metadata": {
  "kernelspec": {
   "display_name": "Python 3",
   "language": "python",
   "name": "python3"
  },
  "language_info": {
   "codemirror_mode": {
    "name": "ipython",
    "version": 3
   },
   "file_extension": ".py",
   "mimetype": "text/x-python",
   "name": "python",
   "nbconvert_exporter": "python",
   "pygments_lexer": "ipython3",
   "version": "3.6.5"
  }
 },
 "nbformat": 4,
 "nbformat_minor": 2
}
