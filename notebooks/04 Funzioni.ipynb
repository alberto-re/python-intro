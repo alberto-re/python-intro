{
 "cells": [
  {
   "cell_type": "markdown",
   "metadata": {
    "slideshow": {
     "slide_type": "slide"
    }
   },
   "source": [
    "# Funzioni"
   ]
  },
  {
   "cell_type": "markdown",
   "metadata": {
    "slideshow": {
     "slide_type": "slide"
    }
   },
   "source": [
    "## Cos'è una funzione?\n",
    "\n",
    "Una funzione è un blocco di codice in grado di riceve degli input (_parametri_) e restituire uno o più valori in output."
   ]
  },
  {
   "cell_type": "markdown",
   "metadata": {
    "slideshow": {
     "slide_type": "slide"
    }
   },
   "source": [
    "## Un ripasso.. perché utilizzare le funzioni?\n",
    "\n",
    "- Modulalità (_don't repeat yourself_)\n",
    "- Leggibilità\n",
    "- Verificabilità\n",
    "- Robustezza"
   ]
  },
  {
   "cell_type": "markdown",
   "metadata": {
    "slideshow": {
     "slide_type": "slide"
    }
   },
   "source": [
    "## Funzioni in Python\n",
    "\n",
    "In Python le funzioni sono membri di 'prima classe' (_first class citizens_):\n",
    "\n",
    "- Possono essere assegnate come valore ad una variabile\n",
    "- Possono essere passate come parametro ad un'altra funzione\n",
    "- Possono venire restituite come risultato da un'altra funzione"
   ]
  },
  {
   "cell_type": "markdown",
   "metadata": {
    "slideshow": {
     "slide_type": "slide"
    }
   },
   "source": [
    "## Funzioni in Python\n",
    "\n",
    "Le funzioni non fanno eccezione e anch'esse sono oggetti:"
   ]
  },
  {
   "cell_type": "code",
   "execution_count": 1,
   "metadata": {
    "slideshow": {
     "slide_type": "-"
    }
   },
   "outputs": [],
   "source": [
    "def saluta():\n",
    "    \"\"\"Stampa 'Hello, world!'\"\"\"\n",
    "    print(\"Hello, world!\")"
   ]
  },
  {
   "cell_type": "code",
   "execution_count": 2,
   "metadata": {
    "slideshow": {
     "slide_type": "-"
    }
   },
   "outputs": [
    {
     "data": {
      "text/plain": [
       "function"
      ]
     },
     "execution_count": 2,
     "metadata": {},
     "output_type": "execute_result"
    }
   ],
   "source": [
    "type(saluta)"
   ]
  },
  {
   "cell_type": "code",
   "execution_count": 3,
   "metadata": {},
   "outputs": [
    {
     "data": {
      "text/plain": [
       "True"
      ]
     },
     "execution_count": 3,
     "metadata": {},
     "output_type": "execute_result"
    }
   ],
   "source": [
    "isinstance(saluta, object)"
   ]
  },
  {
   "cell_type": "markdown",
   "metadata": {
    "slideshow": {
     "slide_type": "slide"
    }
   },
   "source": [
    "## Funzioni built-in\n",
    "\n",
    "Una funzione _built-in_ è una funzione sempre disponibile durante l'esecuzione.\n",
    "\n",
    "- print()\n",
    "- dir()\n",
    "- isinstance()\n",
    "- e [molte altre][1]\n",
    "\n",
    "[1]: https://docs.python.org/3/library/functions.html"
   ]
  },
  {
   "cell_type": "markdown",
   "metadata": {
    "slideshow": {
     "slide_type": "slide"
    }
   },
   "source": [
    "### Funzioni built-in - due parole su 'print'\n",
    "\n",
    "Fino alla versione 2 del linguaggio era possibile scrivere:\n",
    "\n",
    "```python\n",
    "print \"Hello, world!\"\n",
    "```\n",
    "\n",
    "La stessa riga su Python 3 produce invece un errore di sintassi:"
   ]
  },
  {
   "cell_type": "code",
   "execution_count": 4,
   "metadata": {
    "slideshow": {
     "slide_type": "-"
    }
   },
   "outputs": [
    {
     "ename": "SyntaxError",
     "evalue": "Missing parentheses in call to 'print'. Did you mean print(\"Hello, world!\")? (<ipython-input-4-d07e2790dcc1>, line 1)",
     "output_type": "error",
     "traceback": [
      "\u001b[1;36m  File \u001b[1;32m\"<ipython-input-4-d07e2790dcc1>\"\u001b[1;36m, line \u001b[1;32m1\u001b[0m\n\u001b[1;33m    print \"Hello, world!\"\u001b[0m\n\u001b[1;37m                        ^\u001b[0m\n\u001b[1;31mSyntaxError\u001b[0m\u001b[1;31m:\u001b[0m Missing parentheses in call to 'print'. Did you mean print(\"Hello, world!\")?\n"
     ]
    }
   ],
   "source": [
    "print \"Hello, world!\""
   ]
  },
  {
   "cell_type": "markdown",
   "metadata": {
    "slideshow": {
     "slide_type": "slide"
    }
   },
   "source": [
    "### Funzioni built-in - due parole su 'print'\n",
    "\n",
    "Questo perché precedentemente 'print' era definito come _statement_ e non come funzione.\n",
    "\n",
    "> The print statement has been replaced with a print() function, with keyword arguments to replace most of the special syntax of the old print statement\n",
    "\n",
    "[What’s New In Python 3.0 - Guido van Rossum][1]\n",
    "\n",
    "[1]: https://docs.python.org/3/whatsnew/3.0.html#what-s-new-in-python-3-0"
   ]
  },
  {
   "cell_type": "markdown",
   "metadata": {
    "slideshow": {
     "slide_type": "slide"
    }
   },
   "source": [
    "## Funzioni built-in - due parole su 'print'\n",
    "\n",
    "Dalla versione 2.6 in avanti è comunque possibile abilitare il nuovo comportamento mettendo questa istruzione in cima al vostro codice:"
   ]
  },
  {
   "cell_type": "code",
   "execution_count": 13,
   "metadata": {
    "slideshow": {
     "slide_type": "-"
    }
   },
   "outputs": [],
   "source": [
    "from __future__ import print_function"
   ]
  },
  {
   "cell_type": "markdown",
   "metadata": {
    "slideshow": {
     "slide_type": "-"
    }
   },
   "source": [
    "In questo modo lo statement non sarà più disponibile e diverrà visibile la funzione print() analogamente alle versioni successive."
   ]
  },
  {
   "cell_type": "markdown",
   "metadata": {
    "slideshow": {
     "slide_type": "slide"
    }
   },
   "source": [
    "### Funzioni definite dall'utente\n",
    "\n",
    "Nuove funzioni possono venire definite dall'utente a runtime (*user defined functions*) utilizzando il costrutto _def_:"
   ]
  },
  {
   "cell_type": "code",
   "execution_count": 1,
   "metadata": {
    "slideshow": {
     "slide_type": "-"
    }
   },
   "outputs": [],
   "source": [
    "def decora(msg):\n",
    "    print(\"-- %s --\" % (msg))"
   ]
  },
  {
   "cell_type": "markdown",
   "metadata": {
    "slideshow": {
     "slide_type": "-"
    }
   },
   "source": [
    "E successivamente invocate semplicemente indicandone il nome e, tra parentesi, gli eventuali argomenti:"
   ]
  },
  {
   "cell_type": "code",
   "execution_count": 2,
   "metadata": {
    "slideshow": {
     "slide_type": "-"
    }
   },
   "outputs": [
    {
     "name": "stdout",
     "output_type": "stream",
     "text": [
      "-- Hello world! --\n"
     ]
    }
   ],
   "source": [
    "decora(\"Hello world!\")"
   ]
  },
  {
   "cell_type": "markdown",
   "metadata": {
    "slideshow": {
     "slide_type": "slide"
    }
   },
   "source": [
    "### La parola chiave 'return'\n",
    "\n",
    "Con la parola chiave _return_ è possibile restituire un valore al chiamante:"
   ]
  },
  {
   "cell_type": "code",
   "execution_count": 4,
   "metadata": {
    "slideshow": {
     "slide_type": "-"
    }
   },
   "outputs": [
    {
     "data": {
      "text/plain": [
       "44"
      ]
     },
     "execution_count": 4,
     "metadata": {},
     "output_type": "execute_result"
    }
   ],
   "source": [
    "def somma(a, b):\n",
    "    return a + b\n",
    "\n",
    "somma(10, 34)"
   ]
  },
  {
   "cell_type": "markdown",
   "metadata": {
    "slideshow": {
     "slide_type": "-"
    }
   },
   "source": [
    "Non è necessario specificare nulla nel caso la funzione non restituisca valori."
   ]
  },
  {
   "cell_type": "markdown",
   "metadata": {
    "slideshow": {
     "slide_type": "slide"
    }
   },
   "source": [
    "### Parametri con valori di default\n",
    "\n",
    "E' possibile assegnare dei valori di default ai parametri di una funzione:"
   ]
  },
  {
   "cell_type": "code",
   "execution_count": 19,
   "metadata": {
    "slideshow": {
     "slide_type": "-"
    }
   },
   "outputs": [
    {
     "name": "stdout",
     "output_type": "stream",
     "text": [
      "-- Hello world! --\n"
     ]
    }
   ],
   "source": [
    "def decora(msg, pattern=\"--\"):\n",
    "    print(\"%s %s %s\" % (pattern, msg, pattern))\n",
    "\n",
    "decora(\"Hello world!\")"
   ]
  },
  {
   "cell_type": "code",
   "execution_count": 8,
   "metadata": {
    "slideshow": {
     "slide_type": "-"
    }
   },
   "outputs": [
    {
     "name": "stdout",
     "output_type": "stream",
     "text": [
      "** Hello world! **\n"
     ]
    }
   ],
   "source": [
    "decora(\"Hello world!\", \"**\")"
   ]
  },
  {
   "cell_type": "markdown",
   "metadata": {
    "slideshow": {
     "slide_type": "slide"
    }
   },
   "source": [
    "### Parametri con valori di default\n",
    "\n",
    "Devono seguire i parametri obbligatori.\n",
    "\n",
    "In caso contrario verrà sollevata una eccezione di tipo _SyntaxError_:"
   ]
  },
  {
   "cell_type": "code",
   "execution_count": 3,
   "metadata": {
    "slideshow": {
     "slide_type": "-"
    }
   },
   "outputs": [
    {
     "ename": "SyntaxError",
     "evalue": "non-default argument follows default argument (<ipython-input-3-c120b1b0f835>, line 1)",
     "output_type": "error",
     "traceback": [
      "\u001b[1;36m  File \u001b[1;32m\"<ipython-input-3-c120b1b0f835>\"\u001b[1;36m, line \u001b[1;32m1\u001b[0m\n\u001b[1;33m    def decora(pattern=\"--\", msg):\u001b[0m\n\u001b[1;37m              ^\u001b[0m\n\u001b[1;31mSyntaxError\u001b[0m\u001b[1;31m:\u001b[0m non-default argument follows default argument\n"
     ]
    }
   ],
   "source": [
    "def decora(pattern=\"--\", msg):\n",
    "    print(\"%s %s %s\" % (pattern, msg, pattern))"
   ]
  },
  {
   "cell_type": "markdown",
   "metadata": {
    "slideshow": {
     "slide_type": "slide"
    }
   },
   "source": [
    "## Funzioni con argomenti dinamici\n",
    "\n",
    "E' possibile dichiarare parametri dinamici di tipo posizionale utilizzando la sintassi *args* (*arguments*) e di tipo chiave-valore utilizzando *kwargs* (*keyword arguments*).\n",
    "\n",
    "- Non è necessario conoscere in anticipo né il tipo né il numero degli argomenti\n",
    "- Supporta l'estensibilità del codice"
   ]
  },
  {
   "cell_type": "markdown",
   "metadata": {
    "slideshow": {
     "slide_type": "slide"
    }
   },
   "source": [
    "### Funzioni con argomenti dinamici: *args"
   ]
  },
  {
   "cell_type": "code",
   "execution_count": 10,
   "metadata": {
    "slideshow": {
     "slide_type": "-"
    }
   },
   "outputs": [],
   "source": [
    "def varargs_func(*args):\n",
    "    for index, arg in enumerate(args):\n",
    "        print(\"Il parametro n° %d vale '%s'\" % (index, arg))"
   ]
  },
  {
   "cell_type": "code",
   "execution_count": 11,
   "metadata": {
    "slideshow": {
     "slide_type": "-"
    }
   },
   "outputs": [
    {
     "name": "stdout",
     "output_type": "stream",
     "text": [
      "Il parametro n° 0 vale '1'\n",
      "Il parametro n° 1 vale 'hello'\n",
      "Il parametro n° 2 vale 'True'\n",
      "Il parametro n° 3 vale '(5, 4, 3)'\n"
     ]
    }
   ],
   "source": [
    "varargs_func(1, \"hello\", True, (5, 4, 3))"
   ]
  },
  {
   "cell_type": "markdown",
   "metadata": {
    "slideshow": {
     "slide_type": "slide"
    }
   },
   "source": [
    "### Funzioni con argomenti dinamici: **kwargs"
   ]
  },
  {
   "cell_type": "code",
   "execution_count": 12,
   "metadata": {
    "slideshow": {
     "slide_type": "-"
    }
   },
   "outputs": [],
   "source": [
    "def varkwargs(**kwargs):\n",
    "    for key, value in kwargs.items():\n",
    "        print(\"Il parametro '%s' vale '%s'\" % (key, value))"
   ]
  },
  {
   "cell_type": "code",
   "execution_count": 13,
   "metadata": {
    "slideshow": {
     "slide_type": "-"
    }
   },
   "outputs": [
    {
     "name": "stdout",
     "output_type": "stream",
     "text": [
      "Il parametro 'city' vale 'Turin'\n",
      "Il parametro 'address' vale 'Via Roma 13'\n",
      "Il parametro 'coordinates' vale '(45.0702505, 7.6823561)'\n"
     ]
    }
   ],
   "source": [
    "varkwargs(city=\"Turin\", address=\"Via Roma 13\", coordinates=(45.0702505, 7.6823561))"
   ]
  },
  {
   "cell_type": "markdown",
   "metadata": {
    "slideshow": {
     "slide_type": "slide"
    }
   },
   "source": [
    "### Funzioni con argomenti dinamici: un esempio"
   ]
  },
  {
   "cell_type": "code",
   "execution_count": 2,
   "metadata": {
    "slideshow": {
     "slide_type": "-"
    }
   },
   "outputs": [],
   "source": [
    "from functools import reduce\n",
    "\n",
    "def calcola(operatore, *args):\n",
    "    if operatore == '+':\n",
    "        return reduce(lambda x, y: x + y, args, 0)\n",
    "    if operatore == '!':\n",
    "        return reduce(lambda x, y: x * y, range(1, args[0] + 1), 1)"
   ]
  },
  {
   "cell_type": "code",
   "execution_count": 16,
   "metadata": {
    "slideshow": {
     "slide_type": "-"
    }
   },
   "outputs": [
    {
     "data": {
      "text/plain": [
       "8"
      ]
     },
     "execution_count": 16,
     "metadata": {},
     "output_type": "execute_result"
    }
   ],
   "source": [
    "calcola('+', 1, 2, 5)"
   ]
  },
  {
   "cell_type": "code",
   "execution_count": 17,
   "metadata": {
    "slideshow": {
     "slide_type": "-"
    }
   },
   "outputs": [
    {
     "data": {
      "text/plain": [
       "720"
      ]
     },
     "execution_count": 17,
     "metadata": {},
     "output_type": "execute_result"
    }
   ],
   "source": [
    "calcola('!', 6)"
   ]
  },
  {
   "cell_type": "markdown",
   "metadata": {
    "slideshow": {
     "slide_type": "slide"
    }
   },
   "source": [
    "## Passaggio dei parametri\n",
    "\n",
    "![Fry Meme](../images/by-value-by-reference.jpg)"
   ]
  },
  {
   "cell_type": "markdown",
   "metadata": {
    "slideshow": {
     "slide_type": "slide"
    }
   },
   "source": [
    "### Passaggio dei parametri\n",
    "\n",
    "Tecnicamente parlando: nessuna delle due.\n",
    "\n",
    "In Python il passaggio dei parametri avviene per riferimento all'oggetto (**call-by-assignment**, **call-by-object** o anche **call-by-object-reference**).\n",
    "\n",
    "Non è importante ricordare il termine, ma vale la pena esaminare il funzionamento."
   ]
  },
  {
   "cell_type": "markdown",
   "metadata": {
    "slideshow": {
     "slide_type": "slide"
    }
   },
   "source": [
    "### Un passo indietro: assegnamento delle variabili"
   ]
  },
  {
   "cell_type": "code",
   "execution_count": 17,
   "metadata": {
    "slideshow": {
     "slide_type": "-"
    }
   },
   "outputs": [],
   "source": [
    "a = 10"
   ]
  },
  {
   "cell_type": "markdown",
   "metadata": {
    "slideshow": {
     "slide_type": "-"
    }
   },
   "source": [
    "1. Un oggetto di tipo _int_, con valore 10 è stato creato in un'area apposita di memoria\n",
    "2. Un nome di valore 'a' è stato aggiunto al namespace corrente\n",
    "3. Il nome 'a' viene fatto puntare all'oggetto del punto 1"
   ]
  },
  {
   "cell_type": "markdown",
   "metadata": {
    "slideshow": {
     "slide_type": "slide"
    }
   },
   "source": [
    "### Assegnamento delle variabili dietro le quinte"
   ]
  },
  {
   "cell_type": "code",
   "execution_count": 18,
   "metadata": {
    "slideshow": {
     "slide_type": "-"
    }
   },
   "outputs": [],
   "source": [
    "a = 20"
   ]
  },
  {
   "cell_type": "markdown",
   "metadata": {
    "slideshow": {
     "slide_type": "-"
    }
   },
   "source": [
    "1. Un oggetto di tipo _int_, con valore 20 è stato creato in un'area apposita di memoria\n",
    "2. Il nome 'a' viene fatto puntare all'oggetto del punto 1\n",
    "3. L'oggetto contenente il valore 10 **è ancora in memoria**\n",
    "\n",
    "_nota: per semplicità non consideriamo l'esistenza di un garbage collector_"
   ]
  },
  {
   "cell_type": "markdown",
   "metadata": {
    "slideshow": {
     "slide_type": "slide"
    }
   },
   "source": [
    "### Ancora un passo indietro: oggetti immutabili e non\n",
    "\n",
    "- Immutabili: una volta creati non possono essere modificati\n",
    "  - Stringhe\n",
    "  - Numeri\n",
    "  - Tuple\n",
    "- Mutabili: possono venire modificati durante il loro ciclo di vita\n",
    "  - Liste\n",
    "  - Dizionari\n",
    "  - Oggetti definiti dall'utente"
   ]
  },
  {
   "cell_type": "markdown",
   "metadata": {
    "slideshow": {
     "slide_type": "slide"
    }
   },
   "source": [
    "### Assegnamento delle variabili dietro le quinte"
   ]
  },
  {
   "cell_type": "code",
   "execution_count": 19,
   "metadata": {
    "slideshow": {
     "slide_type": "-"
    }
   },
   "outputs": [],
   "source": [
    "a = []\n",
    "a.append(10)"
   ]
  },
  {
   "cell_type": "markdown",
   "metadata": {
    "slideshow": {
     "slide_type": "-"
    }
   },
   "source": [
    "1. Un oggetto vuoto di tipo _list_ è stato creato in un'area apposita di memoria\n",
    "2. Il nome 'a' viene fatto puntare all'oggetto del punto 1\n",
    "3. L'oggetto contenente il valore 10 **è ancora in memoria**\n",
    "4. L'oggetto contenente il valore 20 **è ancora in memoria**\n",
    "5. L'oggetto a cui si riferisce il nome 'a' viene modificato direttamente attraverso il suo metodo _append_"
   ]
  },
  {
   "cell_type": "markdown",
   "metadata": {
    "slideshow": {
     "slide_type": "slide"
    }
   },
   "source": [
    "### Passaggio dei parametri: in pratica"
   ]
  },
  {
   "cell_type": "code",
   "execution_count": 14,
   "metadata": {
    "slideshow": {
     "slide_type": "-"
    }
   },
   "outputs": [],
   "source": [
    "def inc(x):\n",
    "    x = x + 1\n",
    "\n",
    "y = 1\n",
    "inc(y)"
   ]
  },
  {
   "cell_type": "markdown",
   "metadata": {
    "slideshow": {
     "slide_type": "-"
    }
   },
   "source": [
    "```python\n",
    "print(y)  # Quale output?\n",
    "```"
   ]
  },
  {
   "cell_type": "code",
   "execution_count": 15,
   "metadata": {
    "slideshow": {
     "slide_type": "fragment"
    }
   },
   "outputs": [
    {
     "name": "stdout",
     "output_type": "stream",
     "text": [
      "1\n"
     ]
    }
   ],
   "source": [
    "print(y)"
   ]
  },
  {
   "cell_type": "markdown",
   "metadata": {
    "slideshow": {
     "slide_type": "slide"
    }
   },
   "source": [
    "### Passaggio dei parametri: in pratica"
   ]
  },
  {
   "cell_type": "code",
   "execution_count": 23,
   "metadata": {
    "slideshow": {
     "slide_type": "-"
    }
   },
   "outputs": [],
   "source": [
    "def add(a):\n",
    "    a.append(6)\n",
    "\n",
    "y = [10]\n",
    "add(y)"
   ]
  },
  {
   "cell_type": "markdown",
   "metadata": {
    "slideshow": {
     "slide_type": "-"
    }
   },
   "source": [
    "```python\n",
    "print(y)  # Quale output?\n",
    "```"
   ]
  },
  {
   "cell_type": "code",
   "execution_count": 24,
   "metadata": {
    "slideshow": {
     "slide_type": "fragment"
    }
   },
   "outputs": [
    {
     "name": "stdout",
     "output_type": "stream",
     "text": [
      "[10, 6]\n"
     ]
    }
   ],
   "source": [
    "print(y)"
   ]
  },
  {
   "cell_type": "markdown",
   "metadata": {
    "slideshow": {
     "slide_type": "slide"
    }
   },
   "source": [
    "## Funzioni anonime\n",
    "\n",
    "Una funzione anonima, detta anche _lambda_, è una funzione a cui non viene assegnato un nome:"
   ]
  },
  {
   "cell_type": "code",
   "execution_count": 26,
   "metadata": {
    "slideshow": {
     "slide_type": "-"
    }
   },
   "outputs": [
    {
     "data": {
      "text/plain": [
       "<function __main__.<lambda>(x)>"
      ]
     },
     "execution_count": 26,
     "metadata": {},
     "output_type": "execute_result"
    }
   ],
   "source": [
    "lambda x: x**2"
   ]
  },
  {
   "cell_type": "markdown",
   "metadata": {
    "slideshow": {
     "slide_type": "-"
    }
   },
   "source": [
    "Una funzione anonima soffre di alcune limitazioni:\n",
    "- non può contenere _statement_\n",
    "- non può contenere assegnazioni di valori"
   ]
  },
  {
   "cell_type": "markdown",
   "metadata": {
    "slideshow": {
     "slide_type": "slide"
    }
   },
   "source": [
    "### Funzioni anonime: a cosa servono\n",
    "\n",
    "Le funzioni anonime sono utili laddove si voglia passare una funzione molto semplice come parametro ad un'altra funzione.\n",
    "\n",
    "Vantaggi:\n",
    "- si evita di assegnare un valore ad una variabile usa-e-getta\n",
    "- il codice risulta estremamente conciso e dunque leggibile"
   ]
  },
  {
   "cell_type": "markdown",
   "metadata": {
    "slideshow": {
     "slide_type": "slide"
    }
   },
   "source": [
    "### Funzioni anonime: a cosa servono"
   ]
  },
  {
   "cell_type": "code",
   "execution_count": 42,
   "metadata": {
    "slideshow": {
     "slide_type": "-"
    }
   },
   "outputs": [],
   "source": [
    "words = ['strawberry', 'apple', 'orange', 'banana']"
   ]
  },
  {
   "cell_type": "code",
   "execution_count": 43,
   "metadata": {
    "slideshow": {
     "slide_type": "-"
    }
   },
   "outputs": [
    {
     "name": "stdout",
     "output_type": "stream",
     "text": [
      "['orange', 'banana', 'apple', 'strawberry']\n"
     ]
    }
   ],
   "source": [
    "print(sorted(words, key=lambda x: x[2]))"
   ]
  },
  {
   "cell_type": "code",
   "execution_count": 44,
   "metadata": {
    "slideshow": {
     "slide_type": "-"
    }
   },
   "outputs": [
    {
     "name": "stdout",
     "output_type": "stream",
     "text": [
      "['orange', 'banana', 'apple', 'strawberry']\n"
     ]
    }
   ],
   "source": [
    "def third_char(word):\n",
    "    return word[2]\n",
    "\n",
    "print(sorted(words, key=third_char))"
   ]
  },
  {
   "cell_type": "markdown",
   "metadata": {
    "slideshow": {
     "slide_type": "slide"
    }
   },
   "source": [
    "### Funzioni anonime: a cosa non servono\n",
    "\n",
    "Le funzioni anonime sono uno strumento molto utile solamente se usato _cum grano salis_.\n",
    "\n",
    "Come suggerito dalla pagina [Functional Programming HOWTO][1]:\n",
    "\n",
    "```\n",
    "1. Write a lambda function.\n",
    "2. Write a comment explaining what the heck that lambda does.\n",
    "3. Study the comment ..., and think of a name that captures the essence of the comment.\n",
    "4. Convert the lambda to a def statement, using that name.\n",
    "5. Remove the comment.\n",
    "```\n",
    "\n",
    "[1]: https://docs.python.org/3/howto/functional.html"
   ]
  },
  {
   "cell_type": "markdown",
   "metadata": {
    "slideshow": {
     "slide_type": "slide"
    }
   },
   "source": [
    "## Decoratori\n",
    "\n",
    "> \"A Python decorator is a .. Python syntax that allows us to more conveniently alter functions and methods ..\"\n",
    "\n",
    "Da non confondere con il [design pattern][1] che porta lo stesso nome.\n",
    "\n",
    "[1]: https://it.wikipedia.org/wiki/Decorator"
   ]
  },
  {
   "cell_type": "markdown",
   "metadata": {
    "slideshow": {
     "slide_type": "slide"
    }
   },
   "source": [
    "### Un esempio di decoratore"
   ]
  },
  {
   "cell_type": "code",
   "execution_count": 1,
   "metadata": {},
   "outputs": [],
   "source": [
    "import time\n",
    "\n",
    "def profile(method):\n",
    "    \"\"\"Print the function's execution time\"\"\"\n",
    "    def do_profile(*args, **kw):\n",
    "        tstart = time.time()\n",
    "        result = method(*args, **kw)\n",
    "        print(\"{0:.4f}\".format(time.time() - tstart))\n",
    "        return result\n",
    "    return do_profile"
   ]
  },
  {
   "cell_type": "markdown",
   "metadata": {
    "slideshow": {
     "slide_type": "slide"
    }
   },
   "source": [
    "### Un esempio di decoratore"
   ]
  },
  {
   "cell_type": "code",
   "execution_count": 99,
   "metadata": {
    "slideshow": {
     "slide_type": "-"
    }
   },
   "outputs": [],
   "source": [
    "@profile\n",
    "def quadratic(n):\n",
    "    for x in range(0, n):\n",
    "        for x in range(0, n):\n",
    "            pass"
   ]
  },
  {
   "cell_type": "code",
   "execution_count": 100,
   "metadata": {
    "slideshow": {
     "slide_type": "-"
    }
   },
   "outputs": [
    {
     "name": "stdout",
     "output_type": "stream",
     "text": [
      "0.0200\n"
     ]
    }
   ],
   "source": [
    "quadratic(1000)"
   ]
  },
  {
   "cell_type": "code",
   "execution_count": 101,
   "metadata": {
    "slideshow": {
     "slide_type": "-"
    }
   },
   "outputs": [
    {
     "name": "stdout",
     "output_type": "stream",
     "text": [
      "2.3550\n"
     ]
    }
   ],
   "source": [
    "quadratic(10000)"
   ]
  },
  {
   "cell_type": "markdown",
   "metadata": {
    "slideshow": {
     "slide_type": "slide"
    }
   },
   "source": [
    "### Un esempio di decoratore: codice equivalente"
   ]
  },
  {
   "cell_type": "code",
   "execution_count": 89,
   "metadata": {},
   "outputs": [],
   "source": [
    "def quadratic(n):\n",
    "    for x in range(0, n):\n",
    "        for x in range(0, n):\n",
    "            pass\n",
    "\n",
    "quadratic = profile(quadratic)"
   ]
  },
  {
   "cell_type": "code",
   "execution_count": 90,
   "metadata": {},
   "outputs": [
    {
     "name": "stdout",
     "output_type": "stream",
     "text": [
      "0.0100\n"
     ]
    }
   ],
   "source": [
    "quadratic(1000)"
   ]
  },
  {
   "cell_type": "code",
   "execution_count": 91,
   "metadata": {},
   "outputs": [
    {
     "name": "stdout",
     "output_type": "stream",
     "text": [
      "2.1650\n"
     ]
    }
   ],
   "source": [
    "quadratic(10000)"
   ]
  },
  {
   "cell_type": "markdown",
   "metadata": {
    "slideshow": {
     "slide_type": "slide"
    }
   },
   "source": [
    "### Decoratori: casi d'uso\n",
    "\n",
    "- Logging\n",
    "- Caching\n",
    "- Debug\n",
    "\n",
    "e ogni genere di attività _trasversale_ a più funzioni/metodi."
   ]
  },
  {
   "cell_type": "markdown",
   "metadata": {
    "slideshow": {
     "slide_type": "slide"
    }
   },
   "source": [
    "### Esempi\n",
    "\n",
    "Memoization.ipynb"
   ]
  },
  {
   "cell_type": "markdown",
   "metadata": {
    "slideshow": {
     "slide_type": "slide"
    }
   },
   "source": [
    "## Comprehension\n",
    "\n",
    "Cosa si intende con il termine _comprehension_?\n",
    "\n",
    "- E' una sintassi caratteristica del linguaggio\n",
    "- Permette la creazione di liste a partire da liste esistenti\n",
    "- Espressiva e succinta rispetto all'uso di _for .. in .._\n",
    "\n",
    "E' una feature dichiaratamente ispirata al linguaggio Haskell, un linguaggio puramente funzionale."
   ]
  },
  {
   "cell_type": "markdown",
   "metadata": {
    "slideshow": {
     "slide_type": "slide"
    }
   },
   "source": [
    "### Comprehension di una lista\n",
    "\n",
    "La forma generale è:\n",
    "\n",
    "```python\n",
    "[espressione for elemento in iterabile]\n",
    "```\n",
    "\n",
    "Un esempio:"
   ]
  },
  {
   "cell_type": "code",
   "execution_count": 1,
   "metadata": {
    "slideshow": {
     "slide_type": "-"
    }
   },
   "outputs": [],
   "source": [
    "lowercase = [\"give\", \"me\", \"an\", \"example\", \"please\"]"
   ]
  },
  {
   "cell_type": "code",
   "execution_count": 2,
   "metadata": {
    "slideshow": {
     "slide_type": "-"
    }
   },
   "outputs": [
    {
     "name": "stdout",
     "output_type": "stream",
     "text": [
      "['GIVE', 'ME', 'AN', 'EXAMPLE', 'PLEASE']\n"
     ]
    }
   ],
   "source": [
    "print([word.upper() for word in lowercase])"
   ]
  },
  {
   "cell_type": "markdown",
   "metadata": {
    "slideshow": {
     "slide_type": "slide"
    }
   },
   "source": [
    "### Comprehension di una lista\n",
    "\n",
    "Stesso risultato di prima, ma utilizzando un ciclo _for_:"
   ]
  },
  {
   "cell_type": "code",
   "execution_count": 3,
   "metadata": {
    "slideshow": {
     "slide_type": "-"
    }
   },
   "outputs": [],
   "source": [
    "def to_uppercase(words):\n",
    "    upper_list = []\n",
    "    for word in words:\n",
    "        upper_list.append(word.upper())\n",
    "    return upper_list"
   ]
  },
  {
   "cell_type": "code",
   "execution_count": 4,
   "metadata": {
    "slideshow": {
     "slide_type": "-"
    }
   },
   "outputs": [
    {
     "name": "stdout",
     "output_type": "stream",
     "text": [
      "['GIVE', 'ME', 'AN', 'EXAMPLE', 'PLEASE']\n"
     ]
    }
   ],
   "source": [
    "print(to_uppercase(lowercase))"
   ]
  },
  {
   "cell_type": "markdown",
   "metadata": {
    "slideshow": {
     "slide_type": "slide"
    }
   },
   "source": [
    "### Filtrare una lista tramite comprehension\n",
    "\n",
    "E' possibile utilizzare espressioni condizionali all'interno di una comprehension.\n",
    "\n",
    "La forma estesa è:\n",
    "\n",
    "```python\n",
    "[espressione for elemento in iterabile if condizione]\n",
    "```\n",
    "\n",
    "Un esempio di utilizzo è la creazione di una lista a partire da un'altra i cui elementi rispondano a un qualche criterio:"
   ]
  },
  {
   "cell_type": "code",
   "execution_count": 7,
   "metadata": {
    "slideshow": {
     "slide_type": "-"
    }
   },
   "outputs": [],
   "source": [
    "short_words = [word for word in lowercase if len(word) <= 2]"
   ]
  },
  {
   "cell_type": "code",
   "execution_count": 8,
   "metadata": {
    "slideshow": {
     "slide_type": "-"
    }
   },
   "outputs": [
    {
     "name": "stdout",
     "output_type": "stream",
     "text": [
      "['me', 'an']\n"
     ]
    }
   ],
   "source": [
    "print(short_words)"
   ]
  },
  {
   "cell_type": "markdown",
   "metadata": {
    "slideshow": {
     "slide_type": "slide"
    }
   },
   "source": [
    "### Operatore ternario if/then/else\n",
    "\n",
    "Utilizzando una speciale forma di if/then/else formulata come operatore ternario all'interno di una comprehension è possibile creare espressioni estremamente potenti come questa:"
   ]
  },
  {
   "cell_type": "code",
   "execution_count": 10,
   "metadata": {
    "slideshow": {
     "slide_type": "-"
    }
   },
   "outputs": [
    {
     "data": {
      "text/plain": [
       "['long', 'short', 'short', 'long', 'long']"
      ]
     },
     "execution_count": 10,
     "metadata": {},
     "output_type": "execute_result"
    }
   ],
   "source": [
    "[\"short\" if len(word) <= 2 else \"long\" for word in lowercase]"
   ]
  },
  {
   "cell_type": "markdown",
   "metadata": {
    "slideshow": {
     "slide_type": "slide"
    }
   },
   "source": [
    "### Comprehension di un dizionario\n",
    "\n",
    "La comprehension può essere utilizzata non solo sulle liste ma su qualunque _iterabile_."
   ]
  },
  {
   "cell_type": "code",
   "execution_count": 27,
   "metadata": {
    "slideshow": {
     "slide_type": "-"
    }
   },
   "outputs": [],
   "source": [
    "citta = {\"Torino\": \"IT\", \"Parigi\": \"FR\", \"Berlino\": \"DE\"}"
   ]
  },
  {
   "cell_type": "code",
   "execution_count": 28,
   "metadata": {
    "slideshow": {
     "slide_type": "-"
    }
   },
   "outputs": [
    {
     "name": "stdout",
     "output_type": "stream",
     "text": [
      "{'IT': 'Torino', 'FR': 'Parigi', 'DE': 'Berlino'}\n"
     ]
    }
   ],
   "source": [
    "print({x[1]: x[0] for x in citta.items()})"
   ]
  },
  {
   "cell_type": "markdown",
   "metadata": {
    "slideshow": {
     "slide_type": "slide"
    }
   },
   "source": [
    "### Comprehension di generatori\n",
    "\n",
    "Utilizzando le parentesi tonde è possibile ottenere un generatore:"
   ]
  },
  {
   "cell_type": "code",
   "execution_count": 7,
   "metadata": {
    "slideshow": {
     "slide_type": "-"
    }
   },
   "outputs": [],
   "source": [
    "quadrati = (x**2 for x in range(1, 20))"
   ]
  },
  {
   "cell_type": "code",
   "execution_count": 8,
   "metadata": {},
   "outputs": [
    {
     "data": {
      "text/plain": [
       "<generator object <genexpr> at 0x000001D4343992B0>"
      ]
     },
     "execution_count": 8,
     "metadata": {},
     "output_type": "execute_result"
    }
   ],
   "source": [
    "quadrati"
   ]
  },
  {
   "cell_type": "code",
   "execution_count": 9,
   "metadata": {
    "slideshow": {
     "slide_type": "-"
    }
   },
   "outputs": [
    {
     "ename": "TypeError",
     "evalue": "object of type 'generator' has no len()",
     "output_type": "error",
     "traceback": [
      "\u001b[1;31m---------------------------------------------------------------------------\u001b[0m",
      "\u001b[1;31mTypeError\u001b[0m                                 Traceback (most recent call last)",
      "\u001b[1;32m<ipython-input-9-d836001d2634>\u001b[0m in \u001b[0;36m<module>\u001b[1;34m()\u001b[0m\n\u001b[1;32m----> 1\u001b[1;33m \u001b[0mlen\u001b[0m\u001b[1;33m(\u001b[0m\u001b[0mquadrati\u001b[0m\u001b[1;33m)\u001b[0m\u001b[1;33m\u001b[0m\u001b[0m\n\u001b[0m",
      "\u001b[1;31mTypeError\u001b[0m: object of type 'generator' has no len()"
     ]
    }
   ],
   "source": [
    "len(quadrati)"
   ]
  },
  {
   "cell_type": "markdown",
   "metadata": {
    "slideshow": {
     "slide_type": "slide"
    }
   },
   "source": [
    "## Map/filter/reduce\n",
    "\n",
    "In generale:\n",
    "\n",
    "> a design pattern for implementing functions that operate on sequences of elements\n",
    "\n",
    "Concretamente:\n",
    "- map(function, iterable)\n",
    "- filter(function, iterable)\n",
    "- reduce(function, iterable)"
   ]
  },
  {
   "cell_type": "markdown",
   "metadata": {
    "slideshow": {
     "slide_type": "slide"
    }
   },
   "source": [
    "### Map"
   ]
  },
  {
   "cell_type": "code",
   "execution_count": 29,
   "metadata": {
    "slideshow": {
     "slide_type": "-"
    }
   },
   "outputs": [],
   "source": [
    "numeri = [3, 4, 8, 9, 0, 2, 3, 4]"
   ]
  },
  {
   "cell_type": "code",
   "execution_count": 30,
   "metadata": {
    "slideshow": {
     "slide_type": "-"
    }
   },
   "outputs": [],
   "source": [
    "numeri_quadrato = map(lambda x: x**2, numeri)"
   ]
  },
  {
   "cell_type": "code",
   "execution_count": 33,
   "metadata": {
    "slideshow": {
     "slide_type": "-"
    }
   },
   "outputs": [
    {
     "name": "stdout",
     "output_type": "stream",
     "text": [
      "<map object at 0x0415C410>\n"
     ]
    }
   ],
   "source": [
    "print(numeri_quadrato)  # iteratore!"
   ]
  },
  {
   "cell_type": "code",
   "execution_count": 32,
   "metadata": {
    "slideshow": {
     "slide_type": "-"
    }
   },
   "outputs": [
    {
     "name": "stdout",
     "output_type": "stream",
     "text": [
      "[9, 16, 64, 81, 0, 4, 9, 16]\n"
     ]
    }
   ],
   "source": [
    "print(list(numeri_quadrato))"
   ]
  },
  {
   "cell_type": "markdown",
   "metadata": {
    "slideshow": {
     "slide_type": "slide"
    }
   },
   "source": [
    "### Filter"
   ]
  },
  {
   "cell_type": "code",
   "execution_count": 43,
   "metadata": {
    "slideshow": {
     "slide_type": "-"
    }
   },
   "outputs": [],
   "source": [
    "numeri = [3, 4, 8, 9, 0, 2, 3, 4]"
   ]
  },
  {
   "cell_type": "code",
   "execution_count": 44,
   "metadata": {
    "slideshow": {
     "slide_type": "-"
    }
   },
   "outputs": [],
   "source": [
    "numeri_pari = filter(lambda x: x % 2 == 0, numeri)"
   ]
  },
  {
   "cell_type": "code",
   "execution_count": 45,
   "metadata": {
    "slideshow": {
     "slide_type": "-"
    }
   },
   "outputs": [
    {
     "name": "stdout",
     "output_type": "stream",
     "text": [
      "<filter object at 0x0416A070>\n"
     ]
    }
   ],
   "source": [
    "print(numeri_pari)  # iteratore!"
   ]
  },
  {
   "cell_type": "code",
   "execution_count": 46,
   "metadata": {
    "slideshow": {
     "slide_type": "-"
    }
   },
   "outputs": [
    {
     "name": "stdout",
     "output_type": "stream",
     "text": [
      "[4, 8, 0, 2, 4]\n"
     ]
    }
   ],
   "source": [
    "print(list(numeri_pari))"
   ]
  },
  {
   "cell_type": "markdown",
   "metadata": {
    "slideshow": {
     "slide_type": "slide"
    }
   },
   "source": [
    "### Reduce"
   ]
  },
  {
   "cell_type": "code",
   "execution_count": 53,
   "metadata": {
    "slideshow": {
     "slide_type": "-"
    }
   },
   "outputs": [],
   "source": [
    "numeri = [3, 4, 8, 9, 0, 2, 3, 4]"
   ]
  },
  {
   "cell_type": "code",
   "execution_count": 54,
   "metadata": {
    "slideshow": {
     "slide_type": "-"
    }
   },
   "outputs": [],
   "source": [
    "from functools import reduce\n",
    "somma = reduce(lambda x, y: x + y, numeri)"
   ]
  },
  {
   "cell_type": "code",
   "execution_count": 55,
   "metadata": {
    "slideshow": {
     "slide_type": "-"
    }
   },
   "outputs": [
    {
     "name": "stdout",
     "output_type": "stream",
     "text": [
      "33\n"
     ]
    }
   ],
   "source": [
    "print(somma)  # iteratore!"
   ]
  },
  {
   "cell_type": "markdown",
   "metadata": {
    "slideshow": {
     "slide_type": "slide"
    }
   },
   "source": [
    "### E ora che abbiamo i mattoncini?"
   ]
  },
  {
   "cell_type": "code",
   "execution_count": 7,
   "metadata": {
    "slideshow": {
     "slide_type": "slide"
    }
   },
   "outputs": [],
   "source": [
    "citta = {\n",
    "    \"Berlino\": { \"paese\": \"DE\", \"popolazione\": 3531201, \"densita\": 3962 },\n",
    "    \"Parigi\": { \"paese\": \"FR\", \"popolazione\": 2206488 , \"densita\": 20934 },\n",
    "    \"Bilbao\": { \"paese\": \"ES\", \"popolazione\": 349356, \"densita\": 8594 },\n",
    "    \"Madrid\": { \"paese\": \"ES\", \"popolazione\": 3141991, \"densita\": 5199 }\n",
    "}"
   ]
  },
  {
   "cell_type": "code",
   "execution_count": 6,
   "metadata": {},
   "outputs": [
    {
     "data": {
      "text/plain": [
       "13793"
      ]
     },
     "execution_count": 6,
     "metadata": {},
     "output_type": "execute_result"
    }
   ],
   "source": [
    "reduce(lambda x, y: x + y, \\\n",
    "       map(lambda x: citta[x][\"densita\"], \\\n",
    "           filter(lambda x: citta[x][\"paese\"] == \"ES\", citta)))"
   ]
  },
  {
   "cell_type": "markdown",
   "metadata": {
    "slideshow": {
     "slide_type": "slide"
    }
   },
   "source": [
    "### E ora che abbiamo i mattoncini?\n",
    "\n",
    "Mi ricorda qualcosa...\n",
    "\n",
    "```sql\n",
    "SELECT SUM(densita)\n",
    "FROM citta\n",
    "WHERE paese = 'ES'\n",
    "```"
   ]
  },
  {
   "cell_type": "markdown",
   "metadata": {
    "slideshow": {
     "slide_type": "slide"
    }
   },
   "source": [
    "### E ora che abbiamo i mattoncini?\n",
    "\n",
    "- Attenzione alla leggibilità\n",
    "- La comprehension è quasi sempre da preferire\n",
    "- Conoscere un paradigma è sempre importante!"
   ]
  }
 ],
 "metadata": {
  "kernelspec": {
   "display_name": "Python 3",
   "language": "python",
   "name": "python3"
  },
  "language_info": {
   "codemirror_mode": {
    "name": "ipython",
    "version": 3
   },
   "file_extension": ".py",
   "mimetype": "text/x-python",
   "name": "python",
   "nbconvert_exporter": "python",
   "pygments_lexer": "ipython3",
   "version": "3.6.5"
  }
 },
 "nbformat": 4,
 "nbformat_minor": 2
}
