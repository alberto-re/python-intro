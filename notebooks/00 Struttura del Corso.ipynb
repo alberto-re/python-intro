{
 "cells": [
  {
   "cell_type": "markdown",
   "metadata": {
    "slideshow": {
     "slide_type": "slide"
    }
   },
   "source": [
    "# Introduzione alla programmazione in\n",
    "\n",
    "![Python logo](../images/python-logo.png)"
   ]
  },
  {
   "cell_type": "markdown",
   "metadata": {
    "slideshow": {
     "slide_type": "slide"
    }
   },
   "source": [
    "### 1. Introduzione\n",
    "\n",
    "- Perché Python\n",
    "- Un po' di storia\n",
    "- Principali caratteristiche\n",
    "- Fondamenti del linguaggio"
   ]
  },
  {
   "cell_type": "markdown",
   "metadata": {
    "slideshow": {
     "slide_type": "slide"
    }
   },
   "source": [
    "### 2. Tipi di dato\n",
    "\n",
    "- Tipi di dato _builtin_\n",
    "- Identità e casting delle variabili\n",
    "- Numeri\n",
    "- Booleani\n",
    "- Liste\n",
    "- Dizionari\n",
    "- Tuple\n",
    "- Set"
   ]
  },
  {
   "cell_type": "markdown",
   "metadata": {
    "slideshow": {
     "slide_type": "slide"
    }
   },
   "source": [
    "### 3. Stringhe\n",
    "\n",
    "- Manipolazione\n",
    "- Formattazione per la stampa\n",
    "- Espressioni regolari"
   ]
  },
  {
   "cell_type": "markdown",
   "metadata": {
    "slideshow": {
     "slide_type": "slide"
    }
   },
   "source": [
    "### 4. Funzioni\n",
    "\n",
    "- Funzioni predefinite\n",
    "- Funzioni definite dall'utente\n",
    "- Passaggio di parametri: _object-by-reference_\n",
    "- Decoratori\n",
    "- Comprehension"
   ]
  },
  {
   "cell_type": "markdown",
   "metadata": {
    "slideshow": {
     "slide_type": "slide"
    }
   },
   "source": [
    "### 5. Classi e Oggetti\n",
    "\n",
    "- Sintassi di base\n",
    "- Alcuni concetti di design"
   ]
  },
  {
   "cell_type": "markdown",
   "metadata": {
    "slideshow": {
     "slide_type": "slide"
    }
   },
   "source": [
    "### 6. Moduli\n",
    "- Moduli\n",
    "- Package\n",
    "- Pip: Pip Installs Python"
   ]
  },
  {
   "cell_type": "markdown",
   "metadata": {
    "slideshow": {
     "slide_type": "slide"
    }
   },
   "source": [
    "### 7. Sistema Operativo\n",
    "\n",
    "- Lettura e scrittura su file\n",
    "- Gestione dei percorsi su file system, attraversamento di directory\n",
    "- Esecuzione di comandi esterni\n",
    "- Intercettare i segnali"
   ]
  },
  {
   "cell_type": "markdown",
   "metadata": {
    "slideshow": {
     "slide_type": "slide"
    }
   },
   "source": [
    "### 8 Networking\n",
    "\n",
    "- HTTP"
   ]
  },
  {
   "cell_type": "markdown",
   "metadata": {
    "slideshow": {
     "slide_type": "slide"
    }
   },
   "source": [
    "### 9. Database Relazionali\n",
    "\n",
    "- Le specifiche 'Python Database API'\n",
    "- Sqlite\n",
    "- MySQL"
   ]
  }
 ],
 "metadata": {
  "kernelspec": {
   "display_name": "Python 3",
   "language": "python",
   "name": "python3"
  },
  "language_info": {
   "codemirror_mode": {
    "name": "ipython",
    "version": 3
   },
   "file_extension": ".py",
   "mimetype": "text/x-python",
   "name": "python",
   "nbconvert_exporter": "python",
   "pygments_lexer": "ipython3",
   "version": "3.6.0"
  }
 },
 "nbformat": 4,
 "nbformat_minor": 2
}
