{
 "cells": [
  {
   "cell_type": "markdown",
   "metadata": {
    "slideshow": {
     "slide_type": "slide"
    }
   },
   "source": [
    "## Moduli"
   ]
  },
  {
   "cell_type": "markdown",
   "metadata": {},
   "source": [
    "### Cos'è un modulo\n",
    "\n",
    "Col crescere di un'applicazione emergono due necessità:\n",
    "\n",
    "- Dividerne il contenuto in più file, perché sia mantenibile\n",
    "- Condividere classi o funzioni tra applicazioni diverse o tra diverse componenti della stessa applicazione\n",
    "\n",
    "Per farlo si può ricorrere alla creazione di moduli.\n",
    "\n",
    "Un modulo è un file con estensione .py contenente una serie di definizioni che può venire importato da altri moduli a sua volta o dallo script principale."
   ]
  },
  {
   "cell_type": "markdown",
   "metadata": {
    "slideshow": {
     "slide_type": "slide"
    }
   },
   "source": [
    "### Un esempio di modulo"
   ]
  },
  {
   "cell_type": "code",
   "execution_count": 1,
   "metadata": {
    "slideshow": {
     "slide_type": "-"
    }
   },
   "outputs": [],
   "source": [
    "def gcd(a, b):\n",
    "    \"\"\"Calculate the Greatest Common Divisor of a and b.\n",
    "\n",
    "    Unless b==0, the result will have the same sign as b (so that when\n",
    "    b is divided by it, the result comes out positive).\n",
    "    \"\"\"\n",
    "    while b:\n",
    "        a, b = b, a%b\n",
    "    return a\n",
    "\n",
    "PI = 3.141592"
   ]
  },
  {
   "cell_type": "markdown",
   "metadata": {
    "slideshow": {
     "slide_type": "slide"
    }
   },
   "source": [
    "### Importare un modulo\n",
    "\n",
    "Tramite l'istruzione **import modulo** si rende disponibile un modulo all'interno del namespace corrente:"
   ]
  },
  {
   "cell_type": "code",
   "execution_count": 2,
   "metadata": {
    "slideshow": {
     "slide_type": "-"
    }
   },
   "outputs": [],
   "source": [
    "import mate"
   ]
  },
  {
   "cell_type": "code",
   "execution_count": 3,
   "metadata": {
    "slideshow": {
     "slide_type": "-"
    }
   },
   "outputs": [
    {
     "data": {
      "text/plain": [
       "15"
      ]
     },
     "execution_count": 3,
     "metadata": {},
     "output_type": "execute_result"
    }
   ],
   "source": [
    "mate.gcd(45, 1275)"
   ]
  },
  {
   "cell_type": "code",
   "execution_count": 4,
   "metadata": {
    "slideshow": {
     "slide_type": "-"
    }
   },
   "outputs": [
    {
     "data": {
      "text/plain": [
       "3.141592"
      ]
     },
     "execution_count": 4,
     "metadata": {},
     "output_type": "execute_result"
    }
   ],
   "source": [
    "mate.PI"
   ]
  },
  {
   "cell_type": "markdown",
   "metadata": {
    "slideshow": {
     "slide_type": "-"
    }
   },
   "source": [
    "Eventuali istruzioni non di assegnazione vengono eseguite solamente una volta al momento dell'importazione."
   ]
  },
  {
   "cell_type": "markdown",
   "metadata": {
    "slideshow": {
     "slide_type": "slide"
    }
   },
   "source": [
    "### Importare i nomi presenti in un modulo\n",
    "\n",
    "Tramite l'istruzione **from modulo import nome** si rendono disponibil specifici nomi (variabili, funzioni, classi) definiti all'interno del modulo nel namespace corrente:"
   ]
  },
  {
   "cell_type": "code",
   "execution_count": 5,
   "metadata": {
    "slideshow": {
     "slide_type": "-"
    }
   },
   "outputs": [],
   "source": [
    "from mate import gcd"
   ]
  },
  {
   "cell_type": "code",
   "execution_count": 6,
   "metadata": {
    "slideshow": {
     "slide_type": "-"
    }
   },
   "outputs": [
    {
     "data": {
      "text/plain": [
       "15"
      ]
     },
     "execution_count": 6,
     "metadata": {},
     "output_type": "execute_result"
    }
   ],
   "source": [
    "gcd(45, 1275)"
   ]
  },
  {
   "cell_type": "markdown",
   "metadata": {
    "slideshow": {
     "slide_type": "-"
    }
   },
   "source": [
    "Si possono importare più nomi con una singola istruzione:"
   ]
  },
  {
   "cell_type": "code",
   "execution_count": 7,
   "metadata": {
    "slideshow": {
     "slide_type": "-"
    }
   },
   "outputs": [],
   "source": [
    "from mate import gcd, PI"
   ]
  },
  {
   "cell_type": "markdown",
   "metadata": {
    "slideshow": {
     "slide_type": "slide"
    }
   },
   "source": [
    "### Dove vengono cercati i moduli?\n",
    "\n",
    "In ordine:\n",
    "- Nella directory corrente\n",
    "- Nelle directory specificate nella variabile d'ambiente _PYTHONPATH_\n",
    "- Nel percorso di default determinato dall'installazione corrente (es. _C:\\\\Users\\\\Alberto\\\\AppData\\\\Local\\\\Programs\\\\Python\\\\Python36_)"
   ]
  },
  {
   "cell_type": "markdown",
   "metadata": {
    "slideshow": {
     "slide_type": "slide"
    }
   },
   "source": [
    "### Dove vengono cercati i moduli?"
   ]
  },
  {
   "cell_type": "code",
   "execution_count": 8,
   "metadata": {
    "slideshow": {
     "slide_type": "-"
    }
   },
   "outputs": [
    {
     "data": {
      "text/plain": [
       "['',\n",
       " 'c:\\\\users\\\\alberto\\\\appdata\\\\local\\\\programs\\\\python\\\\python36\\\\python36.zip',\n",
       " 'c:\\\\users\\\\alberto\\\\appdata\\\\local\\\\programs\\\\python\\\\python36\\\\DLLs',\n",
       " 'c:\\\\users\\\\alberto\\\\appdata\\\\local\\\\programs\\\\python\\\\python36\\\\lib',\n",
       " 'c:\\\\users\\\\alberto\\\\appdata\\\\local\\\\programs\\\\python\\\\python36',\n",
       " 'c:\\\\users\\\\alberto\\\\appdata\\\\local\\\\programs\\\\python\\\\python36\\\\lib\\\\site-packages',\n",
       " 'c:\\\\users\\\\alberto\\\\appdata\\\\local\\\\programs\\\\python\\\\python36\\\\lib\\\\site-packages\\\\IPython\\\\extensions',\n",
       " 'C:\\\\Users\\\\Alberto\\\\.ipython']"
      ]
     },
     "execution_count": 8,
     "metadata": {},
     "output_type": "execute_result"
    }
   ],
   "source": [
    "import sys\n",
    "sys.path"
   ]
  },
  {
   "cell_type": "markdown",
   "metadata": {
    "slideshow": {
     "slide_type": "slide"
    }
   },
   "source": [
    "### Caching dei moduli\n",
    "\n",
    "Per velocizzare l'avvio dell'esecuzione viene effettuato il _caching_ dei bytecode dei moduli nella directory **\\_\\_pycache\\_\\_**.\n",
    "\n",
    "Fino alla versione 2.x venivano invece generati vari file con estensione __.pyc__ a fianco dei sorgenti.\n",
    "\n",
    "Questi file vengono ricompilati solamente se la data di modifica del sorgente è più recente della versione compilata."
   ]
  },
  {
   "cell_type": "markdown",
   "metadata": {
    "slideshow": {
     "slide_type": "slide"
    }
   },
   "source": [
    "## Package\n",
    "\n",
    "Un **package** è una collezione di moduli strutturati gerarchicamente.\n",
    "\n",
    "<pre>\n",
    "foo\n",
    "|   __init__.py\n",
    "|\n",
    "+---bar\n",
    "|   |   baz.py\n",
    "|   |   __init__.py\n",
    "+---wam\n",
    "|   |   tum.py\n",
    "|   |   __init__.py\n",
    "</pre>"
   ]
  },
  {
   "cell_type": "markdown",
   "metadata": {
    "slideshow": {
     "slide_type": "slide"
    }
   },
   "source": [
    "### Significato di \\_\\_init\\_\\_.py\n",
    "\n",
    "Perché un **\\_\\_init\\_\\_.py** in ogni directory?\n",
    "\n",
    "- Comunica all'interprete che la directory contiene un package\n",
    "- Non è necessario abbia un contenuto (*touch \\_\\_init\\_\\_.py*)\n",
    "- Può eseguire del codice di inizializzazione"
   ]
  },
  {
   "cell_type": "markdown",
   "metadata": {
    "slideshow": {
     "slide_type": "slide"
    }
   },
   "source": [
    "### Importare un package"
   ]
  },
  {
   "cell_type": "code",
   "execution_count": 9,
   "metadata": {
    "slideshow": {
     "slide_type": "-"
    }
   },
   "outputs": [],
   "source": [
    "import foo.bar.baz\n",
    "import foo.wam.tum"
   ]
  },
  {
   "cell_type": "code",
   "execution_count": 10,
   "metadata": {
    "slideshow": {
     "slide_type": "-"
    }
   },
   "outputs": [
    {
     "name": "stdout",
     "output_type": "stream",
     "text": [
      "baz!\n"
     ]
    }
   ],
   "source": [
    "foo.bar.baz.baz()"
   ]
  },
  {
   "cell_type": "code",
   "execution_count": 11,
   "metadata": {
    "slideshow": {
     "slide_type": "-"
    }
   },
   "outputs": [
    {
     "name": "stdout",
     "output_type": "stream",
     "text": [
      "tum!\n"
     ]
    }
   ],
   "source": [
    "foo.wam.tum.tum()"
   ]
  },
  {
   "cell_type": "markdown",
   "metadata": {
    "slideshow": {
     "slide_type": "slide"
    }
   },
   "source": [
    "### PIP\n",
    "\n",
    "Il modulo **pip** è la via preferenziale per installare moduli ormai da tempo a questa parte.\n",
    "\n",
    "Da Python 3.4 (o 2.7.9) in avanti fa parte della distribuzione standard. \n",
    "\n",
    "```\n",
    "$ python -m pip help\n",
    "\n",
    "Usage:\n",
    "  C:\\Programmi\\Python36\\python.exe -m pip <command> [options]\n",
    "\n",
    "Commands:\n",
    "  install                     Install packages.\n",
    "...\n",
    "...\n",
    "```"
   ]
  },
  {
   "cell_type": "markdown",
   "metadata": {
    "slideshow": {
     "slide_type": "slide"
    }
   },
   "source": [
    "### Cercare una libreria\n",
    "\n",
    "```\n",
    "$ python -m pip search boto3\n",
    "Flask-Boto3 (0.3.2)          - Flask extension that ties boto3 to the application\n",
    "boto3 (1.7.26)               - The AWS SDK for Python\n",
    "salt-aws-boto3 (0.1.10)      - Use boto3 for AWS orchestration with Salt.\n",
    "boto3-meiqia (1.4.5)         - The AWS SDK for Python\n",
    "django-ses-boto3 (0.1.0)     - Django custom email backend for SES using Boto 3.\n",
    "...\n",
    "...\n",
    "```"
   ]
  },
  {
   "cell_type": "markdown",
   "metadata": {
    "slideshow": {
     "slide_type": "slide"
    }
   },
   "source": [
    "### Installare una libreria\n",
    "\n",
    "```\n",
    "$ python -m pip install boto3\n",
    "Collecting boto3\n",
    "  Downloading https://files.pythonhosted.org/packages/b8/29/f35b0a055014296bf4188043e2cc1fd4ca041a085991765598842232c2f5/boto3-1.7.26-py2.py3-none-any.whl (128kB)\n",
    "Collecting botocore<1.11.0,>=1.10.26 (from boto3)\n",
    "...\n",
    "...\n",
    "Requirement already satisfied: six>=1.5 in c:\\programmi\\python36\\lib\\site-packages (from python-dateutil<3.0.0,>=2.1; python_version >= \"2.7\"->botocore<1.11.0,>=1.10.26->boto3) (1.10.0)\n",
    "Installing collected packages: docutils, jmespath, botocore, s3transfer, boto3\n",
    "Successfully installed boto3-1.7.26 botocore-1.10.26 docutils-0.14 jmespath-0.9.3 s3transfer-0.1.13\n",
    "\n",
    "```"
   ]
  },
  {
   "cell_type": "markdown",
   "metadata": {
    "slideshow": {
     "slide_type": "slide"
    }
   },
   "source": [
    "### Installare una precisa versione\n",
    "\n",
    "Specificando la versione ed un operatore tra uguale, maggiore di o minore di:\n",
    "\n",
    "```\n",
    "$ python -m pip install boto3==1.7.23\n",
    "Collecting boto3==1.7.23\n",
    "  Downloading\n",
    "...\n",
    "...\n",
    "Installing collected packages: boto3\n",
    "  Found existing installation: boto3 1.7.26\n",
    "    Uninstalling boto3-1.7.26:\n",
    "      Successfully uninstalled boto3-1.7.26\n",
    "Successfully installed boto3-1.7.23\n",
    "```"
   ]
  },
  {
   "cell_type": "markdown",
   "metadata": {
    "slideshow": {
     "slide_type": "slide"
    }
   },
   "source": [
    "### Creare un file di requisiti\n",
    "\n",
    "E' possibile tramite il parametro **-r** dire a _pip_ di installare tutti i moduli specificati in un file di requisiti (per convenzione _requirements.txt_).\n",
    "\n",
    "Ogni riga deve contenere il nome di un modulo ed eventualmente versione:\n",
    "\n",
    "```\n",
    "$ cat requirements.txt\n",
    "pandas==0.17.1\n",
    "nltk==3.0.5\n",
    "numpy==1.10.4\n",
    "```"
   ]
  },
  {
   "cell_type": "markdown",
   "metadata": {
    "slideshow": {
     "slide_type": "slide"
    }
   },
   "source": [
    "### Creare un file di requisiti\n",
    "\n",
    "```\n",
    "$ python -m pip install -r requirements.txt\n",
    "Collecting pandas==0.17.1 (from -r requirements.txt (line 1))\n",
    "  Downloading https://files.pythonhosted.org/packages/a9/8e/034d108c2b2834ad4cc5bf7fb2b4d96bacf135034a2e2d946f7b4661d\n",
    "461/pandas-0.17.1.tar.gz (6.7MB)\n",
    "    100% |████████████████████████████████| 6.7MB 478kB/s\n",
    "Collecting nltk==3.0.5 (from -r requirements.txt (line 2))\n",
    "  Downloading https://files.pythonhosted.org/packages/b4/f7/2028842a982c048328215dc6b9a2600bf65fad084c5c0aaa246b03414\n",
    "df3/nltk-3.0.5.tar.gz (1.0MB)\n",
    "    100% |████████████████████████████████| 1.1MB 709kB/s\n",
    "...\n",
    "...\n",
    "```"
   ]
  }
 ],
 "metadata": {
  "kernelspec": {
   "display_name": "Python 3",
   "language": "python",
   "name": "python3"
  },
  "language_info": {
   "codemirror_mode": {
    "name": "ipython",
    "version": 3
   },
   "file_extension": ".py",
   "mimetype": "text/x-python",
   "name": "python",
   "nbconvert_exporter": "python",
   "pygments_lexer": "ipython3",
   "version": "3.6.5"
  }
 },
 "nbformat": 4,
 "nbformat_minor": 2
}
