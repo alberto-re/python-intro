{
 "cells": [
  {
   "cell_type": "markdown",
   "metadata": {
    "slideshow": {
     "slide_type": "slide"
    }
   },
   "source": [
    "# Sistema Operativo"
   ]
  },
  {
   "cell_type": "markdown",
   "metadata": {
    "slideshow": {
     "slide_type": "slide"
    }
   },
   "source": [
    "## Argomenti\n",
    "\n",
    "- Lettura e scrittura su file\n",
    "- Gestione dei percorsi su file system, attraversamento di directory\n",
    "- Esecuzione di comandi esterni\n",
    "- Intercettare i segnali"
   ]
  },
  {
   "cell_type": "markdown",
   "metadata": {
    "slideshow": {
     "slide_type": "slide"
    }
   },
   "source": [
    "## Lettura e scrittura su file\n",
    "\n",
    "Elemento centrale di tutte le operazioni di lettura e scrittura su file è il cosiddetto **file object**, o **stream**.\n",
    "\n",
    "Non è possibile istanziare direttamente un oggetto di tipo stream: per farlo è necessario utilizzare il metodo **open()** della Standard Library."
   ]
  },
  {
   "cell_type": "code",
   "execution_count": 10,
   "metadata": {
    "slideshow": {
     "slide_type": "-"
    }
   },
   "outputs": [
    {
     "data": {
      "text/plain": [
       "<_io.TextIOWrapper name='text.txt' mode='w' encoding='cp1252'>"
      ]
     },
     "execution_count": 10,
     "metadata": {},
     "output_type": "execute_result"
    }
   ],
   "source": [
    "open(\"text.txt\", 'w')"
   ]
  },
  {
   "cell_type": "markdown",
   "metadata": {
    "slideshow": {
     "slide_type": "slide"
    }
   },
   "source": [
    "### open(): i parametri\n",
    "\n",
    "```python\n",
    "open(file, mode='r', encoding=None, ...)\n",
    "```\n",
    "\n",
    "I principali parametri di cui tenere conto sono:\n",
    "\n",
    "- file: ovvero il percorso\n",
    "- mode: la modalità di apertura\n",
    "- encoding: il tipo di [character encoding][2] (solo per file di testo)\n",
    "\n",
    "[2]: https://en.wikipedia.org/wiki/Character_encoding"
   ]
  },
  {
   "cell_type": "markdown",
   "metadata": {
    "slideshow": {
     "slide_type": "slide"
    }
   },
   "source": [
    "### open(): il parametro 'mode'\n",
    "\n",
    "Una stringa opzionale composta da uno o più dei seguenti caratteri.\n",
    "\n",
    "* 'r': file in sola lettura\n",
    "* 'w': file in sola scrittura\n",
    "* 'a': file in sola scrittura (aggiunge al fondo)\n",
    "* 'x': sola creazione (fallisce nel caso il file esista già)\n",
    "* 'b': modalità binaria\n",
    "* 't': modalità testuale\n",
    "\n",
    "Se non viene specificato il parametro si assume il valore di **r** (implicitamente **rt**)."
   ]
  },
  {
   "cell_type": "markdown",
   "metadata": {
    "slideshow": {
     "slide_type": "slide"
    }
   },
   "source": [
    "### open(): il parametro 'encoding'\n",
    "\n",
    "Rilevante solo per file aperti in modalità testo (**'t'**).\n",
    "\n",
    "Se non specificato verrà applicato il valore di default per il sistema operativo."
   ]
  },
  {
   "cell_type": "markdown",
   "metadata": {
    "slideshow": {
     "slide_type": "slide"
    }
   },
   "source": [
    "### close(): l'approccio consigliato (Python >= 2.6)"
   ]
  },
  {
   "cell_type": "code",
   "execution_count": 7,
   "metadata": {
    "slideshow": {
     "slide_type": "-"
    }
   },
   "outputs": [],
   "source": [
    "with open(\"./text.txt\") as stream:\n",
    "    pass  # Do your things here"
   ]
  },
  {
   "cell_type": "markdown",
   "metadata": {
    "slideshow": {
     "slide_type": "-"
    }
   },
   "source": [
    "Utilizzando il blocco **with .. as ..** non dovremo preoccuparci di gestire la chiusura del file, anche nel caso in cui qualche eccezione venisse sollevata durante l'esecuzione."
   ]
  },
  {
   "cell_type": "markdown",
   "metadata": {
    "slideshow": {
     "slide_type": "slide"
    }
   },
   "source": [
    "### close(): l'approccio classico (Python < 2.6)"
   ]
  },
  {
   "cell_type": "code",
   "execution_count": 11,
   "metadata": {
    "slideshow": {
     "slide_type": "-"
    }
   },
   "outputs": [
    {
     "name": "stdout",
     "output_type": "stream",
     "text": [
      "Exception: [Errno 2] No such file or directory: './absent.txt'\n"
     ]
    }
   ],
   "source": [
    "try:\n",
    "    stream = open(\"./absent.txt\")\n",
    "    # Do your things here\n",
    "except IOError as ex:\n",
    "    print(\"Exception: %s\" % ex)\n",
    "finally:\n",
    "    stream.close()"
   ]
  },
  {
   "cell_type": "markdown",
   "metadata": {
    "slideshow": {
     "slide_type": "slide"
    }
   },
   "source": [
    "### File Object API (modalità testo)\n",
    "\n",
    "- read(): legge il contenuto del file in un'unica chiamata\n",
    "- write(): scrive il contenuto file\n",
    "- close(): chiude lo stream\n",
    "\n",
    "Per la API completa fare riferimento alla documentazione di [IOBase e delle sue sottoclassi][1].\n",
    "\n",
    "[1]: https://docs.python.org/3/library/io.html#io.IOBase"
   ]
  },
  {
   "cell_type": "markdown",
   "metadata": {
    "slideshow": {
     "slide_type": "slide"
    }
   },
   "source": [
    "### Esempi\n",
    "\n",
    "05.1 Lettura e scrittura su file.ipynb"
   ]
  },
  {
   "cell_type": "markdown",
   "metadata": {
    "slideshow": {
     "slide_type": "slide"
    }
   },
   "source": [
    "### Gestione dei percorsi su file system, attraversamento di directory\n",
    "\n",
    "Esistono varie librerie più o meno di alto livello adatte al compito, le cui principali sono:\n",
    "\n",
    "- os\n",
    "- glob\n",
    "- pathlib\n",
    "\n",
    "Ci concentreremo su [pathlib][1], l'alternativa più moderna introdotta con la versione 3.4.\n",
    "\n",
    "E' comunque disponibile un backport per Python >= 2.6 sotto il nome di [pathlib2][2].\n",
    "\n",
    "[1]: https://docs.python.org/3/library/pathlib.html\n",
    "[2]: https://pypi.org/project/pathlib2/"
   ]
  },
  {
   "cell_type": "markdown",
   "metadata": {
    "slideshow": {
     "slide_type": "slide"
    }
   },
   "source": [
    "### pathlib: importazione\n",
    "\n",
    "Per prima cosa è necessario importare la classe principale, **Path**:"
   ]
  },
  {
   "cell_type": "code",
   "execution_count": 2,
   "metadata": {
    "slideshow": {
     "slide_type": "-"
    }
   },
   "outputs": [],
   "source": [
    "from pathlib import Path"
   ]
  },
  {
   "cell_type": "markdown",
   "metadata": {
    "slideshow": {
     "slide_type": "slide"
    }
   },
   "source": [
    "### pathlib: istanziare la classe Path\n",
    "\n",
    "Possiamo istanziare il nostro percorso partendo dalla directory di lavoro corrente:"
   ]
  },
  {
   "cell_type": "code",
   "execution_count": 39,
   "metadata": {
    "slideshow": {
     "slide_type": "-"
    }
   },
   "outputs": [
    {
     "data": {
      "text/plain": [
       "WindowsPath('C:/Users/are/Development/python-intro/notebooks')"
      ]
     },
     "execution_count": 39,
     "metadata": {},
     "output_type": "execute_result"
    }
   ],
   "source": [
    "Path.cwd()"
   ]
  },
  {
   "cell_type": "code",
   "execution_count": 40,
   "metadata": {
    "slideshow": {
     "slide_type": "-"
    }
   },
   "outputs": [
    {
     "data": {
      "text/plain": [
       "WindowsPath('C:/Users')"
      ]
     },
     "execution_count": 40,
     "metadata": {},
     "output_type": "execute_result"
    }
   ],
   "source": [
    "Path(\"C:/Users\")"
   ]
  },
  {
   "cell_type": "markdown",
   "metadata": {
    "slideshow": {
     "slide_type": "-"
    }
   },
   "source": [
    "**nota bene**: sia su Windows che su Linux i percorsi vengono specificati con lo '**/**'. Sarà poi la libreria a prendersi cura di gestire diversamente i percorsi a seconda del sistema operativo sottostante."
   ]
  },
  {
   "cell_type": "markdown",
   "metadata": {
    "slideshow": {
     "slide_type": "slide"
    }
   },
   "source": [
    "### pathlib: istanziare la classe Path con percorsi composti\n",
    "\n",
    "Una peculiarità di pathlib è il fatto di permettere di specificare percorsi composti in maniera molto intuitiva attraverso l'override dell'operatore '**/**':"
   ]
  },
  {
   "cell_type": "code",
   "execution_count": 41,
   "metadata": {
    "slideshow": {
     "slide_type": "-"
    }
   },
   "outputs": [
    {
     "data": {
      "text/plain": [
       "WindowsPath('C:/Users/are/Development/python-intro/notebooks/00 Struttura del Corso.ipynb')"
      ]
     },
     "execution_count": 41,
     "metadata": {},
     "output_type": "execute_result"
    }
   ],
   "source": [
    "Path.cwd() / \"00 Struttura del Corso.ipynb\""
   ]
  },
  {
   "cell_type": "code",
   "execution_count": 42,
   "metadata": {
    "slideshow": {
     "slide_type": "-"
    }
   },
   "outputs": [],
   "source": [
    "path = Path(\"C:/\") / \"Windows\""
   ]
  },
  {
   "cell_type": "markdown",
   "metadata": {
    "slideshow": {
     "slide_type": "slide"
    }
   },
   "source": [
    "### Path: iterdir()\n",
    "\n",
    "il metodo [iterdir()][1] permette di iterare sul contenuto di una directory.\n",
    "\n",
    "Se il percorso si riferisce ad un file e non ad una directory verrà sollevata un'eccezione di tipo **NotADirectoryError**: \n",
    "\n",
    "[1]: https://docs.python.org/3/library/pathlib.html#pathlib.Path.iterdir"
   ]
  },
  {
   "cell_type": "code",
   "execution_count": 64,
   "metadata": {
    "slideshow": {
     "slide_type": "-"
    }
   },
   "outputs": [
    {
     "name": "stdout",
     "output_type": "stream",
     "text": [
      "C:\\Intel\\ExtremeGraphics\n",
      "C:\\Intel\\gp\n",
      "C:\\Intel\\Logs\n"
     ]
    }
   ],
   "source": [
    "path = Path(\"C:/Intel\")\n",
    "for file in path.iterdir():\n",
    "    print(file)"
   ]
  },
  {
   "cell_type": "markdown",
   "metadata": {
    "slideshow": {
     "slide_type": "slide"
    }
   },
   "source": [
    "### Path: is_file() e is_dir()"
   ]
  },
  {
   "cell_type": "code",
   "execution_count": 49,
   "metadata": {
    "slideshow": {
     "slide_type": "-"
    }
   },
   "outputs": [
    {
     "data": {
      "text/plain": [
       "True"
      ]
     },
     "execution_count": 49,
     "metadata": {},
     "output_type": "execute_result"
    }
   ],
   "source": [
    "Path(\"C:/Windows\").is_dir()"
   ]
  },
  {
   "cell_type": "code",
   "execution_count": 48,
   "metadata": {
    "slideshow": {
     "slide_type": "-"
    }
   },
   "outputs": [
    {
     "data": {
      "text/plain": [
       "True"
      ]
     },
     "execution_count": 48,
     "metadata": {},
     "output_type": "execute_result"
    }
   ],
   "source": [
    "path = Path.cwd() / \"00 Struttura del Corso.ipynb\"\n",
    "path.is_file()"
   ]
  },
  {
   "cell_type": "markdown",
   "metadata": {
    "slideshow": {
     "slide_type": "slide"
    }
   },
   "source": [
    "### Path: glob() e il pattern matching"
   ]
  },
  {
   "cell_type": "code",
   "execution_count": 63,
   "metadata": {
    "slideshow": {
     "slide_type": "-"
    }
   },
   "outputs": [
    {
     "name": "stdout",
     "output_type": "stream",
     "text": [
      "C:\\Users\\are\\Development\\python-intro\\notebooks\\01 Introduzione al Linguaggio.ipynb\n"
     ]
    }
   ],
   "source": [
    "for path in Path.cwd().glob(\"*Introduzione*\"):\n",
    "    print(path)"
   ]
  },
  {
   "cell_type": "markdown",
   "metadata": {
    "slideshow": {
     "slide_type": "-"
    }
   },
   "source": [
    "Anche ricorsivamente con l'uso del pattern '__**__':"
   ]
  },
  {
   "cell_type": "code",
   "execution_count": 62,
   "metadata": {
    "slideshow": {
     "slide_type": "-"
    }
   },
   "outputs": [
    {
     "name": "stdout",
     "output_type": "stream",
     "text": [
      "C:\\Program Files\\Git\\etc\\pki\\ca-trust\\extracted\\pem\\email-ca-bundle.pem\n",
      "C:\\Program Files\\Git\\etc\\pki\\ca-trust\\extracted\\pem\\objsign-ca-bundle.pem\n",
      "C:\\Program Files\\Git\\etc\\pki\\ca-trust\\extracted\\pem\\tls-ca-bundle.pem\n",
      "C:\\Program Files\\Git\\mingw64\\etc\\pki\\ca-trust\\extracted\\pem\\email-ca-bundle.pem\n",
      "C:\\Program Files\\Git\\mingw64\\etc\\pki\\ca-trust\\extracted\\pem\\objsign-ca-bundle.pem\n",
      "C:\\Program Files\\Git\\mingw64\\etc\\pki\\ca-trust\\extracted\\pem\\tls-ca-bundle.pem\n",
      "C:\\Program Files\\Git\\mingw64\\ssl\\cert.pem\n",
      "C:\\Program Files\\Git\\usr\\ssl\\cert.pem\n"
     ]
    }
   ],
   "source": [
    "for path in Path(\"C:/Program Files/Git\").glob(\"**/*.pem\"):\n",
    "    print(path)"
   ]
  },
  {
   "cell_type": "markdown",
   "metadata": {
    "slideshow": {
     "slide_type": "slide"
    }
   },
   "source": [
    "### Path: operare sul contenuto dei file\n",
    "\n",
    "pathlib mette a disposione anche dei metodi per operare sul contenuto dei file, analoghi a quelli visti in precedenza ma più di alto livello.\n",
    "\n",
    "I principali sono:\n",
    "\n",
    "- read_text(): legge l'intero contenuto del file\n",
    "- write_text(): sovrascrive il contenuto con quello specificato"
   ]
  },
  {
   "cell_type": "markdown",
   "metadata": {
    "slideshow": {
     "slide_type": "slide"
    }
   },
   "source": [
    "### Esempi\n",
    "\n",
    "05.2 Gestione dei percorsi su file system, attraversamento di directory"
   ]
  },
  {
   "cell_type": "markdown",
   "metadata": {
    "slideshow": {
     "slide_type": "slide"
    }
   },
   "source": [
    "### Operare su di un file\n",
    "\n",
    "Pathfile sia un metodo open() con la stessa funzionalità del metodo omonimo della standard library, sia un'API di alto livello per l'accesso al contenuto di singoli file.\n",
    "\n",
    "Pur non offrendo la stessa flessibilità delle primitive è decisamente comodo per svolgere le operazioni più semplici:"
   ]
  },
  {
   "cell_type": "code",
   "execution_count": 49,
   "metadata": {},
   "outputs": [
    {
     "name": "stdout",
     "output_type": "stream",
     "text": [
      "Una introduzione al linguaggio di programmazione Python tramite notebook Jupyter.\n"
     ]
    }
   ],
   "source": [
    "# read_text() API\n",
    "for file in path.glob(\"*.md\"):\n",
    "    print(file.read_text())"
   ]
  },
  {
   "cell_type": "markdown",
   "metadata": {
    "slideshow": {
     "slide_type": "slide"
    }
   },
   "source": [
    "## Eseguire processi esterni"
   ]
  },
  {
   "cell_type": "markdown",
   "metadata": {
    "slideshow": {
     "slide_type": "slide"
    }
   },
   "source": [
    "### Il modulo subprocess\n",
    "\n",
    "**subprocess** è una libreria che permette di eseguire nuovi processi, connettersi alle loro pipe di input/output/error, ed ottenere i loro codici di ritorno (_exit status_).\n",
    "\n",
    "Rimpiazza varie vecchie librerie, tra le quali:\n",
    "\n",
    "- os.system\n",
    "- os.spawn\n",
    "- os.popen\n",
    "\n",
    "Per importarla è sufficiente la seguente istruzione:"
   ]
  },
  {
   "cell_type": "code",
   "execution_count": 2,
   "metadata": {
    "slideshow": {
     "slide_type": "-"
    }
   },
   "outputs": [],
   "source": [
    "import subprocess"
   ]
  },
  {
   "cell_type": "markdown",
   "metadata": {
    "slideshow": {
     "slide_type": "slide"
    }
   },
   "source": [
    "### subprocess: il metodo run()\n",
    "\n",
    "Il metodo __run()__ è il punto di ingresso alle funzioni della libreria.\n",
    "\n",
    "La firma del metodo è piuttosto complessa ma, come vedremo con degli esempi, il suo utilizzo si rivela in realtà piuttosto semplice.\n",
    "\n",
    "```python\n",
    "subprocess.run(args, *, stdin=None, input=None, stdout=None, stderr=None, shell=False, cwd=None, timeout=None, check=False, encoding=None, errors=None)\n",
    "```"
   ]
  },
  {
   "cell_type": "markdown",
   "metadata": {
    "slideshow": {
     "slide_type": "slide"
    }
   },
   "source": [
    "### subprocess: il metodo run() - utilizzo base"
   ]
  },
  {
   "cell_type": "code",
   "execution_count": 4,
   "metadata": {
    "slideshow": {
     "slide_type": "-"
    }
   },
   "outputs": [
    {
     "data": {
      "text/plain": [
       "CompletedProcess(args=['ls', '-l'], returncode=0)"
      ]
     },
     "execution_count": 4,
     "metadata": {},
     "output_type": "execute_result"
    }
   ],
   "source": [
    "subprocess.run([\"ls\", \"-l\"])"
   ]
  },
  {
   "cell_type": "markdown",
   "metadata": {
    "slideshow": {
     "slide_type": "-"
    }
   },
   "source": [
    "[CompletedProcess][1] è un oggetto che rappresenta lo stato dell'esecuzione a posteriori.\n",
    "\n",
    "Come possiamo vedere da questo esempio ci vengono riportarti due dati:\n",
    "\n",
    "- il comando che è stato eseguito\n",
    "- il _returncode_ dell'esecuzione (0=successo, >0=errore)\n",
    "\n",
    "[1]: https://docs.python.org/3/library/subprocess.html#subprocess.CompletedProcess"
   ]
  },
  {
   "cell_type": "markdown",
   "metadata": {
    "slideshow": {
     "slide_type": "slide"
    }
   },
   "source": [
    "### subprocess: il metodo run() - i returncode\n",
    "\n",
    "Esistono delle convenzioni riguardo ai codici di errore la cui trattazione va però oltre ai nostri scopi. Si vedano:\n",
    "\n",
    "- [Advanced Bash-Scripting Guide: Appendix E. Exit Codes With Special Meanings][2]\n",
    "- [man sysexits(3) - FreeBSD Manual Pages][3]\n",
    "\n",
    "\n",
    "[2]: http://tldp.org/LDP/abs/html/exitcodes.html\n",
    "[3]: https://www.freebsd.org/cgi/man.cgi?query=sysexits&apropos=0&sektion=0&manpath=FreeBSD%204.3-RELEASE&format=html"
   ]
  },
  {
   "cell_type": "markdown",
   "metadata": {
    "slideshow": {
     "slide_type": "slide"
    }
   },
   "source": [
    "### subprocess: il metodo run() - da returncode a eccezione\n",
    "\n",
    "_\"Errors should never pass silently.\"_ è uno dei principi alla base del linguaggio, in questo caso disatteso dal comportamento di base della libreria.\n",
    "\n",
    "E' però possibile (e consigliato) forzare il lancio di un'eccezione di tipo [CalledProcessError][1] nel caso in cui il processo esca con un returncode diverso da zero:\n",
    "\n",
    "[1]: https://docs.python.org/3/library/subprocess.html#subprocess.CalledProcessError"
   ]
  },
  {
   "cell_type": "code",
   "execution_count": 69,
   "metadata": {
    "slideshow": {
     "slide_type": "-"
    }
   },
   "outputs": [
    {
     "name": "stdout",
     "output_type": "stream",
     "text": [
      "Si è verificato un errore: \"Command '['ls', '-lz', '..']' returned non-zero exit status 2.\"\n"
     ]
    }
   ],
   "source": [
    "try:\n",
    "    result = subprocess.run([\"ls\", \"-lz\", \"..\"], check=True)\n",
    "except subprocess.CalledProcessError as error:\n",
    "    print('Si è verificato un errore: \"{}\"'.format(error))"
   ]
  },
  {
   "cell_type": "markdown",
   "metadata": {
    "slideshow": {
     "slide_type": "slide"
    }
   },
   "source": [
    "### subprocess: il metodo run() - catturare stout e stderr\n",
    "\n",
    "il metodo _run()_ non cattura standard output e standard error di default. Per abilitarne la cattura è necessario passare __PIPE__ come argomento rispettivamente al parametro stdin, a stdout, o ad entrambi:"
   ]
  },
  {
   "cell_type": "code",
   "execution_count": 62,
   "metadata": {
    "slideshow": {
     "slide_type": "-"
    }
   },
   "outputs": [],
   "source": [
    "result = subprocess.run([\"ls\", \"-l\", \"..\"], stdout=subprocess.PIPE)"
   ]
  },
  {
   "cell_type": "code",
   "execution_count": 16,
   "metadata": {
    "slideshow": {
     "slide_type": "-"
    }
   },
   "outputs": [
    {
     "data": {
      "text/plain": [
       "b'total 11\\n-rw-r--r-- 1 are 1049089  70 Feb 27 14:28 build_pdf.sh\\n-rw-r--r-- 1 are 1049089 129 Feb 27 '"
      ]
     },
     "execution_count": 16,
     "metadata": {},
     "output_type": "execute_result"
    }
   ],
   "source": [
    "result.stdout[:100]"
   ]
  },
  {
   "cell_type": "markdown",
   "metadata": {
    "slideshow": {
     "slide_type": "slide"
    }
   },
   "source": [
    "### subprocess: il metodo run() - impostare un timeout\n",
    "\n",
    "Di default _run()_ non impone nessun timeout ai processi eseguiti. Questo spesso non è desiderabile ed è possibile forzare un numero di secondi oltre il quale verrà lanciata un'eccezione di tipo [TimeoutExpired][1] passando un numero come valore al parametro __timeout__:\n",
    "\n",
    "[1]: https://docs.python.org/3/library/subprocess.html#subprocess.TimeoutExpired"
   ]
  },
  {
   "cell_type": "code",
   "execution_count": 19,
   "metadata": {
    "slideshow": {
     "slide_type": "-"
    }
   },
   "outputs": [],
   "source": [
    "result = subprocess.run([\"ls\", \"-l\", \"..\"], timeout=5, stdout=subprocess.PIPE)"
   ]
  },
  {
   "cell_type": "markdown",
   "metadata": {
    "slideshow": {
     "slide_type": "slide"
    }
   },
   "source": [
    "### subprocess: il metodo run() - passaggio dell'input\n",
    "\n",
    "Per passare dell'input al processo eseguito è necessario passare una stringa come valore del parametro __input__:"
   ]
  },
  {
   "cell_type": "code",
   "execution_count": 60,
   "metadata": {
    "slideshow": {
     "slide_type": "-"
    }
   },
   "outputs": [
    {
     "data": {
      "text/plain": [
       "CompletedProcess(args=['tac'], returncode=0, stdout=\"pas une STDINCeci n'est\\n\")"
      ]
     },
     "execution_count": 60,
     "metadata": {},
     "output_type": "execute_result"
    }
   ],
   "source": [
    "input = \"\"\"Ceci n'est\n",
    "pas une STDIN\"\"\"\n",
    "\n",
    "subprocess.run([\"tac\"], stdout=subprocess.PIPE, input=input, encoding=\"utf-8\")"
   ]
  },
  {
   "cell_type": "markdown",
   "metadata": {
    "slideshow": {
     "slide_type": "slide"
    }
   },
   "source": [
    "## Intercettare i segnali"
   ]
  },
  {
   "cell_type": "markdown",
   "metadata": {
    "slideshow": {
     "slide_type": "slide"
    }
   },
   "source": [
    "### Il modulo signal\n",
    "\n",
    "Tramite la funzione [signal()][1] esportata dal modulo si possono definire delle funzioni che verranno eseguite alla ricezione di un certo segnale (_handler_).\n",
    "\n",
    "I segnali sono uno strumento di comunicazione asincrona tra processi introdotto nel sistema Unix nel 1970 dai laboratori Bell.\n",
    "\n",
    "- [man signal][2]\n",
    "- [man kill][3]\n",
    "\n",
    "[1]: https://docs.python.org/3/library/signal.html#signal.signal\n",
    "[2]: http://man7.org/linux/man-pages/man7/signal.7.html\n",
    "[3]: http://man7.org/linux/man-pages/man1/kill.1.html"
   ]
  },
  {
   "cell_type": "markdown",
   "metadata": {
    "slideshow": {
     "slide_type": "slide"
    }
   },
   "source": [
    "### Il modulo signal - i segnali POSIX\n",
    "\n",
    "- SIGTERM: termina il processo\n",
    "- SIGINT: interruzione da tastiera (i.e. _CTRL+C_)\n",
    "- SIGHUP: chiusura del terminale - aggiornamento configurazione\n",
    "- SIGKILL, SIGSTOP, SIGCNT, etc..."
   ]
  },
  {
   "cell_type": "markdown",
   "metadata": {
    "slideshow": {
     "slide_type": "slide"
    }
   },
   "source": [
    "### Il modulo signal - casi d'uso\n",
    "\n",
    "Nel caso in cui non vengano definiti degli _handler_ i comportamenti di default vengono applicati.\n",
    "\n",
    "Ciò non è sempre accettabile, ad esempio:\n",
    "\n",
    "- Pulizia di PID file\n",
    "- Possibili stati inconsistenti dovuti ad esecuzioni parziali\n",
    "- I/O flush"
   ]
  },
  {
   "cell_type": "markdown",
   "metadata": {
    "slideshow": {
     "slide_type": "slide"
    }
   },
   "source": [
    "### Il modulo signal - definire un handler"
   ]
  },
  {
   "cell_type": "code",
   "execution_count": 2,
   "metadata": {
    "slideshow": {
     "slide_type": "-"
    }
   },
   "outputs": [
    {
     "data": {
      "text/plain": [
       "<function __main__.handler>"
      ]
     },
     "execution_count": 2,
     "metadata": {},
     "output_type": "execute_result"
    }
   ],
   "source": [
    "import signal\n",
    "import sys\n",
    "\n",
    "def handler(signum, frame):\n",
    "    print('Intercettato segnale', signum)\n",
    "    sys.exit(0)\n",
    "\n",
    "signal.signal(signal.SIGTERM, handler)"
   ]
  }
 ],
 "metadata": {
  "kernelspec": {
   "display_name": "Python 3",
   "language": "python",
   "name": "python3"
  },
  "language_info": {
   "codemirror_mode": {
    "name": "ipython",
    "version": 3
   },
   "file_extension": ".py",
   "mimetype": "text/x-python",
   "name": "python",
   "nbconvert_exporter": "python",
   "pygments_lexer": "ipython3",
   "version": "3.6.5"
  }
 },
 "nbformat": 4,
 "nbformat_minor": 2
}
