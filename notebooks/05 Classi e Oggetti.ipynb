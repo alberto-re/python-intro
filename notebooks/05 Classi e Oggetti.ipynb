{
 "cells": [
  {
   "cell_type": "markdown",
   "metadata": {},
   "source": [
    "# Programmazione ad oggetti"
   ]
  },
  {
   "cell_type": "markdown",
   "metadata": {
    "slideshow": {
     "slide_type": "slide"
    }
   },
   "source": [
    "## Cos'è un oggetto?\n",
    "\n",
    "Un oggetto è un'entità logica costituita da tre elementi fondamentali:\n",
    "\n",
    "- L'appartenenza ad una _classe_ (_identità_)\n",
    "- Degli attributi, cioè dei valori propri dell'oggetto (_stato_)\n",
    "- Dei metodi, cioè delle funzioni che operano sugli attributi (_comportamento_)"
   ]
  },
  {
   "cell_type": "markdown",
   "metadata": {
    "slideshow": {
     "slide_type": "slide"
    }
   },
   "source": [
    "## Cos'è una classe?\n",
    "\n",
    "Una classe è un modello per la creazione di oggetti.\n",
    "\n",
    "Una classe stabilisce alcune caratteristiche degli oggetti che la istanziano:\n",
    "\n",
    "- Quali attributi avranno\n",
    "- Di che tipo sono questi attributi\n",
    "- Quali metodi metteranno a disposizione"
   ]
  },
  {
   "cell_type": "markdown",
   "metadata": {
    "slideshow": {
     "slide_type": "slide"
    }
   },
   "source": [
    "### Parallelismo con i database relazionali\n",
    "\n",
    "Possiamo fare un parallelo tra il concetto di classe nella programmazione _OOP_ ed il concetto di _tabella_ nel mondo dei database relazionali:\n",
    "\n",
    "* Una _classe_ è concettualmente simile ad una _tabella_: non ci dice come sono valorizzate le singole _istanze_ (_oggetti_ nel primo caso, _righe_ nel secondo), ma le definisce attraverso una struttura comune.\n",
    "\n",
    "* Un _attributo_ è concettualmente simile ad una _colonna_ di una tabella: definisce quali caratteristiche identificano la nostra classe, e di che tipo sono."
   ]
  },
  {
   "cell_type": "markdown",
   "metadata": {
    "slideshow": {
     "slide_type": "slide"
    }
   },
   "source": [
    "### Una classe definita dall'utente\n",
    "\n",
    "Finora abbiamo sempre usato gli oggetti, ma non ne abbiamo ancora definiti di nuovi.\n",
    "\n",
    "La parola chiave __class__ permette di creare nuove classi definite dall'utente."
   ]
  },
  {
   "cell_type": "code",
   "execution_count": 1,
   "metadata": {
    "slideshow": {
     "slide_type": "-"
    }
   },
   "outputs": [],
   "source": [
    "class Articolo():\n",
    "    pass"
   ]
  },
  {
   "cell_type": "markdown",
   "metadata": {
    "slideshow": {
     "slide_type": "-"
    }
   },
   "source": [
    "Se si vuole che il proprio codice sia retrocompatibile con la versione 2.x è necessario definire esplicitamente la classe base __object__:"
   ]
  },
  {
   "cell_type": "code",
   "execution_count": 1,
   "metadata": {
    "slideshow": {
     "slide_type": "-"
    }
   },
   "outputs": [],
   "source": [
    "class Articolo(object):\n",
    "    pass"
   ]
  },
  {
   "cell_type": "markdown",
   "metadata": {
    "slideshow": {
     "slide_type": "slide"
    }
   },
   "source": [
    "### Istanziare una classe\n",
    "\n",
    "Abbiamo definito la nostra classe, e possiamo quindi creare un oggetto a partire da essa.\n",
    "\n",
    "Questa operazione si dice _istanziare_:"
   ]
  },
  {
   "cell_type": "code",
   "execution_count": 2,
   "metadata": {
    "slideshow": {
     "slide_type": "-"
    }
   },
   "outputs": [],
   "source": [
    "articolo = Articolo()"
   ]
  },
  {
   "cell_type": "markdown",
   "metadata": {
    "slideshow": {
     "slide_type": "-"
    }
   },
   "source": [
    "Abbiamo il nostro primo oggetto da noi definito, ma non è molto utile: non abbiamo definito né attributi né metodi quindi vediamo come arricchirlo."
   ]
  },
  {
   "cell_type": "markdown",
   "metadata": {
    "slideshow": {
     "slide_type": "slide"
    }
   },
   "source": [
    "### Definire un costruttore\n",
    "\n",
    "Un costruttore è uno speciale metodo che viene eseguito alla creazione di un oggetto.\n",
    "\n",
    "All'interno del costruttore si possono definire gli attributi di ogni istanza:"
   ]
  },
  {
   "cell_type": "code",
   "execution_count": 7,
   "metadata": {
    "slideshow": {
     "slide_type": "-"
    }
   },
   "outputs": [],
   "source": [
    "class Articolo():\n",
    "    \n",
    "    def __init__(self, codice, prezzo):\n",
    "        self.codice = codice\n",
    "        self.prezzo = prezzo"
   ]
  },
  {
   "cell_type": "code",
   "execution_count": 8,
   "metadata": {
    "slideshow": {
     "slide_type": "-"
    }
   },
   "outputs": [],
   "source": [
    "articolo1 = Articolo(\"COD00982\", 12.50)\n",
    "articolo2 = Articolo(\"COD01154\", 18.00)"
   ]
  },
  {
   "cell_type": "markdown",
   "metadata": {
    "slideshow": {
     "slide_type": "slide"
    }
   },
   "source": [
    "### Accedere agli attributi\n",
    "\n",
    "Non è **necessario** definire cosiddetti metodi _getter_ o _setter_.\n",
    "\n",
    "Tramite la sintassi _oggetto_._attributo_ è possibile accedere agli attributi come a normali variabili:"
   ]
  },
  {
   "cell_type": "code",
   "execution_count": 9,
   "metadata": {
    "slideshow": {
     "slide_type": "-"
    }
   },
   "outputs": [
    {
     "data": {
      "text/plain": [
       "'COD00982'"
      ]
     },
     "execution_count": 9,
     "metadata": {},
     "output_type": "execute_result"
    }
   ],
   "source": [
    "articolo1.codice"
   ]
  },
  {
   "cell_type": "code",
   "execution_count": 6,
   "metadata": {
    "slideshow": {
     "slide_type": "-"
    }
   },
   "outputs": [
    {
     "data": {
      "text/plain": [
       "23"
      ]
     },
     "execution_count": 6,
     "metadata": {},
     "output_type": "execute_result"
    }
   ],
   "source": [
    "articolo1.prezzo = 23\n",
    "articolo1.prezzo"
   ]
  },
  {
   "cell_type": "markdown",
   "metadata": {
    "slideshow": {
     "slide_type": "slide"
    }
   },
   "source": [
    "### Definire dei metodi\n",
    "\n",
    "Un metodo può essere definito utilizzando la sintassi delle funzioni, ma con un primo parametro obbligatorio **self**:"
   ]
  },
  {
   "cell_type": "code",
   "execution_count": 25,
   "metadata": {},
   "outputs": [],
   "source": [
    "class Articolo():\n",
    "    \n",
    "    def __init__(self, codice, prezzo):\n",
    "        self.codice = codice\n",
    "        self.prezzo = prezzo\n",
    "    \n",
    "    def printable(self):\n",
    "        return \"Articolo (codice: %s - prezzo: %s)\" % (self.codice, self.prezzo)"
   ]
  },
  {
   "cell_type": "markdown",
   "metadata": {
    "slideshow": {
     "slide_type": "slide"
    }
   },
   "source": [
    "### Definire dei metodi"
   ]
  },
  {
   "cell_type": "code",
   "execution_count": 26,
   "metadata": {},
   "outputs": [],
   "source": [
    "articolo = Articolo(\"COD00982\", 12.50)"
   ]
  },
  {
   "cell_type": "code",
   "execution_count": 27,
   "metadata": {},
   "outputs": [
    {
     "data": {
      "text/plain": [
       "'Articolo (codice: COD00982 - prezzo: 12.5)'"
      ]
     },
     "execution_count": 27,
     "metadata": {},
     "output_type": "execute_result"
    }
   ],
   "source": [
    "articolo.printable()"
   ]
  },
  {
   "cell_type": "code",
   "execution_count": 28,
   "metadata": {
    "slideshow": {
     "slide_type": "-"
    }
   },
   "outputs": [
    {
     "data": {
      "text/plain": [
       "method"
      ]
     },
     "execution_count": 28,
     "metadata": {},
     "output_type": "execute_result"
    }
   ],
   "source": [
    "type(articolo.printable)"
   ]
  },
  {
   "cell_type": "markdown",
   "metadata": {
    "slideshow": {
     "slide_type": "slide"
    }
   },
   "source": [
    "### Ridefinire dei metodi base"
   ]
  },
  {
   "cell_type": "code",
   "execution_count": 29,
   "metadata": {
    "slideshow": {
     "slide_type": "-"
    }
   },
   "outputs": [],
   "source": [
    "class Articolo():\n",
    "    \n",
    "    def __init__(self, codice, prezzo):\n",
    "        self.codice = codice\n",
    "        self.prezzo = prezzo\n",
    "    \n",
    "    def __str__(self):\n",
    "        return \"Articolo (codice: %s - prezzo: %s)\" % (self.codice, self.prezzo)"
   ]
  },
  {
   "cell_type": "code",
   "execution_count": 30,
   "metadata": {
    "slideshow": {
     "slide_type": "-"
    }
   },
   "outputs": [
    {
     "name": "stdout",
     "output_type": "stream",
     "text": [
      "Articolo (codice: COD00982 - prezzo: 12.5)\n"
     ]
    }
   ],
   "source": [
    "articolo = Articolo(\"COD00982\", 12.50)\n",
    "print(articolo)"
   ]
  },
  {
   "cell_type": "markdown",
   "metadata": {
    "slideshow": {
     "slide_type": "slide"
    }
   },
   "source": [
    "### E ora?\n",
    "\n",
    "![Benefits](../images/benefits.png)"
   ]
  },
  {
   "cell_type": "markdown",
   "metadata": {
    "slideshow": {
     "slide_type": "slide"
    }
   },
   "source": [
    "## Cos'è la programmazione orientata agli oggetti?\n",
    "\n",
    "La programmazione orientata agli oggetti ([_OOP_, _Object Oriented Programming_](https://en.wikipedia.org/wiki/Object-oriented_programming)) è un diffuso paradigma di programmazione, e si basa sui concetti di _classe_ ed _oggetto_ per offrire vari vantaggi, tra i quali:\n",
    "\n",
    "- Modularità\n",
    "- Riuso del codice\n",
    "- Estensibilità"
   ]
  },
  {
   "cell_type": "markdown",
   "metadata": {
    "slideshow": {
     "slide_type": "slide"
    }
   },
   "source": [
    "## Quindi basta creare un mucchio di oggetti?\n",
    "\n",
    "No, tutt'altro, la programmazione ad oggetti è molto di più della sintassi necessaria a farne uso.\n",
    "\n",
    "Vediamo brevemente alcune tecniche la cui applicazione è alla base di un uso vantaggioso dell'OOP:\n",
    "\n",
    "- Incapsulamento\n",
    "- Ereditarietà\n",
    "- Polimorfismo\n",
    "- Inversione del controllo"
   ]
  },
  {
   "cell_type": "markdown",
   "metadata": {
    "slideshow": {
     "slide_type": "slide"
    }
   },
   "source": [
    "### Incapsulamento\n",
    "\n",
    "Dietro questo termine si cela un concetto estremamente semplice:\n",
    "\n",
    "> Lo stato interno (gli attributi) di un oggetto non deve essere accessibile direttamente dai client, ma solo attraverso dei metodi appositi\n",
    "\n",
    "Creare un'astrazione tra client e attributi permette di **disaccoppiare** le due entità, rendendo possibile modificare il comportamente interno dell'oggetto senza che sia necessario modificare anche i client."
   ]
  },
  {
   "cell_type": "markdown",
   "metadata": {
    "slideshow": {
     "slide_type": "slide"
    }
   },
   "source": [
    "### Incapsulamento"
   ]
  },
  {
   "cell_type": "code",
   "execution_count": 1,
   "metadata": {
    "slideshow": {
     "slide_type": "-"
    }
   },
   "outputs": [],
   "source": [
    "class Articolo():\n",
    "    \n",
    "    def __init__(self, codice, prezzo):\n",
    "        self._codice = codice\n",
    "        self._prezzo = prezzo\n",
    "    \n",
    "    @property\n",
    "    def prezzo(self):\n",
    "        return self._prezzo\n",
    "    \n",
    "    @prezzo.setter\n",
    "    def prezzo(self, value):\n",
    "        self._prezzo = value"
   ]
  },
  {
   "cell_type": "markdown",
   "metadata": {
    "slideshow": {
     "slide_type": "slide"
    }
   },
   "source": [
    "### Incapsulamento"
   ]
  },
  {
   "cell_type": "code",
   "execution_count": 13,
   "metadata": {
    "slideshow": {
     "slide_type": "-"
    }
   },
   "outputs": [],
   "source": [
    "articolo = Articolo(\"COD00982\", 12.50)"
   ]
  },
  {
   "cell_type": "code",
   "execution_count": 14,
   "metadata": {
    "slideshow": {
     "slide_type": "-"
    }
   },
   "outputs": [
    {
     "ename": "AttributeError",
     "evalue": "'Articolo' object has no attribute 'codice'",
     "output_type": "error",
     "traceback": [
      "\u001b[1;31m---------------------------------------------------------------------------\u001b[0m",
      "\u001b[1;31mAttributeError\u001b[0m                            Traceback (most recent call last)",
      "\u001b[1;32m<ipython-input-14-2b8a800fe57b>\u001b[0m in \u001b[0;36m<module>\u001b[1;34m()\u001b[0m\n\u001b[1;32m----> 1\u001b[1;33m \u001b[0marticolo\u001b[0m\u001b[1;33m.\u001b[0m\u001b[0mcodice\u001b[0m\u001b[1;33m\u001b[0m\u001b[0m\n\u001b[0m",
      "\u001b[1;31mAttributeError\u001b[0m: 'Articolo' object has no attribute 'codice'"
     ]
    }
   ],
   "source": [
    "articolo.codice"
   ]
  },
  {
   "cell_type": "markdown",
   "metadata": {
    "slideshow": {
     "slide_type": "slide"
    }
   },
   "source": [
    "### Incapsulamento"
   ]
  },
  {
   "cell_type": "code",
   "execution_count": 15,
   "metadata": {
    "slideshow": {
     "slide_type": "-"
    }
   },
   "outputs": [
    {
     "data": {
      "text/plain": [
       "12.5"
      ]
     },
     "execution_count": 15,
     "metadata": {},
     "output_type": "execute_result"
    }
   ],
   "source": [
    "articolo.prezzo"
   ]
  },
  {
   "cell_type": "code",
   "execution_count": 16,
   "metadata": {},
   "outputs": [],
   "source": [
    "articolo.prezzo = 20"
   ]
  },
  {
   "cell_type": "code",
   "execution_count": 17,
   "metadata": {},
   "outputs": [
    {
     "data": {
      "text/plain": [
       "20"
      ]
     },
     "execution_count": 17,
     "metadata": {},
     "output_type": "execute_result"
    }
   ],
   "source": [
    "articolo.prezzo"
   ]
  },
  {
   "cell_type": "markdown",
   "metadata": {
    "slideshow": {
     "slide_type": "slide"
    }
   },
   "source": [
    "### Incapsulamento"
   ]
  },
  {
   "cell_type": "code",
   "execution_count": 1,
   "metadata": {
    "slideshow": {
     "slide_type": "-"
    }
   },
   "outputs": [],
   "source": [
    "class Articolo():\n",
    "    \n",
    "    def __init__(self, codice, prezzo):\n",
    "        self._codice = codice\n",
    "        self._prezzo = prezzo\n",
    "    \n",
    "    @property\n",
    "    def prezzo(self):\n",
    "        return self._prezzo\n",
    "    \n",
    "    @prezzo.setter\n",
    "    def prezzo(self, value):\n",
    "        if value <= 0:\n",
    "            raise ValueError(\"Il prezzo non può essere pari o inferiore a 0\")\n",
    "        self._prezzo = value"
   ]
  },
  {
   "cell_type": "markdown",
   "metadata": {
    "slideshow": {
     "slide_type": "slide"
    }
   },
   "source": [
    "### Incapsulamento\n",
    "\n",
    "Alcune note sulla visibilità degli attributi:\n",
    "\n",
    "- Non esiste la possibilità di definire attributi propriamente _privati_\n",
    "- Per convenzione gli attributi che lo devono essere hanno come prefisso un singolo _underscore_\n",
    "\n",
    "Per design Python sposta molta responsabilità dal compilatore allo sviluppatore, in questo come in altri casi.\n",
    "\n",
    "Una frase spesso citata a riguardo è:\n",
    "\n",
    "> \"we're all consenting adults here\""
   ]
  },
  {
   "cell_type": "markdown",
   "metadata": {
    "slideshow": {
     "slide_type": "slide"
    }
   },
   "source": [
    "### Ereditarietà\n",
    "\n",
    "Tramite l'ereditarietà è possibile definire nuove classi a partire da classi esistenti, _ereditandone_ metodi ed attributi.\n",
    "\n",
    "E' inoltre possibile definire nuovi metodi o attributi, e ridefinire metodi esistenti attraverso il meccanismo dell'_overriding_.\n",
    "\n",
    "Python supporta l'ereditarietà, sia singola che multipla."
   ]
  },
  {
   "cell_type": "markdown",
   "metadata": {
    "slideshow": {
     "slide_type": "slide"
    }
   },
   "source": [
    "### Ereditarietà"
   ]
  },
  {
   "cell_type": "code",
   "execution_count": 7,
   "metadata": {
    "slideshow": {
     "slide_type": "-"
    }
   },
   "outputs": [],
   "source": [
    "class Libro(Articolo):\n",
    "    \n",
    "    def __init__(self, codice, prezzo, isbn):\n",
    "        self._isbn = isbn\n",
    "        super().__init__(codice, prezzo)\n",
    "        \n",
    "    @property\n",
    "    def isbn(self):\n",
    "        return self._isbn\n",
    "    \n",
    "    def __str__(self):\n",
    "        return \"Articolo: codice {} prezzo {} ISBN {}\".format(\n",
    "            self._codice, self._prezzo, self._isbn)"
   ]
  },
  {
   "cell_type": "markdown",
   "metadata": {
    "slideshow": {
     "slide_type": "slide"
    }
   },
   "source": [
    "### Ereditarietà"
   ]
  },
  {
   "cell_type": "code",
   "execution_count": 9,
   "metadata": {
    "slideshow": {
     "slide_type": "-"
    }
   },
   "outputs": [],
   "source": [
    "libro = Libro(\"COD00982\", 11.2, \"978-8845278655\")"
   ]
  },
  {
   "cell_type": "code",
   "execution_count": 11,
   "metadata": {
    "slideshow": {
     "slide_type": "-"
    }
   },
   "outputs": [
    {
     "name": "stdout",
     "output_type": "stream",
     "text": [
      "Articolo: codice COD00982 prezzo 11.2 ISBN 978-8845278655\n"
     ]
    }
   ],
   "source": [
    "print(libro)"
   ]
  },
  {
   "cell_type": "code",
   "execution_count": 12,
   "metadata": {
    "slideshow": {
     "slide_type": "-"
    }
   },
   "outputs": [
    {
     "data": {
      "text/plain": [
       "11.2"
      ]
     },
     "execution_count": 12,
     "metadata": {},
     "output_type": "execute_result"
    }
   ],
   "source": [
    "libro.prezzo"
   ]
  },
  {
   "cell_type": "raw",
   "metadata": {
    "slideshow": {
     "slide_type": "-"
    }
   },
   "source": [
    "libro.isbn"
   ]
  },
  {
   "cell_type": "markdown",
   "metadata": {
    "slideshow": {
     "slide_type": "slide"
    }
   },
   "source": [
    "### Ereditarietà\n",
    "\n",
    "Ricorda: utilizza **isinstance()** per verificare l'appartenenza!"
   ]
  },
  {
   "cell_type": "code",
   "execution_count": 13,
   "metadata": {
    "slideshow": {
     "slide_type": "-"
    }
   },
   "outputs": [
    {
     "data": {
      "text/plain": [
       "False"
      ]
     },
     "execution_count": 13,
     "metadata": {},
     "output_type": "execute_result"
    }
   ],
   "source": [
    "type(libro) == \"Articolo\""
   ]
  },
  {
   "cell_type": "code",
   "execution_count": 14,
   "metadata": {
    "slideshow": {
     "slide_type": "-"
    }
   },
   "outputs": [
    {
     "data": {
      "text/plain": [
       "True"
      ]
     },
     "execution_count": 14,
     "metadata": {},
     "output_type": "execute_result"
    }
   ],
   "source": [
    "isinstance(libro, Articolo)"
   ]
  },
  {
   "cell_type": "markdown",
   "metadata": {
    "slideshow": {
     "slide_type": "slide"
    }
   },
   "source": [
    "### Ereditarietà: classi astratte\n",
    "\n",
    "E' possibile definire classi astratte, ovvero classi che non possono venire direttamente istanziate ma il cui unico scopo è definire una base comune per più classi concrete.\n",
    "\n",
    "Una classe astratta è una classe che estende **ABC**.\n",
    "\n",
    "Un metodo astratto è un metodo decorato con **@abstractmethod**."
   ]
  },
  {
   "cell_type": "markdown",
   "metadata": {
    "slideshow": {
     "slide_type": "slide"
    }
   },
   "source": [
    "### Ereditarietà: classi astratte"
   ]
  },
  {
   "cell_type": "code",
   "execution_count": 55,
   "metadata": {
    "slideshow": {
     "slide_type": "-"
    }
   },
   "outputs": [],
   "source": [
    "from abc import ABC, abstractmethod\n",
    "\n",
    "class ArticoloBase(ABC):\n",
    "    \n",
    "    @abstractmethod\n",
    "    def prezzo(self):\n",
    "        pass"
   ]
  },
  {
   "cell_type": "markdown",
   "metadata": {
    "slideshow": {
     "slide_type": "slide"
    }
   },
   "source": [
    "### Polimorfismo\n",
    "\n",
    ">  When I see a bird that walks like a duck and swims like a duck and quacks like a duck, I call that bird a duck.\n",
    "\n",
    "Il polimorfismo è in generale la possibilità di utilizzare in maniera interscambiabile oggetti di classi diverse purché condividano un'interfaccia comune.\n",
    "\n",
    "Il polimorfismo può venire realizzato tramite l'ereditarietà ma, in linguaggi come Python, ciò non è strettamente necessario. Se diversi oggetti condividono i metodi e gli attributi necessari al client possiamo considerarli a tutti gli effetti polimorfici (_duck typing_)."
   ]
  },
  {
   "cell_type": "markdown",
   "metadata": {
    "slideshow": {
     "slide_type": "slide"
    }
   },
   "source": [
    "### Polimorfismo\n",
    "\n",
    "Esempio di polimorfismo all'interno del linguaggio stesso:"
   ]
  },
  {
   "cell_type": "code",
   "execution_count": 27,
   "metadata": {
    "slideshow": {
     "slide_type": "-"
    }
   },
   "outputs": [],
   "source": [
    "def suffix(oggetto):\n",
    "    return oggetto[-5:]"
   ]
  },
  {
   "cell_type": "code",
   "execution_count": 28,
   "metadata": {
    "slideshow": {
     "slide_type": "-"
    }
   },
   "outputs": [
    {
     "data": {
      "text/plain": [
       "'campa'"
      ]
     },
     "execution_count": 28,
     "metadata": {},
     "output_type": "execute_result"
    }
   ],
   "source": [
    "suffix(\"sopra la panca la capra campa\")"
   ]
  },
  {
   "cell_type": "code",
   "execution_count": 29,
   "metadata": {
    "slideshow": {
     "slide_type": "-"
    }
   },
   "outputs": [
    {
     "data": {
      "text/plain": [
       "[13, 21, 34, 55, 89]"
      ]
     },
     "execution_count": 29,
     "metadata": {},
     "output_type": "execute_result"
    }
   ],
   "source": [
    "suffix([1, 1, 2, 3, 5, 8, 13, 21, 34, 55, 89])"
   ]
  },
  {
   "cell_type": "markdown",
   "metadata": {
    "slideshow": {
     "slide_type": "slide"
    }
   },
   "source": [
    "### Polimorfismo"
   ]
  },
  {
   "cell_type": "code",
   "execution_count": 32,
   "metadata": {
    "slideshow": {
     "slide_type": "-"
    }
   },
   "outputs": [],
   "source": [
    "class Spedizione():\n",
    "    \n",
    "    def __init__(self, prezzo):\n",
    "        self._prezzo = prezzo\n",
    "    \n",
    "    @property\n",
    "    def prezzo(self):\n",
    "        return self._prezzo"
   ]
  },
  {
   "cell_type": "code",
   "execution_count": 33,
   "metadata": {
    "slideshow": {
     "slide_type": "-"
    }
   },
   "outputs": [],
   "source": [
    "spedizione = Spedizione(13)"
   ]
  },
  {
   "cell_type": "markdown",
   "metadata": {
    "slideshow": {
     "slide_type": "slide"
    }
   },
   "source": [
    "### Polimorfismo"
   ]
  },
  {
   "cell_type": "code",
   "execution_count": 40,
   "metadata": {
    "slideshow": {
     "slide_type": "-"
    }
   },
   "outputs": [],
   "source": [
    "class Carrello():\n",
    "    \n",
    "    def __init__(self):\n",
    "        self._contenuto = []\n",
    "\n",
    "    def aggiungi(self, elemento):\n",
    "        self._contenuto.append(elemento)\n",
    "        \n",
    "    def totale(self):\n",
    "        return sum([elemento.prezzo for elemento in self._contenuto])"
   ]
  },
  {
   "cell_type": "markdown",
   "metadata": {
    "slideshow": {
     "slide_type": "slide"
    }
   },
   "source": [
    "### Polimorfismo"
   ]
  },
  {
   "cell_type": "code",
   "execution_count": 41,
   "metadata": {
    "slideshow": {
     "slide_type": "-"
    }
   },
   "outputs": [],
   "source": [
    "carrello = Carrello()"
   ]
  },
  {
   "cell_type": "code",
   "execution_count": 42,
   "metadata": {
    "slideshow": {
     "slide_type": "-"
    }
   },
   "outputs": [],
   "source": [
    "carrello.aggiungi(libro)\n",
    "carrello.aggiungi(spedizione)"
   ]
  },
  {
   "cell_type": "code",
   "execution_count": 43,
   "metadata": {
    "slideshow": {
     "slide_type": "-"
    }
   },
   "outputs": [
    {
     "data": {
      "text/plain": [
       "24.2"
      ]
     },
     "execution_count": 43,
     "metadata": {},
     "output_type": "execute_result"
    }
   ],
   "source": [
    "carrello.totale()"
   ]
  },
  {
   "cell_type": "markdown",
   "metadata": {
    "slideshow": {
     "slide_type": "slide"
    }
   },
   "source": [
    "### Inversione del controllo\n",
    "\n",
    "Con _inversione del controllo_ si intende evitare che le classi di alto livello _dipendano_ direttamente da classi di livello inferiore.\n",
    "\n",
    "Il termine _inversione del controllo_ nasce dal fatto che guardando ad un diagramma UML dove siano rappresentate le dipendenze di una gerarchia software che faccia un uso di questa metodologia le frecce delle dipendenze _puntano verso l'alto_.\n",
    "\n",
    "Vediamo un esempio di anti-pattern."
   ]
  },
  {
   "cell_type": "markdown",
   "metadata": {
    "slideshow": {
     "slide_type": "slide"
    }
   },
   "source": [
    "### Inversione del controllo"
   ]
  },
  {
   "cell_type": "code",
   "execution_count": 50,
   "metadata": {
    "slideshow": {
     "slide_type": "-"
    }
   },
   "outputs": [],
   "source": [
    "class DatabaseRepository():\n",
    "    \n",
    "    def memorizza(value):\n",
    "        pass # logica che salva il dato a database.."
   ]
  },
  {
   "cell_type": "code",
   "execution_count": 51,
   "metadata": {
    "slideshow": {
     "slide_type": "-"
    }
   },
   "outputs": [],
   "source": [
    "class Carrello():\n",
    "    \n",
    "    def __init__(self):\n",
    "        self._contenuto = []\n",
    "        self._repository = DatabaseRepository()\n",
    "    \n",
    "    # ...\n",
    "    \n",
    "    def salva(self):\n",
    "        self._repository.memorizza(self._contenuto)"
   ]
  },
  {
   "cell_type": "markdown",
   "metadata": {
    "slideshow": {
     "slide_type": "slide"
    }
   },
   "source": [
    "### Inversione del controllo"
   ]
  },
  {
   "cell_type": "code",
   "execution_count": 52,
   "metadata": {},
   "outputs": [],
   "source": [
    "class Carrello():\n",
    "    \n",
    "    def __init__(self, repository):\n",
    "        self._contenuto = []\n",
    "        self._repository = repository\n",
    "    \n",
    "    # ...\n",
    "    \n",
    "    def salva(self):\n",
    "        self._repository.memorizza(self._contenuto)"
   ]
  }
 ],
 "metadata": {
  "kernelspec": {
   "display_name": "Python 3",
   "language": "python",
   "name": "python3"
  },
  "language_info": {
   "codemirror_mode": {
    "name": "ipython",
    "version": 3
   },
   "file_extension": ".py",
   "mimetype": "text/x-python",
   "name": "python",
   "nbconvert_exporter": "python",
   "pygments_lexer": "ipython3",
   "version": "3.6.0"
  }
 },
 "nbformat": 4,
 "nbformat_minor": 2
}
