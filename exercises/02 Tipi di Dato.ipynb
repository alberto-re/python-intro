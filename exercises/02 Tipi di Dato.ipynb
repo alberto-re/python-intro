{
 "cells": [
  {
   "cell_type": "markdown",
   "metadata": {},
   "source": [
    "## 1."
   ]
  },
  {
   "cell_type": "markdown",
   "metadata": {},
   "source": [
    "Completa la funzione *pari_o_dispari* perché risponda alle seguenti caratteristiche:\n",
    "- Riceva in input una lista di numeri\n",
    "- Restituisca una lista di booleani della stessa lunghezza, dove ad ogni numero della prima lista corrisponda _True_ se il numero è pari e _False_ se dispari.\n",
    "\n",
    "Inserisci la tua soluzione tra i tag _INIZIO_ e _FINE_."
   ]
  },
  {
   "cell_type": "code",
   "execution_count": null,
   "metadata": {},
   "outputs": [],
   "source": [
    "def pari_o_dispari(serie):\n",
    "    # - INIZIO -\n",
    "    serie_bool = []\n",
    "    # - FINE -\n",
    "    return serie_bool"
   ]
  },
  {
   "cell_type": "code",
   "execution_count": null,
   "metadata": {},
   "outputs": [],
   "source": [
    "serie = [1, 5, 8, 3, 12, 17, 98, 0, 4]"
   ]
  },
  {
   "cell_type": "code",
   "execution_count": null,
   "metadata": {},
   "outputs": [],
   "source": [
    "print(pari_o_dispari(serie))"
   ]
  },
  {
   "cell_type": "markdown",
   "metadata": {},
   "source": [
    "Output atteso:\n",
    "\n",
    "<pre>\n",
    "[False, False, True, False, True, False, True, True, True]\n",
    "</pre>"
   ]
  },
  {
   "cell_type": "markdown",
   "metadata": {},
   "source": [
    "## 2.\n",
    "\n",
    "Hai questa lista di parole:"
   ]
  },
  {
   "cell_type": "code",
   "execution_count": null,
   "metadata": {},
   "outputs": [],
   "source": [
    "incipit = [\"Quel\", \"ramo\", \"del\", \"lago\", \"di\", \"che\", \"volge\", \"a\", \"mezzogiorno\"]"
   ]
  },
  {
   "cell_type": "markdown",
   "metadata": {},
   "source": [
    "Esercizio:\n",
    "- Inserisci la parola \"Como\" come sesto elemento della lista\n",
    "- Ordina la lista in ordine alfabetico inverso\n",
    "\n",
    "Inserisci la tua soluzione tra i tag _INIZIO_ e _FINE_."
   ]
  },
  {
   "cell_type": "code",
   "execution_count": null,
   "metadata": {},
   "outputs": [],
   "source": [
    "# - INIZIO -\n",
    "incipit = ..\n",
    "# - FINE -"
   ]
  },
  {
   "cell_type": "code",
   "execution_count": null,
   "metadata": {},
   "outputs": [],
   "source": [
    "print(incipit)"
   ]
  },
  {
   "cell_type": "markdown",
   "metadata": {},
   "source": [
    "Output atteso:\n",
    "\n",
    "<pre>\n",
    "['volge', 'ramo', 'mezzogiorno', 'lago', 'di', 'del', 'che', 'a', 'Quel', 'Como']\n",
    "</pre>"
   ]
  },
  {
   "cell_type": "markdown",
   "metadata": {},
   "source": [
    "## 3.\n",
    "\n",
    "Hai questa lista di tuple a disposizione:"
   ]
  },
  {
   "cell_type": "code",
   "execution_count": null,
   "metadata": {},
   "outputs": [],
   "source": [
    "lista = [(2, 5), (1, 2), (5, 4), (2, 3), (2, 1), (2, 3)]"
   ]
  },
  {
   "cell_type": "markdown",
   "metadata": {},
   "source": [
    "Esercizio:\n",
    "- Ordina la lista in base all'ultimo elemento di ogni tupla\n",
    "\n",
    "Inserisci la tua soluzione tra i tag _INIZIO_ e _FINE_."
   ]
  },
  {
   "cell_type": "code",
   "execution_count": null,
   "metadata": {},
   "outputs": [],
   "source": [
    "# - INIZIO -\n",
    "lista_ordinata = ..\n",
    "# - FINE -"
   ]
  },
  {
   "cell_type": "code",
   "execution_count": null,
   "metadata": {},
   "outputs": [],
   "source": [
    "print(lista_ordinata)"
   ]
  },
  {
   "cell_type": "markdown",
   "metadata": {},
   "source": [
    "Output atteso:\n",
    "\n",
    "<pre>\n",
    "[(2, 1), (1, 2), (2, 3), (2, 3), (5, 4), (2, 5)]\n",
    "</pre>"
   ]
  },
  {
   "cell_type": "markdown",
   "metadata": {},
   "source": [
    "## 4.\n",
    "\n",
    "Hai a disposizione un dizionario così composto:"
   ]
  },
  {
   "cell_type": "code",
   "execution_count": null,
   "metadata": {},
   "outputs": [],
   "source": [
    "citta = {\n",
    "    \"Berlino\": { \"paese\": \"DE\", \"popolazione\": 3531201, \"densita\": 3962 },\n",
    "    \"Parigi\": { \"paese\": \"FR\", \"popolazione\": 2206488 , \"densita\": 20934 },\n",
    "    \"Bilbao\": { \"paese\": \"ES\", \"popolazione\": 349356, \"densita\": 8594 },\n",
    "    \"Madrid\": { \"paese\": \"ES\", \"popolazione\": 3141991, \"densita\": 5199 }\n",
    "}"
   ]
  },
  {
   "cell_type": "markdown",
   "metadata": {},
   "source": [
    "Esercizio:\n",
    "- Ottieni una lista contenente l'elenco dei paesi (senza duplicati)\n",
    "\n",
    "Inserisci la tua soluzione tra i tag _INIZIO_ e _FINE_."
   ]
  },
  {
   "cell_type": "code",
   "execution_count": null,
   "metadata": {},
   "outputs": [],
   "source": [
    "# - INIZIO -\n",
    "paesi = ..\n",
    "# - FINE -"
   ]
  },
  {
   "cell_type": "code",
   "execution_count": null,
   "metadata": {},
   "outputs": [],
   "source": [
    "print(paesi)"
   ]
  },
  {
   "cell_type": "markdown",
   "metadata": {},
   "source": [
    "Output atteso:\n",
    "\n",
    "<pre>\n",
    "['DE', 'FR', 'ES']\n",
    "</pre>"
   ]
  },
  {
   "cell_type": "markdown",
   "metadata": {},
   "source": [
    "## 5.\n",
    "\n",
    "Hai a disposizione due liste della stessa dimensione.\n",
    "\n",
    "La prima contiene una serie di nomi, la seconda le rispettive professioni."
   ]
  },
  {
   "cell_type": "code",
   "execution_count": null,
   "metadata": {},
   "outputs": [],
   "source": [
    "nome = [\"Tintoretto\", \"Gustave Eiffel\", \"Chopin\", \"Pirandello\"]\n",
    "professione = [\"Pittore\", \"Ingegnere\", \"Musicista\", \"Scrittore\"]"
   ]
  },
  {
   "cell_type": "markdown",
   "metadata": {},
   "source": [
    "Esercizio:\n",
    "- Trasforma le due liste in un dizionario dove gli elementi di _nome_ saranno le chiavi e quelli di _professione_ i valori\n",
    "- Scambia le chiavi con i valori\n",
    "\n",
    "Inserisci la tua soluzione tra i tag _INIZIO_ e _FINE_."
   ]
  },
  {
   "cell_type": "code",
   "execution_count": null,
   "metadata": {},
   "outputs": [],
   "source": [
    "# - INIZIO -\n",
    "dizionario = ..\n",
    "# - FINE -"
   ]
  },
  {
   "cell_type": "code",
   "execution_count": null,
   "metadata": {},
   "outputs": [],
   "source": [
    "print(dizionario)"
   ]
  },
  {
   "cell_type": "markdown",
   "metadata": {},
   "source": [
    "Output atteso:\n",
    "\n",
    "<pre>\n",
    "{'Pittore': 'Tintoretto', 'Ingegnere': 'Gustave Eiffel', 'Musicista': 'Chopin', 'Scrittore': 'Pirandello'}\n",
    "</pre>"
   ]
  }
 ],
 "metadata": {
  "kernelspec": {
   "display_name": "Python 3",
   "language": "python",
   "name": "python3"
  },
  "language_info": {
   "codemirror_mode": {
    "name": "ipython",
    "version": 3
   },
   "file_extension": ".py",
   "mimetype": "text/x-python",
   "name": "python",
   "nbconvert_exporter": "python",
   "pygments_lexer": "ipython3",
   "version": "3.6.1"
  }
 },
 "nbformat": 4,
 "nbformat_minor": 2
}
