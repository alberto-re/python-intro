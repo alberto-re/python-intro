{
 "cells": [
  {
   "cell_type": "markdown",
   "metadata": {},
   "source": [
    "## 1.\n",
    "\n",
    "Hai a dispozione una serie di numeri casuali il cui valore oscilla da -10 a 10:"
   ]
  },
  {
   "cell_type": "code",
   "execution_count": 1,
   "metadata": {},
   "outputs": [],
   "source": [
    "import random\n",
    "\n",
    "numeri = [random.randint(-10, 10) for numero in range(0, 20)]"
   ]
  },
  {
   "cell_type": "code",
   "execution_count": 2,
   "metadata": {},
   "outputs": [
    {
     "data": {
      "text/plain": [
       "[-4, 5, -9, -2, -10, -3, -10, 1, 10, 1, 10, -7, 9, 4, -9, -3, 7, -7, 6, -1]"
      ]
     },
     "execution_count": 2,
     "metadata": {},
     "output_type": "execute_result"
    }
   ],
   "source": [
    "numeri"
   ]
  },
  {
   "cell_type": "markdown",
   "metadata": {},
   "source": [
    "Vuoi ottenere una lista contenente il valore assoluto degli elementi della lista precedente.\n",
    "\n",
    "Questa è una soluzione che utilizza un ciclo for esplicito:"
   ]
  },
  {
   "cell_type": "code",
   "execution_count": 3,
   "metadata": {},
   "outputs": [],
   "source": [
    "def abs_serie(serie):\n",
    "    nuova_serie = []\n",
    "    for numero in serie:\n",
    "        nuova_serie.append(abs(numero))\n",
    "    return nuova_serie"
   ]
  },
  {
   "cell_type": "code",
   "execution_count": 4,
   "metadata": {},
   "outputs": [],
   "source": [
    "numeri_abs = abs_serie(numeri)"
   ]
  },
  {
   "cell_type": "code",
   "execution_count": 5,
   "metadata": {},
   "outputs": [
    {
     "name": "stdout",
     "output_type": "stream",
     "text": [
      "[4, 5, 9, 2, 10, 3, 10, 1, 10, 1, 10, 7, 9, 4, 9, 3, 7, 7, 6, 1]\n"
     ]
    }
   ],
   "source": [
    "print(numeri_abs)"
   ]
  },
  {
   "cell_type": "markdown",
   "metadata": {},
   "source": [
    "Prova a fare la stessa cosa utilizzando invece la funzione __map()__:"
   ]
  },
  {
   "cell_type": "code",
   "execution_count": 6,
   "metadata": {},
   "outputs": [],
   "source": [
    "# Inserisci il tuo codice qui\n",
    "soluzione = None"
   ]
  },
  {
   "cell_type": "code",
   "execution_count": 7,
   "metadata": {},
   "outputs": [
    {
     "name": "stdout",
     "output_type": "stream",
     "text": [
      "None\n"
     ]
    }
   ],
   "source": [
    "print(soluzione)"
   ]
  },
  {
   "cell_type": "markdown",
   "metadata": {},
   "source": [
    "Prova ora a farlo senza utilizzare la funzione builtin **abs()**.\n",
    "\n",
    "Utilizza invece una funzione anonima (**lambda**):"
   ]
  },
  {
   "cell_type": "code",
   "execution_count": 8,
   "metadata": {},
   "outputs": [],
   "source": [
    "# Inserisci il tuo codice qui\n",
    "soluzione_lambda = None"
   ]
  },
  {
   "cell_type": "code",
   "execution_count": 9,
   "metadata": {},
   "outputs": [
    {
     "name": "stdout",
     "output_type": "stream",
     "text": [
      "None\n"
     ]
    }
   ],
   "source": [
    "print(soluzione_lambda)"
   ]
  },
  {
   "cell_type": "markdown",
   "metadata": {
    "colab_type": "text",
    "id": "67qDS41oIrTa"
   },
   "source": [
    "## 2.\n",
    "\n",
    "Hai una serie di voti (espressi da un minimo di 0 ad un massimo di 10) di alcuni studenti:\n"
   ]
  },
  {
   "cell_type": "code",
   "execution_count": 106,
   "metadata": {
    "colab": {
     "autoexec": {
      "startup": false,
      "wait_interval": 0
     }
    },
    "colab_type": "code",
    "id": "cm5W0g1BIqeS"
   },
   "outputs": [],
   "source": [
    "voti = [6, 7, 9, 4, 6.5, 8, 7, 5, 10, 8]"
   ]
  },
  {
   "cell_type": "markdown",
   "metadata": {
    "colab_type": "text",
    "id": "wkOgANLQJh0p"
   },
   "source": [
    "Vuoi ottenere una seconda lista, della stessa dimensione, contenente per ogni studente al posto del voto l'esito dell'anno scolastico espresso come _True_ = promosso e _False_ = bocciato.\n",
    "\n",
    "La soglia per ottenere la promozione è avere conseguito almeno la sufficienza (__>= 6__).\n",
    "\n",
    "Questa è la soluzione che utilizza l'approccio tradizionale:"
   ]
  },
  {
   "cell_type": "code",
   "execution_count": 107,
   "metadata": {
    "colab": {
     "autoexec": {
      "startup": false,
      "wait_interval": 0
     }
    },
    "colab_type": "code",
    "id": "woBImOYDJxF_"
   },
   "outputs": [],
   "source": [
    "def valuta(voti):\n",
    "  esito = []\n",
    "  for voto in voti:\n",
    "    esito.append(voto >= 6)\n",
    "  return esito\n",
    "\n",
    "esito = valuta(voti)"
   ]
  },
  {
   "cell_type": "code",
   "execution_count": 108,
   "metadata": {
    "colab": {
     "autoexec": {
      "startup": false,
      "wait_interval": 0
     },
     "base_uri": "https://localhost:8080/",
     "height": 35
    },
    "colab_type": "code",
    "executionInfo": {
     "elapsed": 420,
     "status": "ok",
     "timestamp": 1526394108959,
     "user": {
      "displayName": "Alberto Re",
      "photoUrl": "//lh4.googleusercontent.com/-ccBMSp3DjCk/AAAAAAAAAAI/AAAAAAAABbU/944zVQ3TYvQ/s50-c-k-no/photo.jpg",
      "userId": "101402743741681205674"
     },
     "user_tz": -120
    },
    "id": "l1pjH1wQK8i0",
    "outputId": "6bf48079-fa7d-46c7-923c-c626759192d3"
   },
   "outputs": [
    {
     "name": "stdout",
     "output_type": "stream",
     "text": [
      "[True, True, True, False, True, True, True, False, True, True]\n"
     ]
    }
   ],
   "source": [
    "print(esito)"
   ]
  },
  {
   "cell_type": "markdown",
   "metadata": {
    "colab_type": "text",
    "id": "PVuCD1-HLCeX"
   },
   "source": [
    "Fai la stessa cosa sfruttando la list comprehension:"
   ]
  },
  {
   "cell_type": "code",
   "execution_count": 10,
   "metadata": {
    "colab": {
     "autoexec": {
      "startup": false,
      "wait_interval": 0
     }
    },
    "colab_type": "code",
    "id": "j6f4W6edLEcO"
   },
   "outputs": [],
   "source": [
    "# Inserisci il tuo codice qui\n",
    "soluzione = None"
   ]
  },
  {
   "cell_type": "code",
   "execution_count": 102,
   "metadata": {
    "colab": {
     "autoexec": {
      "startup": false,
      "wait_interval": 0
     },
     "base_uri": "https://localhost:8080/",
     "height": 35
    },
    "colab_type": "code",
    "executionInfo": {
     "elapsed": 539,
     "status": "ok",
     "timestamp": 1526394110084,
     "user": {
      "displayName": "Alberto Re",
      "photoUrl": "//lh4.googleusercontent.com/-ccBMSp3DjCk/AAAAAAAAAAI/AAAAAAAABbU/944zVQ3TYvQ/s50-c-k-no/photo.jpg",
      "userId": "101402743741681205674"
     },
     "user_tz": -120
    },
    "id": "Y6JrcHWzLGE_",
    "outputId": "a98823ab-e7c7-4451-ec89-55bcfb74b967"
   },
   "outputs": [
    {
     "name": "stdout",
     "output_type": "stream",
     "text": [
      "None\n"
     ]
    }
   ],
   "source": [
    "print(soluzione)"
   ]
  },
  {
   "cell_type": "markdown",
   "metadata": {
    "colab_type": "text",
    "id": "Gi6ahK7GuVev"
   },
   "source": [
    "## 3.\n",
    "\n",
    "Hai un dizionario fatto in questo modo:"
   ]
  },
  {
   "cell_type": "code",
   "execution_count": 109,
   "metadata": {
    "colab": {
     "autoexec": {
      "startup": false,
      "wait_interval": 0
     }
    },
    "colab_type": "code",
    "id": "hluaG3JKlu_Q"
   },
   "outputs": [],
   "source": [
    "persone = {\n",
    "    \"Bob\": {\n",
    "        \"eta\": 27,\n",
    "        \"altezza\": 172\n",
    "    },\n",
    "    \"John\": {\n",
    "        \"eta\": 43,\n",
    "        \"altezza\": 185\n",
    "    },\n",
    "    \"Alice\": {\n",
    "        \"eta\": 12,\n",
    "        \"altezza\": 142\n",
    "    }\n",
    "}"
   ]
  },
  {
   "cell_type": "markdown",
   "metadata": {
    "colab_type": "text",
    "id": "fWWtUnOhvXlT"
   },
   "source": [
    "Ti serve una lista contenente solamente i valori dell'attributo _eta_.\n",
    "\n",
    "Questa è la soluzione che utilizza l'approccio tradizionale:"
   ]
  },
  {
   "cell_type": "code",
   "execution_count": 18,
   "metadata": {
    "colab": {
     "autoexec": {
      "startup": false,
      "wait_interval": 0
     }
    },
    "colab_type": "code",
    "id": "nzj0OW1DoM1_"
   },
   "outputs": [],
   "source": [
    "eta = []\n",
    "\n",
    "for nome, caratteristiche in persone.items():\n",
    "  eta.append(caratteristiche[\"eta\"])"
   ]
  },
  {
   "cell_type": "code",
   "execution_count": 19,
   "metadata": {
    "colab": {
     "autoexec": {
      "startup": false,
      "wait_interval": 0
     },
     "base_uri": "https://localhost:8080/",
     "height": 35
    },
    "colab_type": "code",
    "executionInfo": {
     "elapsed": 547,
     "status": "ok",
     "timestamp": 1526394111814,
     "user": {
      "displayName": "Alberto Re",
      "photoUrl": "//lh4.googleusercontent.com/-ccBMSp3DjCk/AAAAAAAAAAI/AAAAAAAABbU/944zVQ3TYvQ/s50-c-k-no/photo.jpg",
      "userId": "101402743741681205674"
     },
     "user_tz": -120
    },
    "id": "fr2MjAXgoZrk",
    "outputId": "4f715ea1-faa5-4cc4-fcae-bc247f9fe378"
   },
   "outputs": [
    {
     "name": "stdout",
     "output_type": "stream",
     "text": [
      "[27, 43, 12]\n"
     ]
    }
   ],
   "source": [
    "print(eta)"
   ]
  },
  {
   "cell_type": "markdown",
   "metadata": {
    "colab_type": "text",
    "id": "9uvzkD-1w2GR"
   },
   "source": [
    "Fai la stessa cosa sfruttando la list comprehension:"
   ]
  },
  {
   "cell_type": "code",
   "execution_count": 11,
   "metadata": {
    "colab": {
     "autoexec": {
      "startup": false,
      "wait_interval": 0
     }
    },
    "colab_type": "code",
    "id": "pY2pcMpXpamu"
   },
   "outputs": [],
   "source": [
    "# Inserisci il tuo codice qui\n",
    "soluzione = None"
   ]
  },
  {
   "cell_type": "code",
   "execution_count": 104,
   "metadata": {
    "colab": {
     "autoexec": {
      "startup": false,
      "wait_interval": 0
     },
     "base_uri": "https://localhost:8080/",
     "height": 35
    },
    "colab_type": "code",
    "executionInfo": {
     "elapsed": 702,
     "status": "ok",
     "timestamp": 1526394113083,
     "user": {
      "displayName": "Alberto Re",
      "photoUrl": "//lh4.googleusercontent.com/-ccBMSp3DjCk/AAAAAAAAAAI/AAAAAAAABbU/944zVQ3TYvQ/s50-c-k-no/photo.jpg",
      "userId": "101402743741681205674"
     },
     "user_tz": -120
    },
    "id": "T8MLFrTJpqRu",
    "outputId": "c7537ab7-dd13-4630-d10e-07f02cd4c0c7"
   },
   "outputs": [
    {
     "name": "stdout",
     "output_type": "stream",
     "text": [
      "None\n"
     ]
    }
   ],
   "source": [
    "print(soluzione)"
   ]
  },
  {
   "cell_type": "markdown",
   "metadata": {},
   "source": [
    "## 4."
   ]
  },
  {
   "cell_type": "markdown",
   "metadata": {},
   "source": [
    "Hai a disposizione una versione arricchita del dizionario dell'esercizio precedente:"
   ]
  },
  {
   "cell_type": "code",
   "execution_count": 18,
   "metadata": {},
   "outputs": [],
   "source": [
    "persone = {\n",
    "    \"Bob\": {\n",
    "        \"eta\": 27,\n",
    "        \"altezza\": 172,\n",
    "        \"peso\": 68\n",
    "    },\n",
    "    \"John\": {\n",
    "        \"eta\": 43,\n",
    "        \"altezza\": 185,\n",
    "        \"peso\": 98\n",
    "    },\n",
    "    \"Alice\": {\n",
    "        \"eta\": 12,\n",
    "        \"altezza\": 158,\n",
    "        \"peso\": 52\n",
    "    },\n",
    "    \"Sam\": {\n",
    "        \"eta\": 72,\n",
    "        \"altezza\": 170,\n",
    "        \"peso\": 89\n",
    "    }\n",
    "}"
   ]
  },
  {
   "cell_type": "markdown",
   "metadata": {},
   "source": [
    "Utilizzando le funzioni necessarie tra _map_, _filter_ e _reduce_ ottieni l'età media delle persone con indice di massa corporea >= 25 (sovrappeso).\n",
    "\n",
    "L'indice di massa corporea si calcola dividendo il peso corporeo (in kg) per il quadrato della statura (**in metri**)."
   ]
  },
  {
   "cell_type": "code",
   "execution_count": 16,
   "metadata": {},
   "outputs": [],
   "source": [
    "from functools import reduce\n",
    "\n",
    "# Inserisci il tuo codice qui\n",
    "soluzione = None"
   ]
  },
  {
   "cell_type": "code",
   "execution_count": null,
   "metadata": {},
   "outputs": [],
   "source": [
    "print(soluzione)"
   ]
  },
  {
   "cell_type": "markdown",
   "metadata": {},
   "source": [
    "57.5"
   ]
  }
 ],
 "metadata": {
  "colab": {
   "collapsed_sections": [],
   "default_view": {},
   "name": "Funzioni.ipynb",
   "provenance": [],
   "version": "0.3.2",
   "views": {}
  },
  "kernelspec": {
   "display_name": "Python 3",
   "language": "python",
   "name": "python3"
  },
  "language_info": {
   "codemirror_mode": {
    "name": "ipython",
    "version": 3
   },
   "file_extension": ".py",
   "mimetype": "text/x-python",
   "name": "python",
   "nbconvert_exporter": "python",
   "pygments_lexer": "ipython3",
   "version": "3.6.1"
  }
 },
 "nbformat": 4,
 "nbformat_minor": 2
}
