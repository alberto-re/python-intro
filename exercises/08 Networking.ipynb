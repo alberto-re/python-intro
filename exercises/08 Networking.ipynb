{
  "nbformat": 4,
  "nbformat_minor": 0,
  "metadata": {
    "colab": {
      "name": "08 Networking.ipynb",
      "version": "0.3.2",
      "views": {},
      "default_view": {},
      "provenance": [],
      "collapsed_sections": []
    },
    "kernelspec": {
      "display_name": "Python 3",
      "language": "python",
      "name": "python3"
    }
  },
  "cells": [
    {
      "metadata": {
        "id": "IgS3I-obYG4Q",
        "colab_type": "text"
      },
      "cell_type": "markdown",
      "source": [
        "# Dog API\n",
        "\n",
        "In questo esercizio implementerai un client per un servizio web RESTful.\n",
        "\n",
        "Il servizio permette di ottenere immagini di cani di varie razze sia in maniera casuale che filtrando per razza.\n",
        "\n",
        "L'API è piuttosto semplice e la documentazione si trova a questo indirizzo:\n",
        "\n",
        "https://dog.ceo/dog-api/documentation/"
      ]
    },
    {
      "metadata": {
        "id": "4zllwlI3YvsI",
        "colab_type": "text"
      },
      "cell_type": "markdown",
      "source": [
        "## 1.\n",
        "\n",
        "Esegui la cella successiva per caricare le librerie necessarie"
      ]
    },
    {
      "metadata": {
        "id": "4F9mutVzWLuB",
        "colab_type": "code",
        "colab": {
          "autoexec": {
            "startup": false,
            "wait_interval": 0
          }
        }
      },
      "cell_type": "code",
      "source": [
        "import requests\n",
        "import matplotlib.pyplot as plt\n",
        "from PIL import Image\n",
        "from io import BytesIO\n",
        "\n",
        "%pylab inline"
      ],
      "execution_count": 0,
      "outputs": []
    },
    {
      "metadata": {
        "id": "-3jjf4y6Y25C",
        "colab_type": "text"
      },
      "cell_type": "markdown",
      "source": [
        "## 2.\n",
        "\n",
        "La funzione **display_img()** è una piccola utility che visualizza un'immagine dato il contenuto. La userai per visualizzare le immagini ottenute tramite l'API.\n",
        "\n",
        "Esegui la cella per caricare la funzione nel modulo corrente."
      ]
    },
    {
      "metadata": {
        "id": "4ureUijBWLub",
        "colab_type": "code",
        "colab": {
          "autoexec": {
            "startup": false,
            "wait_interval": 0
          }
        }
      },
      "cell_type": "code",
      "source": [
        "def display_img(content):\n",
        "    img = Image.open(BytesIO(content))\n",
        "    plt.imshow(img)\n",
        "    plt.show()"
      ],
      "execution_count": 0,
      "outputs": []
    },
    {
      "metadata": {
        "id": "2CdOHgumcTG8",
        "colab_type": "text"
      },
      "cell_type": "markdown",
      "source": [
        "## 3.\n",
        "\n",
        "La classe **DogAPI** implementa la seguente interfaccia:\n",
        "\n",
        "- random_img(breed[optional]): restituisce un'immagine casuale. Se fornito il parametro breed limita la ricerca alla razza indicata\n",
        "- list_breeds(): restituisce un elenco di razze\n",
        "\n",
        "La classe è parzialmente implementata ma alcune parti sono da completare.\n",
        "\n",
        "Inserisci il codice mancante tra i tag - INIZIO - e - FINE -, dopodiché esegui le celle successive per verificarne il corretto funzionamento."
      ]
    },
    {
      "metadata": {
        "id": "0Np5ngLXWLun",
        "colab_type": "code",
        "colab": {
          "autoexec": {
            "startup": false,
            "wait_interval": 0
          }
        }
      },
      "cell_type": "code",
      "source": [
        "class DogAPI:\n",
        "    \n",
        "    # URL dell'API remota\n",
        "    _REMOTE_URL = \"https://dog.ceo/api\"\n",
        "    \n",
        "    # URL radice di tutte le immagini\n",
        "    _IMAGES_URL_ROOT = \"https://images.dog.ceo\"\n",
        "    \n",
        "    # URL dei singoli metodi esposti dall'API\n",
        "    _API_ENDPOINTS = {\n",
        "        \"random\": \"breeds/image/random\",\n",
        "        \"list_breeds\": \"breeds/list/all\",\n",
        "        \"random_by_breed\": \"breed/%s/images/random\"\n",
        "    }\n",
        "        \n",
        "    def random_img(self, breed=None):\n",
        "        \"\"\"Restituisce un'immagine casuale tra quelle a catalogo.\n",
        "        \n",
        "        Se il parametro breed è diverso da None, limita la scelta a quelle\n",
        "        appartenenti alla razza specificata.\n",
        "        \n",
        "        Restituisce il contenuto in bytes dell'immagine ottenuta.\"\"\"\n",
        "        \n",
        "        if breed is None:\n",
        "            img_url = self._img_url_from_api_or_raise(\"random\")\n",
        "        else:\n",
        "            img_url = self._img_url_from_api_or_raise(\"random_by_breed\", breed)\n",
        "        return self._content_from_url_or_raise(img_url)\n",
        "      \n",
        "    def list_breeds(self):\n",
        "        \"\"\"Restituisce l'elenco di tutte le razze a catalogo.\n",
        "        \n",
        "        Nota bene: in questa implementazione le sotto-razze vengono ignorate.\n",
        "        \n",
        "        Restituisce un oggetto di tipo list.\"\"\"\n",
        "        \n",
        "        response = requests.get(self._build_url(\"list_breeds\"))\n",
        "        response.raise_for_status()\n",
        "        \n",
        "        breeds = []\n",
        "        # - INIZIO -\n",
        "        ..\n",
        "        # - FINE -\n",
        "        return breeds\n",
        "\n",
        "    def _build_url(self, api, breed=None):\n",
        "        \"\"\"Costruisce un URL a partire da un metodo dell'API.\n",
        "        \n",
        "        Data una chiave del dizionario _API_ENDPOINTS ed, opzionalmente,\n",
        "        un nome di razza da interpolare nel valore corrispondente\n",
        "        all'interno del dizionario, restituisce una stringa contenente un\n",
        "        URL completo da passare come argomento ad un metodo di requests.\n",
        "        \"\"\"\n",
        "        # - INIZIO -\n",
        "        url = ..\n",
        "        # - FINE -\n",
        "        return url\n",
        "    \n",
        "    def _img_url_from_api_or_raise(self, api, breed=None):\n",
        "        \"\"\"Restituisce un URL di immagine a partire da un metodo dell'API\n",
        "        \n",
        "        Data una chiave del dizionario _API_ENDPOINTS ed, opzionalmente,\n",
        "        un nome di razza, esegue la chiamata all'endpoint e restituisce l'URL\n",
        "        contenuto nel payload della risposta.\n",
        "        \n",
        "        Se il payload non contiene un URL viene sollevata un'eccezione del tipo\n",
        "        ValueError.\n",
        "        \"\"\"\n",
        " \n",
        "        url = self._build_url(api, breed)\n",
        "        response = requests.get(url)\n",
        "        response.raise_for_status()\n",
        "        payload = response.json()\n",
        "        msg = payload[\"message\"]\n",
        "        if not msg.startswith(self._IMAGES_URL_ROOT):\n",
        "            raise ValueError(\"Not an URL!\")\n",
        "        return msg\n",
        "    \n",
        "    def _content_from_url_or_raise(self, url):\n",
        "        \"\"\"Restituisce il contenuto (vedi content()) di un URL.\n",
        "        \n",
        "        Data una stringa contenente un URL esegue una chiamata con metodo GET\n",
        "        e restituisce il contenuto della risposta.\n",
        "        \n",
        "        Se lo stato HTTP della chiamata non è OK (>= 400), solleva un'eccezione\n",
        "        \"\"\"\n",
        "        # - INIZIO -\n",
        "        content = ..\n",
        "        # - FINE -\n",
        "        return content"
      ],
      "execution_count": 0,
      "outputs": []
    },
    {
      "metadata": {
        "id": "0X9rjHNJWLuw",
        "colab_type": "code",
        "colab": {
          "autoexec": {
            "startup": false,
            "wait_interval": 0
          }
        }
      },
      "cell_type": "code",
      "source": [
        "api = DogAPI()"
      ],
      "execution_count": 0,
      "outputs": []
    },
    {
      "metadata": {
        "id": "l4DaV_bPWLu5",
        "colab_type": "code",
        "colab": {
          "autoexec": {
            "startup": false,
            "wait_interval": 0
          }
        }
      },
      "cell_type": "code",
      "source": [
        "img = api.random_img()"
      ],
      "execution_count": 0,
      "outputs": []
    },
    {
      "metadata": {
        "id": "CIMaO3olWLvD",
        "colab_type": "code",
        "colab": {
          "autoexec": {
            "startup": false,
            "wait_interval": 0
          }
        }
      },
      "cell_type": "code",
      "source": [
        "display_img(img)"
      ],
      "execution_count": 0,
      "outputs": []
    },
    {
      "metadata": {
        "id": "Mx10tsh8Wxtz",
        "colab_type": "code",
        "colab": {
          "autoexec": {
            "startup": false,
            "wait_interval": 0
          }
        }
      },
      "cell_type": "code",
      "source": [
        "resp = api.list_breeds()"
      ],
      "execution_count": 0,
      "outputs": []
    },
    {
      "metadata": {
        "id": "FrXvZNQKW1AO",
        "colab_type": "code",
        "colab": {
          "autoexec": {
            "startup": false,
            "wait_interval": 0
          }
        }
      },
      "cell_type": "code",
      "source": [
        "resp"
      ],
      "execution_count": 0,
      "outputs": []
    },
    {
      "metadata": {
        "id": "cqnsknv1bhfd",
        "colab_type": "code",
        "colab": {
          "autoexec": {
            "startup": false,
            "wait_interval": 0
          }
        }
      },
      "cell_type": "code",
      "source": [
        "img = api.random_img(\"pug\")"
      ],
      "execution_count": 0,
      "outputs": []
    },
    {
      "metadata": {
        "id": "lgjBGuWTbkmF",
        "colab_type": "code",
        "colab": {
          "autoexec": {
            "startup": false,
            "wait_interval": 0
          }
        }
      },
      "cell_type": "code",
      "source": [
        "display_img(img)"
      ],
      "execution_count": 0,
      "outputs": []
    }
  ]
}