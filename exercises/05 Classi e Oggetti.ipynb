{
 "cells": [
  {
   "cell_type": "markdown",
   "metadata": {},
   "source": [
    "# Classi e Oggetti"
   ]
  },
  {
   "cell_type": "markdown",
   "metadata": {},
   "source": [
    "## 1.\n",
    "\n",
    "Scrivi una classe chiamata Rettangolo con le seguenti caratteristiche:\n",
    "\n",
    "- Un costruttore che accetti come parametri altezza e larghezza\n",
    "- Un metodo chiamato **area** che ne calcoli l'area\n",
    "- Un metodo chiamato **perimetro** che ne calcoli il perimetro\n",
    "- Fai l'override del metodo **__str__** perché restituisca altezza e larghezza (vedi output atteso per il formato)\n",
    "\n",
    "Inserisci la soluzione tra i tag _INIZIO_ e _FINE_."
   ]
  },
  {
   "cell_type": "code",
   "execution_count": 1,
   "metadata": {},
   "outputs": [],
   "source": [
    "# - INIZIO -\n",
    "\n",
    "# - FINE -"
   ]
  },
  {
   "cell_type": "code",
   "execution_count": null,
   "metadata": {},
   "outputs": [],
   "source": [
    "rettangolo = Rettangolo(5, 4)\n",
    "print(rettangolo.area())\n",
    "print(rettangolo.perimetro())\n",
    "print(rettangolo)"
   ]
  },
  {
   "cell_type": "markdown",
   "metadata": {},
   "source": [
    "Output atteso:\n",
    "\n",
    "<pre>\n",
    "20\n",
    "18\n",
    "Rettangolo (5, 4)\n",
    "</pre>"
   ]
  },
  {
   "cell_type": "markdown",
   "metadata": {},
   "source": [
    "## 2.\n",
    "\n",
    "Scrivi una classe chiamata Encoder con le seguenti caratteristiche:\n",
    "\n",
    "- Un costruttore che accetti come parametro un numero intero _N_\n",
    "- Un metodo chiamato **cifra** che accetti come parametro una stringa e che restituisca una stringa. Quest'ultima deve essere ottenuta sostituendo ad ogni carattere della stringa in input il carattere ASCII che lo segue di _N_ posizioni\n",
    "- Un metodo chiamato **decifra** che applichi la procedura inversa\n",
    "\n",
    "Suggerimento: utilizza le funzioni builtin [ord][1] e [chr][2].\n",
    "\n",
    "Inserisci la soluzione tra i tag _INIZIO_ e _FINE_."
   ]
  },
  {
   "cell_type": "code",
   "execution_count": null,
   "metadata": {},
   "outputs": [],
   "source": [
    "# - INIZIO -\n",
    "\n",
    "# - FINE -"
   ]
  },
  {
   "cell_type": "code",
   "execution_count": null,
   "metadata": {},
   "outputs": [],
   "source": [
    "encoder = Encoder(3)\n",
    "print(encoder.cifra(\"Lorem ipsum dolor sit amet, consectetur adipiscing elit.\"))\n",
    "print(encoder.decifra(\"Oruhp#lsvxp#groru#vlw#dphw/#frqvhfwhwxu#dglslvflqj#holw1\"))"
   ]
  },
  {
   "cell_type": "markdown",
   "metadata": {},
   "source": [
    "Output atteso:\n",
    "\n",
    "<pre>\n",
    "Oruhp#lsvxp#groru#vlw#dphw/#frqvhfwhwxu#dglslvflqj#holw1\n",
    "Lorem ipsum dolor sit amet, consectetur adipiscing elit.\n",
    "</pre>"
   ]
  }
 ],
 "metadata": {
  "colab": {
   "collapsed_sections": [],
   "default_view": {},
   "name": "Funzioni.ipynb",
   "provenance": [],
   "version": "0.3.2",
   "views": {}
  },
  "kernelspec": {
   "display_name": "Python 3",
   "language": "python",
   "name": "python3"
  },
  "language_info": {
   "codemirror_mode": {
    "name": "ipython",
    "version": 3
   },
   "file_extension": ".py",
   "mimetype": "text/x-python",
   "name": "python",
   "nbconvert_exporter": "python",
   "pygments_lexer": "ipython3",
   "version": "3.6.1"
  }
 },
 "nbformat": 4,
 "nbformat_minor": 2
}
