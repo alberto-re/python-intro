{
 "cells": [
  {
   "cell_type": "markdown",
   "metadata": {},
   "source": [
    "# Stringhe"
   ]
  },
  {
   "cell_type": "markdown",
   "metadata": {},
   "source": [
    "## 1.\n",
    "\n",
    "Fornisci i formati corretti alle istruzioni print() che seguono in modo da ottenere gli output attesi.\n",
    "\n",
    "Inserisci le soluzioni tra i tag _INIZIO_ e _FINE_."
   ]
  },
  {
   "cell_type": "code",
   "execution_count": null,
   "metadata": {},
   "outputs": [],
   "source": [
    "# - INIZIO -\n",
    "formato = ..\n",
    "# - FINE -\n",
    "\n",
    "print(formato % (\"cane\", 4))"
   ]
  },
  {
   "cell_type": "markdown",
   "metadata": {},
   "source": [
    "Output atteso:\n",
    "\n",
    "<pre>\n",
    "Un cane ha 4 zampe\n",
    "</pre>"
   ]
  },
  {
   "cell_type": "code",
   "execution_count": null,
   "metadata": {},
   "outputs": [],
   "source": [
    "# - INIZIO -\n",
    "formato = ..\n",
    "# - FINE -\n",
    "\n",
    "dati = {\n",
    "    \"codice\": \"CO018830\",\n",
    "    \"prezzo\": 10320.0524,\n",
    "    \"valuta\": \"euro\"\n",
    "}\n",
    "\n",
    "print(formato % dati)"
   ]
  },
  {
   "cell_type": "markdown",
   "metadata": {},
   "source": [
    "Output atteso:\n",
    "\n",
    "<pre>\n",
    "CO018830   10320.05 euro\n",
    "</pre>"
   ]
  },
  {
   "cell_type": "markdown",
   "metadata": {},
   "source": [
    "## 2.\n",
    "\n",
    "Scrivi una funzione che data una stringa restituisca un dizionario contenente il numero di occorrenze per ogni carattere.\n",
    "\n",
    "Es.: \"camminare\" -> {\"c\": 1, \"a\": 2, \"m\": 2, \"i\": 1, \"n\": 1, \"r\": 1, \"e\": 1}\n",
    "\n",
    "Inserisci la soluzioni tra i tag _INIZIO_ e _FINE_."
   ]
  },
  {
   "cell_type": "code",
   "execution_count": 2,
   "metadata": {},
   "outputs": [],
   "source": [
    "def char_count(stringa):\n",
    "    # - INIZIO -\n",
    "    return\n",
    "     # - FINE -"
   ]
  },
  {
   "cell_type": "code",
   "execution_count": null,
   "metadata": {},
   "outputs": [],
   "source": [
    "char_count(\"Sempre caro mi fu quest'ermo colle\")"
   ]
  },
  {
   "cell_type": "markdown",
   "metadata": {},
   "source": [
    "Output atteso (l'ordine non è rilevante):\n",
    "\n",
    "<pre>\n",
    "{' ': 5,\n",
    " \"'\": 1,\n",
    " 'S': 1,\n",
    " 'a': 1,\n",
    " 'c': 2,\n",
    " 'e': 5,\n",
    " 'f': 1,\n",
    " 'i': 1,\n",
    " 'l': 2,\n",
    " 'm': 3,\n",
    " 'o': 3,\n",
    " 'p': 1,\n",
    " 'q': 1,\n",
    " 'r': 3,\n",
    " 's': 1,\n",
    " 't': 1,\n",
    " 'u': 2}\n",
    "</pre>"
   ]
  },
  {
   "cell_type": "markdown",
   "metadata": {},
   "source": [
    "## 3.\n",
    "\n",
    "Scrivi una funzione che rimuova il carattere con indice n da una stringa non vuota.\n",
    "\n",
    "Es.: \"camminare\", indice 3 -> \"caminare\"\n",
    "\n",
    "Inserisci la soluzione tra i tag _INIZIO_ e _FINE_."
   ]
  },
  {
   "cell_type": "code",
   "execution_count": 1,
   "metadata": {},
   "outputs": [],
   "source": [
    "def rimuovi_ennesimo(stringa, posizione):\n",
    "    # - INIZIO -\n",
    "    return\n",
    "     # - FINE -"
   ]
  },
  {
   "cell_type": "code",
   "execution_count": null,
   "metadata": {},
   "outputs": [],
   "source": [
    "print(rimuovi_ennesimo(\"aeroplano\", 7))\n",
    "print(rimuovi_ennesimo(\"ore\", 0))\n",
    "print(rimuovi_ennesimo(\"catturare\", 5))"
   ]
  },
  {
   "cell_type": "markdown",
   "metadata": {},
   "source": [
    "Output atteso:\n",
    "\n",
    "<pre>\n",
    "aeroplao\n",
    "re\n",
    "cattuare\n",
    "</pre>"
   ]
  },
  {
   "cell_type": "markdown",
   "metadata": {},
   "source": [
    "## 4.\n",
    "\n",
    "Scrivi una funzione che data una stringa restituisca una lista avente come primo elemento il numero delle righe, come secondo il numero di parole e come terzo il numero di caratteri della stringa passata come parametro.\n",
    "\n",
    "Es.: \"Lorem ipsum dolor sit amet\" -> [1, 5, 26]\n",
    "\n",
    "Inserisci la soluzione tra i tag _INIZIO_ e _FINE_."
   ]
  },
  {
   "cell_type": "code",
   "execution_count": 3,
   "metadata": {},
   "outputs": [],
   "source": [
    "def wc(stringa):\n",
    "    # - INIZIO -\n",
    "    return\n",
    "     # - FINE -"
   ]
  },
  {
   "cell_type": "code",
   "execution_count": null,
   "metadata": {},
   "outputs": [],
   "source": [
    "testo = \"\"\"\\\n",
    "# Do not remove the following line, or various programs\n",
    "# that require network functionality will fail.\n",
    "127.0.0.1       localhost.localdomain localhost\n",
    "::1     localhost6.localdomain6 localhost6\n",
    "\"\"\""
   ]
  },
  {
   "cell_type": "code",
   "execution_count": null,
   "metadata": {},
   "outputs": [],
   "source": [
    "wc(testo)"
   ]
  },
  {
   "cell_type": "markdown",
   "metadata": {},
   "source": [
    "Output atteso:\n",
    "\n",
    "<pre>\n",
    "[4, 23, 195]\n",
    "</pre>"
   ]
  },
  {
   "cell_type": "markdown",
   "metadata": {},
   "source": [
    "## 5.\n",
    "\n",
    "Formula una espressione regolare che riconosca i seguenti gruppi di parole all'interno del testo dell'Infinito di Leopardi:\n",
    "\n",
    "<pre>\n",
    "\"questa siepe, che da\"\n",
    "\"da quella, e sovrumani\"\n",
    "\"si spaura. E come\"\n",
    "\"queste piante, io quello\"\n",
    "\"morte stagioni, e la\"\n",
    "\"E viva, e il\"\n",
    "\"di lei. Così tra\"\n",
    "</pre>\n",
    "\n",
    "Utilizza la funzione più adatta tra quelle messe a disposizione dal modulo **re** per estrarre tutte le occorrenze dal testo e stamparle utilizzando la regex elaborata.\n",
    "\n",
    "Inserisci la soluzione tra i tag _INIZIO_ e _FINE_."
   ]
  },
  {
   "cell_type": "code",
   "execution_count": null,
   "metadata": {},
   "outputs": [],
   "source": [
    "testo = \"\"\"\n",
    "Sempre caro mi fu quest'ermo colle,\n",
    "E questa siepe, che da tanta parte\n",
    "Dell'ultimo orizzonte il guardo esclude.\n",
    "Ma sedendo e mirando, interminati\n",
    "Spazi di là da quella, e sovrumani\n",
    "Silenzi, e profondissima quiete\n",
    "Io nel pensier mi fingo; ove per poco\n",
    "Il cor non si spaura. E come il vento\n",
    "Odo stormir tra queste piante, io quello\n",
    "Infinito silenzio a questa voce\n",
    "Vo comparando: e mi sovvien l'eterno,\n",
    "E le morte stagioni, e la presente\n",
    "E viva, e il suon di lei. Così tra questa\n",
    "Immensità s'annega il pensier mio:\n",
    "E il naufragar m'è dolce in questo mare.\n",
    "\"\"\"\n",
    "\n",
    "import re\n",
    "# - INIZIO -\n",
    "..\n",
    "# - FINE -"
   ]
  },
  {
   "cell_type": "markdown",
   "metadata": {},
   "source": [
    "Output atteso:\n",
    "\n",
    "<pre>\n",
    "questa siepe, che da\n",
    "da quella, e sovrumani\n",
    "si spaura. E come\n",
    "queste piante, io quello\n",
    "morte stagioni, e la\n",
    "E viva, e il\n",
    "di lei. Così tra\n",
    "</pre>"
   ]
  }
 ],
 "metadata": {
  "kernelspec": {
   "display_name": "Python 3",
   "language": "python",
   "name": "python3"
  },
  "language_info": {
   "codemirror_mode": {
    "name": "ipython",
    "version": 3
   },
   "file_extension": ".py",
   "mimetype": "text/x-python",
   "name": "python",
   "nbconvert_exporter": "python",
   "pygments_lexer": "ipython3",
   "version": "3.6.0"
  }
 },
 "nbformat": 4,
 "nbformat_minor": 2
}
