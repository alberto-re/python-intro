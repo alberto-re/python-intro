{
  "nbformat": 4,
  "nbformat_minor": 0,
  "metadata": {
    "colab": {
      "name": "07 Sistema Operativo.ipynb",
      "version": "0.3.2",
      "views": {},
      "default_view": {},
      "provenance": [],
      "collapsed_sections": []
    },
    "kernelspec": {
      "name": "python3",
      "display_name": "Python 3"
    }
  },
  "cells": [
    {
      "metadata": {
        "id": "QqKKCkh-3RSD",
        "colab_type": "text"
      },
      "cell_type": "markdown",
      "source": [
        "# Istruzioni\n",
        "\n",
        "\n",
        "In questa esercitazione utilizzerai le varie funzioni della libreria _pathlib_ per esplorare e manipolare in maniera interattiva il file system su cui è in esecuzione questo notebook.\n",
        "\n",
        "Inserisci le istruzioni necessare ad effettuare l'operazione richiesta di volta in volta. Come al solito, inserisci il tuo codice tra i tag _- INIZIO -_  e  _- FINE -_."
      ]
    },
    {
      "metadata": {
        "id": "bs0adpqF223C",
        "colab_type": "text"
      },
      "cell_type": "markdown",
      "source": [
        "# Esercizio\n",
        "\n",
        "## 1.\n",
        "\n",
        "Crea un oggetto _path_ posizionato nella directory corrente:"
      ]
    },
    {
      "metadata": {
        "id": "JMauPb-QyOyc",
        "colab_type": "code",
        "colab": {
          "autoexec": {
            "startup": false,
            "wait_interval": 0
          }
        }
      },
      "cell_type": "code",
      "source": [
        "from pathlib import Path\n",
        "# - INIZIO -\n",
        "path = ..\n",
        "# - FINE -"
      ],
      "execution_count": 0,
      "outputs": []
    },
    {
      "metadata": {
        "id": "7uE4IS4o7sTK",
        "colab_type": "text"
      },
      "cell_type": "markdown",
      "source": [
        "Stampa il path corrente:"
      ]
    },
    {
      "metadata": {
        "id": "M2MS24jG7rl1",
        "colab_type": "code",
        "colab": {
          "autoexec": {
            "startup": false,
            "wait_interval": 0
          }
        }
      },
      "cell_type": "code",
      "source": [
        "print(path)"
      ],
      "execution_count": 0,
      "outputs": []
    },
    {
      "metadata": {
        "id": "U2_xlYyd7wY5",
        "colab_type": "text"
      },
      "cell_type": "markdown",
      "source": [
        "Output atteso:\n",
        "\n",
        "<pre>\n",
        "/content\n",
        "</pre>"
      ]
    },
    {
      "metadata": {
        "id": "-hVaUP7z4QXt",
        "colab_type": "text"
      },
      "cell_type": "markdown",
      "source": [
        "## 2.\n",
        "\n",
        "Elenca i file contenuti nel path corrente:"
      ]
    },
    {
      "metadata": {
        "id": "MwvUw3ncyVXF",
        "colab_type": "code",
        "colab": {
          "autoexec": {
            "startup": false,
            "wait_interval": 0
          }
        }
      },
      "cell_type": "code",
      "source": [
        "# - INIZIO -\n",
        "..\n",
        "# - FINE -"
      ],
      "execution_count": 0,
      "outputs": []
    },
    {
      "metadata": {
        "id": "PWSqc3RP4Z-N",
        "colab_type": "text"
      },
      "cell_type": "markdown",
      "source": [
        "Output atteso:\n",
        "\n",
        "<pre>\n",
        "/content/datalab\n",
        "/content/.rnd\n",
        "/content/.ipython\n",
        "/content/.local\n",
        "/content/.forever\n",
        "/content/.config\n",
        "/content/.cache\n",
        "</pre>"
      ]
    },
    {
      "metadata": {
        "id": "tzxFizk645_q",
        "colab_type": "text"
      },
      "cell_type": "markdown",
      "source": [
        "## 3.\n",
        "\n",
        "Spostati all'interno della sottodirectory _datalab_:"
      ]
    },
    {
      "metadata": {
        "id": "QBhWiDvYydMa",
        "colab_type": "code",
        "colab": {
          "autoexec": {
            "startup": false,
            "wait_interval": 0
          }
        }
      },
      "cell_type": "code",
      "source": [
        "# - INIZIO -\n",
        "path = ..\n",
        "# - FINE -"
      ],
      "execution_count": 0,
      "outputs": []
    },
    {
      "metadata": {
        "id": "D6pjKmzv5Nv7",
        "colab_type": "text"
      },
      "cell_type": "markdown",
      "source": [
        "## 4.\n",
        "\n",
        "Crea la seguente struttura di directory all'interno del path corrente:\n",
        "\n",
        "<pre>\n",
        "./adir\n",
        "./bdir/cdir/ddir\n",
        "</pre>"
      ]
    },
    {
      "metadata": {
        "id": "OH8FWoyJ1k-U",
        "colab_type": "code",
        "colab": {
          "autoexec": {
            "startup": false,
            "wait_interval": 0
          }
        }
      },
      "cell_type": "code",
      "source": [
        "# - INIZIO -\n",
        "..\n",
        "# - FINE -"
      ],
      "execution_count": 0,
      "outputs": []
    },
    {
      "metadata": {
        "id": "LpHDfKqN641f",
        "colab_type": "text"
      },
      "cell_type": "markdown",
      "source": [
        "## 5.\n",
        "\n",
        "Rimuovi la directory _ddir_ che si trova sotto _bdir/cdir_.\n",
        "\n",
        "Puoi cercare la funzione apposita utilizzando il comando _help(path)_."
      ]
    },
    {
      "metadata": {
        "id": "5V7ACNZb7MKj",
        "colab_type": "code",
        "colab": {
          "autoexec": {
            "startup": false,
            "wait_interval": 0
          }
        }
      },
      "cell_type": "code",
      "source": [
        "# - INIZIO -\n",
        "..\n",
        "# - FINE -"
      ],
      "execution_count": 0,
      "outputs": []
    },
    {
      "metadata": {
        "id": "Pbuo8T7N8t0L",
        "colab_type": "text"
      },
      "cell_type": "markdown",
      "source": [
        "## 6.\n",
        "\n",
        "Crea un file chiamato _foobar_ all'interno del percorso _bdir/cdir_ con il seguente contenuto:\n",
        "\n",
        "<pre>\n",
        "Lorem ipsum dolor sit amet, consectetur adipiscing elit.\n",
        "In malesuada semper mi, quis pellentesque nunc pretium vel.\n",
        "Proin vestibulum orci sapien, et fringilla leo consectetur quis.\n",
        "</pre>"
      ]
    },
    {
      "metadata": {
        "id": "i-VdiWmC9XC6",
        "colab_type": "code",
        "colab": {
          "autoexec": {
            "startup": false,
            "wait_interval": 0
          }
        }
      },
      "cell_type": "code",
      "source": [
        "testo = \"\"\"\\\n",
        "Lorem ipsum dolor sit amet, consectetur adipiscing elit.\n",
        "In malesuada semper mi, quis pellentesque nunc pretium vel.\n",
        "Proin vestibulum orci sapien, et fringilla leo consectetur quis.\\\n",
        "\"\"\"\n",
        "# - INIZIO -\n",
        "..\n",
        "# - FINE -"
      ],
      "execution_count": 0,
      "outputs": []
    },
    {
      "metadata": {
        "id": "evF52T179qy1",
        "colab_type": "text"
      },
      "cell_type": "markdown",
      "source": [
        "## 7.\n",
        "\n",
        "Verifica che il percorso _bdir/cdir/foobar_ corrisponda effetivamente ad un file e non ad una directory:"
      ]
    },
    {
      "metadata": {
        "id": "87UChoUr9g0i",
        "colab_type": "code",
        "colab": {
          "autoexec": {
            "startup": false,
            "wait_interval": 0
          }
        }
      },
      "cell_type": "code",
      "source": [
        "# - INIZIO -\n",
        "..\n",
        "# - FINE -"
      ],
      "execution_count": 0,
      "outputs": []
    },
    {
      "metadata": {
        "id": "sr_g9xFO-T1N",
        "colab_type": "text"
      },
      "cell_type": "markdown",
      "source": [
        "## 8.\n",
        "\n",
        "Verifica di trovarti ancora nella directory _content_ (dovresti: nel caso riposizionati), e cerca ricorsivamente tutti i file e le directory qui contenute che contengono la stringa \"dir\" nel nome:"
      ]
    },
    {
      "metadata": {
        "id": "393PiWvJ-ZBE",
        "colab_type": "code",
        "colab": {
          "autoexec": {
            "startup": false,
            "wait_interval": 0
          }
        }
      },
      "cell_type": "code",
      "source": [
        "# - INIZIO -\n",
        "..\n",
        "# - FINE "
      ],
      "execution_count": 0,
      "outputs": []
    }
  ]
}