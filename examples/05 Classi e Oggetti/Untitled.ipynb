{
 "cells": [
  {
   "cell_type": "code",
   "execution_count": null,
   "metadata": {},
   "outputs": [],
   "source": [
    "# La parola chiave 'class' introduce la definizione di una nuova classe\n",
    "class Account:\n",
    "    \n",
    "    STATUSES = (\"active\", \"suspended\", \"expired\")\n",
    "    \n",
    "    # Il nome '__init__' viene utilizzato per definire il costruttore,\n",
    "    # ovvero il metodo che viene invocato al momento della creazione\n",
    "    # di un oggetto, e che si occupa di inizializzarne lo stato.\n",
    "    def __init__(self, id, sai, status):\n",
    "        self._id = id\n",
    "        self._sai = sai\n",
    "        self._status = self.STATUSES.index(status)\n",
    "    \n",
    "    # Sebbene non necessario l'utilizzo di getter e setter per\n",
    "    # l'accesso agli attributi è una buona pratica incoraggiata\n",
    "    # anche in Python.\n",
    "    # \n",
    "    # Qui vediamo un esempio di'getter', ovvero un metodo che\n",
    "    # restituisce il valore di un attributo.\n",
    "    @property\n",
    "    def id(self):\n",
    "        return self._id\n",
    "    \n",
    "    @property\n",
    "    def sai(self):\n",
    "        return self._sai\n",
    "    \n",
    "    @property\n",
    "    def status(self):\n",
    "        return self.STATUSES[self._status]\n",
    "\n",
    "    # Un 'setter' è un metodo che modifica un attributo.\n",
    "    @status.setter\n",
    "    def status(self, value):\n",
    "        if value not in self.STATUSES:\n",
    "            raise ValueError(\"status value must be one of {}\".format(\", \".join(self.STATUSES)))\n",
    "        self._status = self.STATUSES.index(value)    "
   ]
  }
 ],
 "metadata": {
  "kernelspec": {
   "display_name": "Python 3",
   "language": "python",
   "name": "python3"
  },
  "language_info": {
   "codemirror_mode": {
    "name": "ipython",
    "version": 3
   },
   "file_extension": ".py",
   "mimetype": "text/x-python",
   "name": "python",
   "nbconvert_exporter": "python",
   "pygments_lexer": "ipython3",
   "version": "3.6.1"
  }
 },
 "nbformat": 4,
 "nbformat_minor": 2
}
