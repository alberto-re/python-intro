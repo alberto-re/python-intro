{
 "cells": [
  {
   "cell_type": "code",
   "execution_count": 1,
   "metadata": {},
   "outputs": [],
   "source": [
    "from pathlib import Path"
   ]
  },
  {
   "cell_type": "code",
   "execution_count": 2,
   "metadata": {},
   "outputs": [],
   "source": [
    "def loc(root, exts=[\"c\"], encoding=\"utf-8\", newline=\"\\n\"):\n",
    "    \"\"\"Counts LOC (Lines of Code) by file extension.\n",
    "\n",
    "    Args:\n",
    "        root: a string representing the repository root directory\n",
    "        exts: optional, a list of file extensions. By default only 'c' is considered.\n",
    "        encoding: optional, the encoding of the files. Default is 'utf-8'.\n",
    "        newline: optional, the newline character. Default is '\\n'.\n",
    "\n",
    "    Returns:\n",
    "        A dict mapping extensions to number of files and total number of lines.\n",
    "    \"\"\"\n",
    "    stats = {ext: {\"files\": 0, \"loc\": 0} for ext in exts}\n",
    "    for ext in exts:\n",
    "        matches = Path(root).glob(\"**/*.{}\".format(ext))\n",
    "        for match in matches:\n",
    "            stats[ext][\"files\"] += 1\n",
    "            stats[ext][\"loc\"] += len(match.read_text(encoding=encoding).split(newline))\n",
    "    return stats"
   ]
  },
  {
   "cell_type": "code",
   "execution_count": 3,
   "metadata": {},
   "outputs": [],
   "source": [
    "stats = loc(\"C:/Users/are/Development/git\", [\"c\", \"pl\", \"py\", \"go\"])"
   ]
  },
  {
   "cell_type": "code",
   "execution_count": 4,
   "metadata": {},
   "outputs": [
    {
     "name": "stdout",
     "output_type": "stream",
     "text": [
      "\t\tLOC\tFiles\n",
      "Extension: c\t0\t0\n",
      "Extension: pl\t0\t0\n",
      "Extension: py\t0\t0\n",
      "Extension: go\t0\t0\n"
     ]
    }
   ],
   "source": [
    "print(\"\\t\\tLOC\\tFiles\")\n",
    "for ext, extstats in sorted(stats.items(), key=lambda x: x[1][\"loc\"], reverse=True):\n",
    "    print(\"Extension: {}\\t{}\\t{}\".format(ext, extstats[\"loc\"], extstats[\"files\"]))"
   ]
  }
 ],
 "metadata": {
  "kernelspec": {
   "display_name": "Python 3",
   "language": "python",
   "name": "python3"
  },
  "language_info": {
   "codemirror_mode": {
    "name": "ipython",
    "version": 3
   },
   "file_extension": ".py",
   "mimetype": "text/x-python",
   "name": "python",
   "nbconvert_exporter": "python",
   "pygments_lexer": "ipython3",
   "version": "3.6.1"
  }
 },
 "nbformat": 4,
 "nbformat_minor": 2
}
