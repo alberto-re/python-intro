{
 "cells": [
  {
   "cell_type": "code",
   "execution_count": 1,
   "metadata": {},
   "outputs": [],
   "source": [
    "from pathlib import Path"
   ]
  },
  {
   "cell_type": "code",
   "execution_count": 2,
   "metadata": {},
   "outputs": [],
   "source": [
    "def slide_stats(root):\n",
    "    print(root)\n",
    "    stats = []\n",
    "    matches = root.glob(\"notebooks/*.ipynb\")\n",
    "    for match in matches:\n",
    "        filename = match.parts[-1]\n",
    "        n_slides = len([cell for cell in match.read_text().split() if cell == '\"slide\"'])\n",
    "        stats.append({\"file\": filename, \"n_slides\": n_slides})\n",
    "    return stats"
   ]
  },
  {
   "cell_type": "code",
   "execution_count": 3,
   "metadata": {},
   "outputs": [
    {
     "name": "stdout",
     "output_type": "stream",
     "text": [
      "C:\\Users\\Alberto\\Development\\python-intro\n"
     ]
    }
   ],
   "source": [
    "stats = slide_stats(Path.cwd().parent.parent)"
   ]
  },
  {
   "cell_type": "code",
   "execution_count": 4,
   "metadata": {},
   "outputs": [
    {
     "name": "stdout",
     "output_type": "stream",
     "text": [
      "00 Struttura del Corso.ipynb            10\n",
      "01 Introduzione.ipynb                   38\n",
      "02 Tipi di Dato.ipynb                   54\n",
      "03 Stringhe.ipynb                       35\n",
      "04 Funzioni.ipynb                       49\n",
      "05 Classi e Oggetti.ipynb               32\n",
      "06 Moduli.ipynb                         16\n",
      "07 Sistema Operativo.ipynb              34\n",
      "08 Networking.ipynb                     16\n",
      "09 Database Relazionali.ipynb           20\n",
      "\n",
      "Total                                   304\n"
     ]
    }
   ],
   "source": [
    "sum = 0\n",
    "for entry in stats:\n",
    "    sum += entry[\"n_slides\"]\n",
    "    print(\"{:40s}{}\".format(entry[\"file\"], entry[\"n_slides\"]))\n",
    "print()\n",
    "print(\"{:40s}{}\".format(\"Total\", sum))"
   ]
  }
 ],
 "metadata": {
  "kernelspec": {
   "display_name": "Python 3",
   "language": "python",
   "name": "python3"
  },
  "language_info": {
   "codemirror_mode": {
    "name": "ipython",
    "version": 3
   },
   "file_extension": ".py",
   "mimetype": "text/x-python",
   "name": "python",
   "nbconvert_exporter": "python",
   "pygments_lexer": "ipython3",
   "version": "3.6.5"
  }
 },
 "nbformat": 4,
 "nbformat_minor": 2
}
