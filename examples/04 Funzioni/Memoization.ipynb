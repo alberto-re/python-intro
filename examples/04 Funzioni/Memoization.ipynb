{
 "cells": [
  {
   "cell_type": "markdown",
   "metadata": {},
   "source": [
    "# Memoization\n",
    "\n",
    "Con il termine memoization si intende il salvataggio in memoria (_caching_) dei valori restituiti da una funzione per evitarne il ricalcolo nel caso venga rieseguita con gli stessi parametri.\n",
    "\n",
    "In questo esempio vedremo come implementare questa tecnica attraverso l'uso di un decoratore per effettuare il caching di alcune richieste HTTP."
   ]
  },
  {
   "cell_type": "code",
   "execution_count": 1,
   "metadata": {},
   "outputs": [],
   "source": [
    "import time\n",
    "import requests"
   ]
  },
  {
   "cell_type": "code",
   "execution_count": 2,
   "metadata": {},
   "outputs": [],
   "source": [
    "def httpget(url):\n",
    "    result = requests.get(url)\n",
    "    return (result.status_code, result.text)"
   ]
  },
  {
   "cell_type": "code",
   "execution_count": 3,
   "metadata": {},
   "outputs": [],
   "source": [
    "urls = [\"http://www.lastampa.it/\", \"http://www.repubblica.it/\", \"https://www.corriere.it/\"]"
   ]
  },
  {
   "cell_type": "code",
   "execution_count": 4,
   "metadata": {},
   "outputs": [
    {
     "name": "stdout",
     "output_type": "stream",
     "text": [
      "http://www.lastampa.it/    : 200 in 0.368 secondi\n",
      "http://www.repubblica.it/  : 200 in 0.217 secondi\n",
      "https://www.corriere.it/   : 200 in 0.694 secondi\n",
      "http://www.lastampa.it/    : 200 in 0.307 secondi\n",
      "http://www.repubblica.it/  : 200 in 0.146 secondi\n",
      "https://www.corriere.it/   : 200 in 0.281 secondi\n",
      "http://www.lastampa.it/    : 200 in 0.318 secondi\n",
      "http://www.repubblica.it/  : 200 in 0.150 secondi\n",
      "https://www.corriere.it/   : 200 in 0.326 secondi\n"
     ]
    }
   ],
   "source": [
    "for _ in range(0, 3):\n",
    "    for url in urls:\n",
    "        before = time.time()\n",
    "        (status, text) = httpget(url)\n",
    "        elapsed = time.time() - before\n",
    "        print(\"{:26} : {} in {:02.3f} secondi\".format(url, status, elapsed))"
   ]
  },
  {
   "cell_type": "code",
   "execution_count": 5,
   "metadata": {},
   "outputs": [],
   "source": [
    "def memoize(method):\n",
    "    cache_dict = {}\n",
    "    def do_cache(*args):\n",
    "        if args in cache_dict:\n",
    "            return cache_dict[args]\n",
    "        else:\n",
    "            result = method(*args)\n",
    "            cache_dict[args] = result\n",
    "            return result\n",
    "        return result\n",
    "    return do_cache"
   ]
  },
  {
   "cell_type": "code",
   "execution_count": 6,
   "metadata": {},
   "outputs": [],
   "source": [
    "@memoize\n",
    "def httpget(url):\n",
    "    result = requests.get(url)\n",
    "    return (result.status_code, result.text)"
   ]
  },
  {
   "cell_type": "code",
   "execution_count": 7,
   "metadata": {},
   "outputs": [
    {
     "name": "stdout",
     "output_type": "stream",
     "text": [
      "http://www.lastampa.it/    : 200 in 0.403 secondi\n",
      "http://www.repubblica.it/  : 200 in 0.201 secondi\n",
      "https://www.corriere.it/   : 200 in 0.355 secondi\n",
      "http://www.lastampa.it/    : 200 in 0.000 secondi\n",
      "http://www.repubblica.it/  : 200 in 0.000 secondi\n",
      "https://www.corriere.it/   : 200 in 0.000 secondi\n",
      "http://www.lastampa.it/    : 200 in 0.000 secondi\n",
      "http://www.repubblica.it/  : 200 in 0.000 secondi\n",
      "https://www.corriere.it/   : 200 in 0.000 secondi\n"
     ]
    }
   ],
   "source": [
    "for _ in range(0, 3):\n",
    "    for url in urls:\n",
    "        before = time.time()\n",
    "        (status, text) = httpget(url)\n",
    "        elapsed = time.time() - before\n",
    "        print(\"{:26} : {} in {:02.3f} secondi\".format(url, status, elapsed))"
   ]
  }
 ],
 "metadata": {
  "kernelspec": {
   "display_name": "Python 3",
   "language": "python",
   "name": "python3"
  },
  "language_info": {
   "codemirror_mode": {
    "name": "ipython",
    "version": 3
   },
   "file_extension": ".py",
   "mimetype": "text/x-python",
   "name": "python",
   "nbconvert_exporter": "python",
   "pygments_lexer": "ipython3",
   "version": "3.6.1"
  }
 },
 "nbformat": 4,
 "nbformat_minor": 2
}
